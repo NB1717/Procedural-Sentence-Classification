{
  "nbformat": 4,
  "nbformat_minor": 0,
  "metadata": {
    "colab": {
      "provenance": [],
      "gpuType": "T4"
    },
    "kernelspec": {
      "name": "python3",
      "display_name": "Python 3"
    },
    "language_info": {
      "name": "python"
    },
    "accelerator": "GPU"
  },
  "cells": [
    {
      "cell_type": "code",
      "source": [
        "!pip install langchain openai crewai faiss-cpu langchain_openai\n",
        "!pip install -U langchain-community\n",
        "!pip install -q -U bitsandbytes\n",
        "!pip install -q -U git+https://github.com/huggingface/transformers.git\n",
        "!pip install -q -U git+https://github.com/huggingface/peft.git\n",
        "!pip install -q -U git+https://github.com/huggingface/accelerate.git\n",
        "!pip install -q -U datasets scipy ipywidgets matplotlib\n",
        "!pip install -q trl"
      ],
      "metadata": {
        "id": "TGcqFZ81iL-Q"
      },
      "execution_count": null,
      "outputs": []
    },
    {
      "cell_type": "code",
      "source": [
        "!python --version"
      ],
      "metadata": {
        "id": "JgOJU2hdn_lx",
        "outputId": "e1796a0b-c300-4f9e-818a-026c3f724c01",
        "colab": {
          "base_uri": "https://localhost:8080/"
        }
      },
      "execution_count": null,
      "outputs": [
        {
          "output_type": "stream",
          "name": "stdout",
          "text": [
            "Python 3.11.12\n"
          ]
        }
      ]
    },
    {
      "cell_type": "code",
      "source": [
        "!pip freeze > requirements.txt"
      ],
      "metadata": {
        "id": "Xih3DugjoCap"
      },
      "execution_count": null,
      "outputs": []
    },
    {
      "cell_type": "code",
      "source": [
        "import pandas as pd"
      ],
      "metadata": {
        "id": "YuK-EmJlu6Ba"
      },
      "execution_count": null,
      "outputs": []
    },
    {
      "cell_type": "code",
      "source": [
        "with open(\"SPKS.txt\", \"r\", encoding=\"utf-8\") as f:\n",
        "    lines = f.readlines()"
      ],
      "metadata": {
        "id": "xiuVmcBUvFJB"
      },
      "execution_count": null,
      "outputs": []
    },
    {
      "cell_type": "code",
      "source": [
        "lines = list(map(lambda x : x.split('@'),lines))\n",
        "lines.pop(0)"
      ],
      "metadata": {
        "id": "SJdwdXRkvkFJ"
      },
      "execution_count": null,
      "outputs": []
    },
    {
      "cell_type": "code",
      "source": [
        "df = pd.DataFrame(lines,columns=['label','sentence'])"
      ],
      "metadata": {
        "id": "_Auw9pWaxB5c"
      },
      "execution_count": null,
      "outputs": []
    },
    {
      "cell_type": "code",
      "source": [
        "df['label'].value_counts()"
      ],
      "metadata": {
        "id": "-lKlXdHcxnhp"
      },
      "execution_count": null,
      "outputs": []
    },
    {
      "cell_type": "code",
      "source": [
        "def change_label(x):\n",
        "  if x == '__label__1':\n",
        "    return 'yes'\n",
        "  else:\n",
        "    return 'no'"
      ],
      "metadata": {
        "id": "vEb-Pvw49RpO"
      },
      "execution_count": null,
      "outputs": []
    },
    {
      "cell_type": "code",
      "source": [
        "df['label'] = df['label'].apply(change_label)"
      ],
      "metadata": {
        "id": "6RemCurh9hNd"
      },
      "execution_count": null,
      "outputs": []
    },
    {
      "cell_type": "code",
      "source": [
        "df"
      ],
      "metadata": {
        "id": "Cm_9X7kL9liE"
      },
      "execution_count": null,
      "outputs": []
    },
    {
      "cell_type": "code",
      "source": [
        "\n",
        "from sklearn.model_selection import train_test_split\n",
        "X_train, X_test, y_train, y_test = train_test_split(df['sentence'], df['label'], test_size=0.3, random_state=42)"
      ],
      "metadata": {
        "id": "0nhScQrl9nLD"
      },
      "execution_count": null,
      "outputs": []
    },
    {
      "cell_type": "code",
      "source": [
        "rag_lines = X_train + \" the sentence is procedural: \" + y_train\n",
        "print(rag_lines.values)"
      ],
      "metadata": {
        "id": "RtrK_7Uh9vjM"
      },
      "execution_count": null,
      "outputs": []
    },
    {
      "cell_type": "code",
      "source": [
        "import os\n",
        "os.environ[\"OPENAI_API_KEY\"] = \"\""
      ],
      "metadata": {
        "id": "vXqj223PJoKp"
      },
      "execution_count": null,
      "outputs": []
    },
    {
      "cell_type": "code",
      "source": [
        "from crewai import Agent, Task, Crew\n",
        "from langchain_openai import ChatOpenAI\n",
        "from langchain_core.prompts import PromptTemplate\n",
        "from langchain.chains import LLMChain\n",
        "from langchain.embeddings import OpenAIEmbeddings\n",
        "from langchain.vectorstores import FAISS\n",
        "from langchain.document_loaders import TextLoader\n",
        "from langchain.text_splitter import CharacterTextSplitter\n",
        "from langchain.schema import Document\n",
        "from crewai.tools import tool\n",
        "\n",
        "api_key=\"\"\n",
        "llm = ChatOpenAI(model=\"gpt-4o-mini\",api_key=api_key)\n",
        "\n",
        "documents = [Document(line) for line in rag_lines.values]\n",
        "splitter = CharacterTextSplitter(chunk_size=500, chunk_overlap=50)\n",
        "chunks = splitter.split_documents(documents)\n",
        "\n",
        "\n",
        "vectorstore = FAISS.from_documents(chunks, OpenAIEmbeddings(api_key=api_key))\n",
        "\n",
        "\n",
        "summarizer_prompt = PromptTemplate.from_template(\"\"\"\n",
        "Summarize the following procedural-related paragraph into one concise sentence:\n",
        "\n",
        "\"{input}\"\n",
        "\n",
        "Return only the summary sentence.\n",
        "\"\"\")\n",
        "summarizer = Agent(\n",
        "    role=\"Summarizer\",\n",
        "    goal=\"Summarize procedural {input_content} text into a single sentence.\",\n",
        "    backstory=\"A skilled agent that condenses complex procedural text into short summaries.\",\n",
        "    llm=llm,\n",
        "    prompt=summarizer_prompt,\n",
        "    verbose=True,\n",
        ")\n",
        "\n",
        "\n",
        "few_shot_examples = []\n",
        "for i in range(20):\n",
        "  d = f\"{{'input':{rag_lines.values[i]},'output':{y_train.values[i]}}}\"\n",
        "  few_shot_examples.append(d)\n",
        "\n",
        "classifier_prompt = PromptTemplate.from_examples(\n",
        "    examples=few_shot_examples,\n",
        "    suffix=\"Sentence: {input}\\n\\nReply with 'Yes' if procedural, otherwise 'No'.\",\n",
        "    input_variables=[\"input\"]\n",
        ")\n",
        "classifier = Agent(\n",
        "    role=\"Classifier\",\n",
        "    goal=\"Classify sentence as procedural or not using few-shot examples.\",\n",
        "    backstory=\"Expert in detecting whether sentences are valid surgical procedures.\",\n",
        "    llm=llm,\n",
        "    prompt=classifier_prompt,\n",
        "    verbose=True,\n",
        ")\n",
        "\n",
        "contextual_prompt = PromptTemplate.from_template(\"\"\"\n",
        "Using the context below, decide if the given sentence is a valid procedural step.\n",
        "\n",
        "Context:\n",
        "{context}\n",
        "\n",
        "Sentence:\n",
        "\"{input}\"\n",
        "\n",
        "Return 'Yes' or 'No' based on the evidence.\n",
        "\"\"\")\n",
        "retriever = vectorstore.as_retriever()\n",
        "\n",
        "@tool(\"contextual_search\")\n",
        "def search_tool(query: str) -> str:\n",
        "    \"\"\"Retrieve relevant examples using semantic similarity search.\n",
        "      Input should be a single sentence or short paragraph.\n",
        "      Returns a list of closely related sentences from the reference dataset.\n",
        "      Use this tool to verify, support, or challenge classification decisions by comparing with known labeled examples.\"\"\"\n",
        "\n",
        "    docs = retriever.invoke(query)\n",
        "\n",
        "    formatted_docs = \"\\n\\n\".join([\n",
        "        f\"Document {i+1}:\\n{'-'*40}\\n{doc.page_content}\"\n",
        "        for i, doc in enumerate(docs)\n",
        "    ])\n",
        "    return formatted_docs\n",
        "contextual = Agent(\n",
        "    role=\"Contextual Validator\",\n",
        "    goal=\"Verify classifier output using retrieval-augmented context.\",\n",
        "    backstory=\"Uses surgical knowledge base to validate classification decisions.\",\n",
        "    llm=llm,\n",
        "    tools=[search_tool],\n",
        "    prompt=contextual_prompt,\n",
        "    verbose=True,\n",
        ")\n",
        "\n",
        "\n",
        "validator_prompt = PromptTemplate.from_template(\"\"\"\n",
        "Given the results from classifier and context-check, validate final decision.\n",
        "\n",
        "Classifier output: {input1}\n",
        "Contextual output: {input2}\n",
        "\n",
        "If both are 'Yes', return JSON: {{ \"is_procedural\": true }}\n",
        "Otherwise return JSON: {{ \"is_procedural\": false }}\n",
        "\"\"\")\n",
        "validator = Agent(\n",
        "    role=\"Final Validator\",\n",
        "    goal=\"Finalize and format the decision into a structured JSON. \",\n",
        "    backstory=\"Ensures consistency between classifier and context output.\",\n",
        "    llm=llm,\n",
        "    prompt=validator_prompt,\n",
        "    verbose=True,\n",
        ")\n",
        "\n",
        "\n",
        "task1 = Task(\n",
        "    agent=summarizer,\n",
        "    description=\"Summarize procedural {input_content}.\",\n",
        "    expected_output=\"A concise single sentence summary of the input paragraph.\"\n",
        ")\n",
        "\n",
        "task2 = Task(\n",
        "    agent=classifier,\n",
        "    description=\"Classify summary as procedural or not using few-shot learning.\",\n",
        "    expected_output=\"'Yes' if procedural, otherwise 'No'.\"\n",
        ")\n",
        "\n",
        "task3 = Task(\n",
        "    agent=contextual,\n",
        "    description=\"Validate classifier decision using RAG-powered context.\",\n",
        "    expected_output=\"'Yes' if RAG context supports the classification, otherwise 'No'.\"\n",
        ")\n",
        "\n",
        "task4 = Task(\n",
        "    agent=validator,\n",
        "    description=\"Produce final structured JSON output.\",\n",
        "    expected_output='A JSON like: { \"is_procedural\": true } or { \"is_procedural\": false }'\n",
        ")\n",
        "\n",
        "\n",
        "crew = Crew(\n",
        "    agents=[summarizer, classifier, contextual, validator],\n",
        "    tasks=[task1, task2, task3, task4],\n",
        "    verbose=True,\n",
        ")\n",
        "\n",
        "\n",
        "\n"
      ],
      "metadata": {
        "id": "J9GGkcIk5bEH"
      },
      "execution_count": null,
      "outputs": []
    },
    {
      "cell_type": "code",
      "source": [
        "query = \"We always proceed performing a 3-cm utility incision at the 5th intercostal space anteriorly of the latissimus dorsi\"\n",
        "inputs = {\"input_content\":query}\n",
        "\n",
        "\n",
        "result = crew.kickoff(inputs=inputs)\n",
        "\n"
      ],
      "metadata": {
        "id": "O2iOT_xT_f2_"
      },
      "execution_count": null,
      "outputs": []
    },
    {
      "cell_type": "code",
      "source": [
        "import json\n",
        "json.loads(result.raw)['is_procedural']\n"
      ],
      "metadata": {
        "id": "CFkrdSRtJzkX"
      },
      "execution_count": null,
      "outputs": []
    },
    {
      "cell_type": "code",
      "source": [
        "preds = []\n",
        "for query in X_test.values:\n",
        "  inputs = {\"input_content\":query}\n",
        "  result = crew.kickoff(inputs=inputs)\n",
        "  out = json.loads(result.raw)['is_procedural']\n",
        "  if out in [True,False]:\n",
        "    preds.append(out)\n",
        "  else:\n",
        "    preds.append(None)"
      ],
      "metadata": {
        "id": "7n3_RWR1JFru"
      },
      "execution_count": null,
      "outputs": []
    },
    {
      "cell_type": "code",
      "source": [
        "df2 = pd.DataFrame(zip(preds,y_test.values),columns=['pred','label'])"
      ],
      "metadata": {
        "id": "Wldkvve-MM-W"
      },
      "execution_count": null,
      "outputs": []
    },
    {
      "cell_type": "code",
      "source": [
        "df2.to_csv('my_preds.csv')"
      ],
      "metadata": {
        "id": "yTE5aR814dod"
      },
      "execution_count": null,
      "outputs": []
    },
    {
      "cell_type": "code",
      "source": [
        "import pandas as pd"
      ],
      "metadata": {
        "id": "Y3gGU61I9ARO"
      },
      "execution_count": null,
      "outputs": []
    },
    {
      "cell_type": "code",
      "source": [
        "df = pd.read_csv('my_preds.csv',index_col=0)"
      ],
      "metadata": {
        "id": "3HitXZ5PO-67"
      },
      "execution_count": null,
      "outputs": []
    },
    {
      "cell_type": "code",
      "source": [
        "df"
      ],
      "metadata": {
        "id": "jSM3i3xbPWYy"
      },
      "execution_count": null,
      "outputs": []
    },
    {
      "cell_type": "code",
      "source": [
        "df['pred'] = df['pred'].apply(lambda x : int(x))"
      ],
      "metadata": {
        "id": "9vKrQ03TPXh1"
      },
      "execution_count": null,
      "outputs": []
    },
    {
      "cell_type": "code",
      "source": [
        "df['label'] = df['label'].apply(lambda x : int(x == 'yes'))"
      ],
      "metadata": {
        "id": "i69Q6JhIPxfU"
      },
      "execution_count": null,
      "outputs": []
    },
    {
      "cell_type": "code",
      "source": [
        "from sklearn.metrics import classification_report"
      ],
      "metadata": {
        "id": "R9IjsU-NP-CP"
      },
      "execution_count": null,
      "outputs": []
    },
    {
      "cell_type": "code",
      "source": [
        "print(classification_report(df['label'],df['pred']))"
      ],
      "metadata": {
        "colab": {
          "base_uri": "https://localhost:8080/"
        },
        "id": "cAHODZ73QDkz",
        "outputId": "fbdfe04d-c960-49bb-c6c1-8ea4ef7925d7"
      },
      "execution_count": null,
      "outputs": [
        {
          "output_type": "stream",
          "name": "stdout",
          "text": [
            "              precision    recall  f1-score   support\n",
            "\n",
            "           0       0.68      0.31      0.42       157\n",
            "           1       0.75      0.93      0.83       346\n",
            "\n",
            "    accuracy                           0.74       503\n",
            "   macro avg       0.71      0.62      0.63       503\n",
            "weighted avg       0.73      0.74      0.70       503\n",
            "\n"
          ]
        }
      ]
    },
    {
      "cell_type": "code",
      "source": [
        "df['pred'].value_counts()"
      ],
      "metadata": {
        "id": "1HGM6RHIQItu"
      },
      "execution_count": null,
      "outputs": []
    },
    {
      "cell_type": "code",
      "source": [
        "df['label'].value_counts()"
      ],
      "metadata": {
        "id": "I6UjpgeyQQ9G"
      },
      "execution_count": null,
      "outputs": []
    },
    {
      "cell_type": "markdown",
      "source": [
        "# Simple Multi Agents"
      ],
      "metadata": {
        "id": "VYABZwJ_L8_b"
      }
    },
    {
      "cell_type": "code",
      "source": [
        "import pandas as pd"
      ],
      "metadata": {
        "id": "V19y-xyAMBYR"
      },
      "execution_count": null,
      "outputs": []
    },
    {
      "cell_type": "code",
      "source": [
        "with open(\"SPKS.txt\", \"r\", encoding=\"utf-8\") as f:\n",
        "    lines = f.readlines()"
      ],
      "metadata": {
        "id": "ro3V7MjIMBYR"
      },
      "execution_count": null,
      "outputs": []
    },
    {
      "cell_type": "code",
      "source": [
        "lines = list(map(lambda x : x.split('@'),lines))\n",
        "lines.pop(0)"
      ],
      "metadata": {
        "id": "A28xTsGEMBYR"
      },
      "execution_count": null,
      "outputs": []
    },
    {
      "cell_type": "code",
      "source": [
        "df = pd.DataFrame(lines,columns=['label','sentence'])"
      ],
      "metadata": {
        "id": "9HpMMDsCMBYS"
      },
      "execution_count": null,
      "outputs": []
    },
    {
      "cell_type": "code",
      "source": [
        "df['label'].value_counts()"
      ],
      "metadata": {
        "id": "2lzT65LrMBYS"
      },
      "execution_count": null,
      "outputs": []
    },
    {
      "cell_type": "code",
      "source": [
        "def change_label(x):\n",
        "  if x == '__label__1':\n",
        "    return 'yes'\n",
        "  else:\n",
        "    return 'no'"
      ],
      "metadata": {
        "id": "Sih0qR3HMBYS"
      },
      "execution_count": null,
      "outputs": []
    },
    {
      "cell_type": "code",
      "source": [
        "df['label'] = df['label'].apply(change_label)"
      ],
      "metadata": {
        "id": "iQIpHH0fMBYT"
      },
      "execution_count": null,
      "outputs": []
    },
    {
      "cell_type": "code",
      "source": [
        "df"
      ],
      "metadata": {
        "id": "d2um6KHsMBYT"
      },
      "execution_count": null,
      "outputs": []
    },
    {
      "cell_type": "code",
      "source": [
        "\n",
        "from sklearn.model_selection import train_test_split\n",
        "X_train, X_test, y_train, y_test = train_test_split(df['sentence'], df['label'], test_size=0.3, random_state=42)"
      ],
      "metadata": {
        "id": "Us6OszbVMBYU"
      },
      "execution_count": null,
      "outputs": []
    },
    {
      "cell_type": "code",
      "source": [
        "!export OPENAI_API_KEY=\"\""
      ],
      "metadata": {
        "id": "qE9LRZgLMBYU"
      },
      "execution_count": null,
      "outputs": []
    },
    {
      "cell_type": "code",
      "source": [
        "rag_lines = X_train + \" the sentence is procedural: \" + y_train\n",
        "print(rag_lines.values)"
      ],
      "metadata": {
        "id": "b4J9EZ1PMBYU"
      },
      "execution_count": null,
      "outputs": []
    },
    {
      "cell_type": "code",
      "source": [
        "import os\n",
        "os.environ[\"OPENAI_API_KEY\"] = \"\""
      ],
      "metadata": {
        "id": "wu1I8adcMBYU"
      },
      "execution_count": null,
      "outputs": []
    },
    {
      "cell_type": "code",
      "source": [
        "from crewai import Agent, Task, Crew\n",
        "from langchain_openai import ChatOpenAI\n",
        "from langchain_core.prompts import PromptTemplate\n",
        "from langchain.chains import LLMChain\n",
        "from langchain.embeddings import OpenAIEmbeddings\n",
        "from langchain.vectorstores import FAISS\n",
        "from langchain.document_loaders import TextLoader\n",
        "from langchain.text_splitter import CharacterTextSplitter\n",
        "from langchain.schema import Document\n",
        "from crewai.tools import tool\n",
        "\n",
        "api_key=\"\"\n",
        "llm = ChatOpenAI(model=\"gpt-4o-mini\",api_key=api_key)\n",
        "\n",
        "\n",
        "\n",
        "few_shot_examples = []\n",
        "for i in range(50):\n",
        "  d = f\"{{'input':{rag_lines.values[i]},'output':{y_train.values[i]}}}\"\n",
        "  few_shot_examples.append(d)\n",
        "\n",
        "classifier_prompt = PromptTemplate.from_examples(\n",
        "    examples=few_shot_examples,\n",
        "    suffix=\"Sentence: {input}\\n\\nReply with 'Yes' if procedural, otherwise 'No'.\",\n",
        "    input_variables=[\"input\"]\n",
        ")\n",
        "classifier = Agent(\n",
        "    role=\"Classifier\",\n",
        "    goal=\"Classify sentence {input_content} as procedural or not using few-shot examples.\",\n",
        "    backstory=\"Expert in detecting whether sentences are valid surgical procedures.\",\n",
        "    llm=llm,\n",
        "    prompt=classifier_prompt,\n",
        "    verbose=True,\n",
        ")\n",
        "\n",
        "\n",
        "\n",
        "validator_prompt = PromptTemplate.from_template(\"\"\"\n",
        "Given the results from classifier , validate final decision.\n",
        "\n",
        "Classifier output: {input1}\n",
        "\n",
        "\n",
        "If both are 'Yes', return JSON: {{ \"is_procedural\": true }}\n",
        "Otherwise return JSON: {{ \"is_procedural\": false }}\n",
        "\"\"\")\n",
        "validator = Agent(\n",
        "    role=\"Final Validator\",\n",
        "    goal=\"Finalize and format the decision into a structured JSON. \",\n",
        "    backstory=\"Ensures consistency between classifier and context output.\",\n",
        "    llm=llm,\n",
        "    prompt=validator_prompt,\n",
        "    verbose=True,\n",
        ")\n",
        "\n",
        "\n",
        "\n",
        "task1 = Task(\n",
        "    agent=classifier,\n",
        "    description=\"Classify {input_content} as procedural or not using few-shot learning.\",\n",
        "    expected_output=\"'Yes' if procedural, otherwise 'No'.\"\n",
        ")\n",
        "\n",
        "\n",
        "\n",
        "task2 = Task(\n",
        "    agent=validator,\n",
        "    description=\"Produce final structured JSON output.\",\n",
        "    expected_output='A JSON like: { \"is_procedural\": true } or { \"is_procedural\": false }'\n",
        ")\n",
        "\n",
        "crew = Crew(\n",
        "    agents=[ classifier,  validator],\n",
        "    tasks=[task1, task2,],\n",
        "    verbose=True,\n",
        ")\n",
        "\n",
        "\n",
        "\n"
      ],
      "metadata": {
        "id": "GyAFRmsoMBYV"
      },
      "execution_count": null,
      "outputs": []
    },
    {
      "cell_type": "code",
      "source": [
        "query = \"We always proceed performing a 3-cm utility incision at the 5th intercostal space anteriorly of the latissimus dorsi\"\n",
        "inputs = {\"input_content\":query}\n",
        "\n",
        "\n",
        "result = crew.kickoff(inputs=inputs)\n",
        "\n"
      ],
      "metadata": {
        "id": "xfFIEIM5MBYV"
      },
      "execution_count": null,
      "outputs": []
    },
    {
      "cell_type": "code",
      "source": [
        "import json\n",
        "json.loads(result.raw)['is_procedural']\n"
      ],
      "metadata": {
        "id": "YifWu2oBMBYV"
      },
      "execution_count": null,
      "outputs": []
    },
    {
      "cell_type": "code",
      "source": [
        "preds = []\n",
        "for query in X_test.values:\n",
        "  inputs = {\"input_content\":query}\n",
        "  result = crew.kickoff(inputs=inputs)\n",
        "  out = json.loads(result.raw)['is_procedural']\n",
        "  if out in [True,False]:\n",
        "    preds.append(out)\n",
        "  else:\n",
        "    preds.append(None)"
      ],
      "metadata": {
        "id": "baZKj0mVMBYW"
      },
      "execution_count": null,
      "outputs": []
    },
    {
      "cell_type": "code",
      "source": [
        "df2 = pd.DataFrame(zip(preds,y_test.values),columns=['pred','label'])"
      ],
      "metadata": {
        "id": "2W2glvaaMBYh"
      },
      "execution_count": null,
      "outputs": []
    },
    {
      "cell_type": "code",
      "source": [
        "df2.to_csv('my_preds2.csv')"
      ],
      "metadata": {
        "id": "C51y_OuwMBYh"
      },
      "execution_count": null,
      "outputs": []
    },
    {
      "cell_type": "code",
      "source": [
        "import pandas as pd"
      ],
      "metadata": {
        "id": "JJ3xo3n8MBYh"
      },
      "execution_count": null,
      "outputs": []
    },
    {
      "cell_type": "code",
      "source": [
        "df = pd.read_csv('my_preds2.csv',index_col=0)"
      ],
      "metadata": {
        "id": "wCgl7yBjMBYi"
      },
      "execution_count": null,
      "outputs": []
    },
    {
      "cell_type": "code",
      "source": [
        "df"
      ],
      "metadata": {
        "id": "X7RYpEJGMBYi"
      },
      "execution_count": null,
      "outputs": []
    },
    {
      "cell_type": "code",
      "source": [
        "df['pred'] = df['pred'].apply(lambda x : int(x))"
      ],
      "metadata": {
        "id": "liHfYZpkMBYi"
      },
      "execution_count": null,
      "outputs": []
    },
    {
      "cell_type": "code",
      "source": [
        "df['label'] = df['label'].apply(lambda x : int(x == 'yes'))"
      ],
      "metadata": {
        "id": "M0Vj4CNgMBYi"
      },
      "execution_count": null,
      "outputs": []
    },
    {
      "cell_type": "code",
      "source": [
        "from sklearn.metrics import classification_report"
      ],
      "metadata": {
        "id": "J3M_oDaHMBYj"
      },
      "execution_count": null,
      "outputs": []
    },
    {
      "cell_type": "code",
      "source": [
        "print(classification_report(df['label'],df['pred']))"
      ],
      "metadata": {
        "colab": {
          "base_uri": "https://localhost:8080/"
        },
        "outputId": "cd4624b5-9268-4b57-a93f-99b1e0ac7522",
        "id": "YDiIjW4aMBYj"
      },
      "execution_count": null,
      "outputs": [
        {
          "output_type": "stream",
          "name": "stdout",
          "text": [
            "              precision    recall  f1-score   support\n",
            "\n",
            "           0       0.74      0.56      0.64       217\n",
            "           1       0.81      0.91      0.86       458\n",
            "\n",
            "    accuracy                           0.80       675\n",
            "   macro avg       0.78      0.73      0.75       675\n",
            "weighted avg       0.79      0.80      0.79       675\n",
            "\n"
          ]
        }
      ]
    },
    {
      "cell_type": "code",
      "source": [
        "df['pred'].value_counts()"
      ],
      "metadata": {
        "id": "YeYVBMgnMBYj"
      },
      "execution_count": null,
      "outputs": []
    },
    {
      "cell_type": "code",
      "source": [
        "df['label'].value_counts()"
      ],
      "metadata": {
        "id": "W-NUyBzVMBYj"
      },
      "execution_count": null,
      "outputs": []
    },
    {
      "cell_type": "code",
      "source": [],
      "metadata": {
        "id": "uo6Z6lfjeSfC"
      },
      "execution_count": null,
      "outputs": []
    },
    {
      "cell_type": "markdown",
      "source": [
        "# Simple Multi Agents Higher Few shot"
      ],
      "metadata": {
        "id": "cudMHYoqeS6Q"
      }
    },
    {
      "cell_type": "code",
      "source": [],
      "metadata": {
        "id": "b1pkS2DYeS6Q"
      },
      "execution_count": null,
      "outputs": []
    },
    {
      "cell_type": "code",
      "source": [
        "import pandas as pd"
      ],
      "metadata": {
        "id": "Kbc-VN4SeS6R"
      },
      "execution_count": null,
      "outputs": []
    },
    {
      "cell_type": "code",
      "source": [
        "with open(\"SPKS.txt\", \"r\", encoding=\"utf-8\") as f:\n",
        "    lines = f.readlines()"
      ],
      "metadata": {
        "id": "Gtsz_pSieS6R"
      },
      "execution_count": null,
      "outputs": []
    },
    {
      "cell_type": "code",
      "source": [
        "lines = list(map(lambda x : x.split('@'),lines))\n",
        "lines.pop(0)"
      ],
      "metadata": {
        "id": "0iA-P0GTeS6S"
      },
      "execution_count": null,
      "outputs": []
    },
    {
      "cell_type": "code",
      "source": [
        "df = pd.DataFrame(lines,columns=['label','sentence'])"
      ],
      "metadata": {
        "id": "HZOT_pSheS6S"
      },
      "execution_count": null,
      "outputs": []
    },
    {
      "cell_type": "code",
      "source": [
        "df['label'].value_counts()"
      ],
      "metadata": {
        "id": "VDPavHk4eS6S"
      },
      "execution_count": null,
      "outputs": []
    },
    {
      "cell_type": "code",
      "source": [
        "def change_label(x):\n",
        "  if x == '__label__1':\n",
        "    return 'yes'\n",
        "  else:\n",
        "    return 'no'"
      ],
      "metadata": {
        "id": "ZaoOMMmUeS6S"
      },
      "execution_count": null,
      "outputs": []
    },
    {
      "cell_type": "code",
      "source": [
        "df['label'] = df['label'].apply(change_label)"
      ],
      "metadata": {
        "id": "1SBtzftqeS6T"
      },
      "execution_count": null,
      "outputs": []
    },
    {
      "cell_type": "code",
      "source": [
        "df"
      ],
      "metadata": {
        "id": "I9FZTBUueS6T"
      },
      "execution_count": null,
      "outputs": []
    },
    {
      "cell_type": "code",
      "source": [
        "\n",
        "from sklearn.model_selection import train_test_split\n",
        "X_train, X_test, y_train, y_test = train_test_split(df['sentence'], df['label'], test_size=0.3, random_state=42)"
      ],
      "metadata": {
        "id": "D5l5ytJreS6T"
      },
      "execution_count": null,
      "outputs": []
    },
    {
      "cell_type": "code",
      "source": [
        "rag_lines = X_train + \" the sentence is procedural: \" + y_train\n",
        "print(rag_lines.values)"
      ],
      "metadata": {
        "id": "XzdfpDtZeS6T"
      },
      "execution_count": null,
      "outputs": []
    },
    {
      "cell_type": "code",
      "source": [
        "import os\n",
        "os.environ[\"OPENAI_API_KEY\"] = \"\""
      ],
      "metadata": {
        "id": "ElwUiozXeS6U"
      },
      "execution_count": null,
      "outputs": []
    },
    {
      "cell_type": "code",
      "source": [
        "from crewai import Agent, Task, Crew\n",
        "from langchain_openai import ChatOpenAI\n",
        "from langchain_core.prompts import PromptTemplate\n",
        "from langchain.chains import LLMChain\n",
        "from langchain.embeddings import OpenAIEmbeddings\n",
        "from langchain.vectorstores import FAISS\n",
        "from langchain.document_loaders import TextLoader\n",
        "from langchain.text_splitter import CharacterTextSplitter\n",
        "from langchain.schema import Document\n",
        "from crewai.tools import tool\n",
        "\n",
        "api_key=\"\"\n",
        "llm = ChatOpenAI(model=\"gpt-4o-mini\",api_key=api_key)\n",
        "\n",
        "\n",
        "\n",
        "few_shot_examples = []\n",
        "for i in range(150):\n",
        "  d = f\"{{'input':{rag_lines.values[i]},'output':{y_train.values[i]}}}\"\n",
        "  few_shot_examples.append(d)\n",
        "\n",
        "classifier_prompt = PromptTemplate.from_examples(\n",
        "    examples=few_shot_examples,\n",
        "    suffix=\"Sentence: {input}\\n\\nReply with 'Yes' if procedural, otherwise 'No'.\",\n",
        "    input_variables=[\"input\"]\n",
        ")\n",
        "classifier = Agent(\n",
        "    role=\"Classifier\",\n",
        "    goal=\"Classify sentence {input_content} as procedural or not using few-shot examples.\",\n",
        "    backstory=\"Expert in detecting whether sentences are valid surgical procedures.\",\n",
        "    llm=llm,\n",
        "    prompt=classifier_prompt,\n",
        "    verbose=True,\n",
        ")\n",
        "\n",
        "\n",
        "\n",
        "validator_prompt = PromptTemplate.from_template(\"\"\"\n",
        "Given the results from classifier , validate final decision.\n",
        "\n",
        "Classifier output: {input1}\n",
        "\n",
        "\n",
        "If both are 'Yes', return JSON: {{ \"is_procedural\": true }}\n",
        "Otherwise return JSON: {{ \"is_procedural\": false }}\n",
        "\"\"\")\n",
        "validator = Agent(\n",
        "    role=\"Final Validator\",\n",
        "    goal=\"Finalize and format the decision into a structured JSON. \",\n",
        "    backstory=\"Ensures consistency between classifier and context output.\",\n",
        "    llm=llm,\n",
        "    prompt=validator_prompt,\n",
        "    verbose=True,\n",
        ")\n",
        "\n",
        "\n",
        "\n",
        "task1 = Task(\n",
        "    agent=classifier,\n",
        "    description=\"Classify {input_content} as procedural or not using few-shot learning.\",\n",
        "    expected_output=\"'Yes' if procedural, otherwise 'No'.\"\n",
        ")\n",
        "\n",
        "\n",
        "\n",
        "task2 = Task(\n",
        "    agent=validator,\n",
        "    description=\"Produce final structured JSON output.\",\n",
        "    expected_output='A JSON like: { \"is_procedural\": true } or { \"is_procedural\": false }'\n",
        ")\n",
        "\n",
        "\n",
        "crew = Crew(\n",
        "    agents=[ classifier,  validator],\n",
        "    tasks=[task1, task2,],\n",
        "    verbose=True,\n",
        ")\n",
        "\n",
        "\n",
        "\n"
      ],
      "metadata": {
        "id": "x0hMfn2EeS6U"
      },
      "execution_count": null,
      "outputs": []
    },
    {
      "cell_type": "code",
      "source": [
        "query = \"We always proceed performing a 3-cm utility incision at the 5th intercostal space anteriorly of the latissimus dorsi\"\n",
        "inputs = {\"input_content\":query}\n",
        "\n",
        "\n",
        "result = crew.kickoff(inputs=inputs)\n",
        "\n"
      ],
      "metadata": {
        "id": "j7c2ure4eS6U"
      },
      "execution_count": null,
      "outputs": []
    },
    {
      "cell_type": "code",
      "source": [
        "import json\n",
        "json.loads(result.raw)['is_procedural']\n"
      ],
      "metadata": {
        "id": "m00DAdMUeS6U"
      },
      "execution_count": null,
      "outputs": []
    },
    {
      "cell_type": "code",
      "source": [
        "preds = []\n",
        "for query in X_test.values:\n",
        "  inputs = {\"input_content\":query}\n",
        "  result = crew.kickoff(inputs=inputs)\n",
        "  out = json.loads(result.raw)['is_procedural']\n",
        "  if out in [True,False]:\n",
        "    preds.append(out)\n",
        "  else:\n",
        "    preds.append(None)"
      ],
      "metadata": {
        "id": "QK08V_QmeS6V"
      },
      "execution_count": null,
      "outputs": []
    },
    {
      "cell_type": "code",
      "source": [
        "df2 = pd.DataFrame(zip(preds,y_test.values),columns=['pred','label'])"
      ],
      "metadata": {
        "id": "uZgLkGCeeS6Y"
      },
      "execution_count": null,
      "outputs": []
    },
    {
      "cell_type": "code",
      "source": [
        "df2.to_csv('my_preds3.csv')"
      ],
      "metadata": {
        "id": "ubKxNrKxeS6Z"
      },
      "execution_count": null,
      "outputs": []
    },
    {
      "cell_type": "code",
      "source": [
        "import pandas as pd"
      ],
      "metadata": {
        "id": "7g5N-9mseS6Z"
      },
      "execution_count": null,
      "outputs": []
    },
    {
      "cell_type": "code",
      "source": [
        "df = pd.read_csv('my_preds3.csv',index_col=0)"
      ],
      "metadata": {
        "id": "kBRtByHheS6Z"
      },
      "execution_count": null,
      "outputs": []
    },
    {
      "cell_type": "code",
      "source": [
        "df"
      ],
      "metadata": {
        "id": "suQxQoJXeS6Z"
      },
      "execution_count": null,
      "outputs": []
    },
    {
      "cell_type": "code",
      "source": [
        "df['pred'] = df['pred'].apply(lambda x : int(x))"
      ],
      "metadata": {
        "id": "n3TyWKSreS6Z"
      },
      "execution_count": null,
      "outputs": []
    },
    {
      "cell_type": "code",
      "source": [
        "df['label'] = df['label'].apply(lambda x : int(x == 'yes'))"
      ],
      "metadata": {
        "id": "Hnh8Ax-PeS6a"
      },
      "execution_count": null,
      "outputs": []
    },
    {
      "cell_type": "code",
      "source": [
        "from sklearn.metrics import classification_report"
      ],
      "metadata": {
        "id": "NTqFyAdbeS6a"
      },
      "execution_count": null,
      "outputs": []
    },
    {
      "cell_type": "code",
      "source": [
        "print(classification_report(df['label'],df['pred']))"
      ],
      "metadata": {
        "colab": {
          "base_uri": "https://localhost:8080/"
        },
        "outputId": "dc1aca17-3ca1-42f3-ec72-6ab816db12d6",
        "id": "KDn1d6QXeS6a"
      },
      "execution_count": null,
      "outputs": [
        {
          "output_type": "stream",
          "name": "stdout",
          "text": [
            "              precision    recall  f1-score   support\n",
            "\n",
            "           0       0.75      0.56      0.64       217\n",
            "           1       0.81      0.91      0.86       458\n",
            "\n",
            "    accuracy                           0.80       675\n",
            "   macro avg       0.78      0.74      0.75       675\n",
            "weighted avg       0.79      0.80      0.79       675\n",
            "\n"
          ]
        }
      ]
    },
    {
      "cell_type": "code",
      "source": [
        "df['pred'].value_counts()"
      ],
      "metadata": {
        "id": "Fm_Qx7gceS6a"
      },
      "execution_count": null,
      "outputs": []
    },
    {
      "cell_type": "code",
      "source": [
        "df['label'].value_counts()"
      ],
      "metadata": {
        "id": "wr3Hd_nLeS6b"
      },
      "execution_count": null,
      "outputs": []
    },
    {
      "cell_type": "markdown",
      "source": [
        "# Multi Agent new version"
      ],
      "metadata": {
        "id": "sGq1voyI6-ff"
      }
    },
    {
      "cell_type": "code",
      "source": [],
      "metadata": {
        "id": "tL8nxgFE7KGd"
      },
      "execution_count": null,
      "outputs": []
    },
    {
      "cell_type": "code",
      "source": [
        "import pandas as pd"
      ],
      "metadata": {
        "id": "GQtN7TfY7KiZ"
      },
      "execution_count": null,
      "outputs": []
    },
    {
      "cell_type": "code",
      "source": [
        "with open(\"SPKS.txt\", \"r\", encoding=\"utf-8\") as f:\n",
        "    lines = f.readlines()"
      ],
      "metadata": {
        "id": "-DGK_oMC7KiZ"
      },
      "execution_count": null,
      "outputs": []
    },
    {
      "cell_type": "code",
      "source": [
        "lines = list(map(lambda x : x.split('@'),lines))\n",
        "lines.pop(0)"
      ],
      "metadata": {
        "id": "8sHGkHNR7KiZ"
      },
      "execution_count": null,
      "outputs": []
    },
    {
      "cell_type": "code",
      "source": [
        "df = pd.DataFrame(lines,columns=['label','sentence'])"
      ],
      "metadata": {
        "id": "LpyibvA77KiZ"
      },
      "execution_count": null,
      "outputs": []
    },
    {
      "cell_type": "code",
      "source": [
        "df['label'].value_counts()"
      ],
      "metadata": {
        "id": "_QKarhbS7Kia"
      },
      "execution_count": null,
      "outputs": []
    },
    {
      "cell_type": "code",
      "source": [
        "def change_label(x):\n",
        "  if x == '__label__1':\n",
        "    return 'yes'\n",
        "  else:\n",
        "    return 'no'"
      ],
      "metadata": {
        "id": "oI4Rdwbn7Kia"
      },
      "execution_count": null,
      "outputs": []
    },
    {
      "cell_type": "code",
      "source": [
        "df['label'] = df['label'].apply(change_label)"
      ],
      "metadata": {
        "id": "1NVzR-7a7Kia"
      },
      "execution_count": null,
      "outputs": []
    },
    {
      "cell_type": "code",
      "source": [
        "df"
      ],
      "metadata": {
        "id": "_x_-K_YJ7Kia"
      },
      "execution_count": null,
      "outputs": []
    },
    {
      "cell_type": "code",
      "source": [
        "\n",
        "from sklearn.model_selection import train_test_split\n",
        "X_train, X_test, y_train, y_test = train_test_split(df['sentence'], df['label'], test_size=0.3, random_state=42)"
      ],
      "metadata": {
        "id": "i3EUmG4e7Kib"
      },
      "execution_count": null,
      "outputs": []
    },
    {
      "cell_type": "code",
      "source": [
        "rag_lines = X_train + \" the sentence is procedural: \" + y_train\n",
        "print(rag_lines.values)"
      ],
      "metadata": {
        "id": "lJoeJoGK7Kib"
      },
      "execution_count": null,
      "outputs": []
    },
    {
      "cell_type": "code",
      "source": [
        "import os\n",
        "os.environ[\"OPENAI_API_KEY\"] = \"\""
      ],
      "metadata": {
        "id": "DZrepWDu7Kic"
      },
      "execution_count": null,
      "outputs": []
    },
    {
      "cell_type": "code",
      "source": [
        "len(X_train)"
      ],
      "metadata": {
        "colab": {
          "base_uri": "https://localhost:8080/"
        },
        "id": "BH-IfJOULIBg",
        "outputId": "35f0c679-9306-4a2c-a589-fde0b26523fd"
      },
      "execution_count": null,
      "outputs": [
        {
          "output_type": "execute_result",
          "data": {
            "text/plain": [
              "1575"
            ]
          },
          "metadata": {},
          "execution_count": 29
        }
      ]
    },
    {
      "cell_type": "code",
      "source": [
        "from crewai import Agent, Task, Crew\n",
        "from langchain_openai import ChatOpenAI\n",
        "from langchain_core.prompts import PromptTemplate\n",
        "from langchain.chains import LLMChain\n",
        "from langchain.embeddings import OpenAIEmbeddings\n",
        "from langchain.vectorstores import FAISS\n",
        "from langchain.document_loaders import TextLoader\n",
        "from langchain.text_splitter import CharacterTextSplitter\n",
        "from langchain.schema import Document\n",
        "from crewai.tools import tool\n",
        "\n",
        "api_key=\"\"\n",
        "llm = ChatOpenAI(model=\"gpt-4o-mini\",api_key=api_key)\n",
        "\n",
        "documents = [Document(line) for line in rag_lines.values]\n",
        "splitter = CharacterTextSplitter(chunk_size=500, chunk_overlap=50)\n",
        "chunks = splitter.split_documents(documents)\n",
        "\n",
        "vectorstore = FAISS.from_documents(chunks, OpenAIEmbeddings(api_key=api_key))\n",
        "few_shot_examples = []\n",
        "for i in range(1575):\n",
        "  d = f\"{{'input':{rag_lines.values[i]},'output':{y_train.values[i]}}}\"\n",
        "  few_shot_examples.append(d)\n",
        "\n",
        "classifier_prompt = PromptTemplate.from_examples(\n",
        "    examples=few_shot_examples,\n",
        "    suffix=\"Sentence: {input_content}\\n\\nReply with 'Yes' if procedural, otherwise 'No'.\",\n",
        "    input_variables=[\"input\"]\n",
        ")\n",
        "classifier = Agent(\n",
        "    role=\"Classifier\",\n",
        "    goal=\"Classify sentence {input_content} as procedural or not using few-shot examples.\",\n",
        "    backstory=\"Expert in detecting whether sentences are valid surgical procedures.\",\n",
        "    llm=llm,\n",
        "    prompt=classifier_prompt,\n",
        "    verbose=True,\n",
        ")\n",
        "\n",
        "task1 = Task(\n",
        "    agent=classifier,\n",
        "    description=\"Classify based on {input_content} input sentence as procedural or not using few-shot learning.\",\n",
        "    expected_output='A JSON like: { \"is_procedural\": true } or { \"is_procedural\": false }'\n",
        ")\n",
        "\n",
        "\n",
        "\n",
        "\n",
        "crew = Crew(\n",
        "    agents=[ classifier],\n",
        "    tasks=[task1],\n",
        "    verbose=True,\n",
        ")\n",
        "\n",
        "\n",
        "\n"
      ],
      "metadata": {
        "id": "b1jTTPaq7Kic"
      },
      "execution_count": null,
      "outputs": []
    },
    {
      "cell_type": "code",
      "source": [
        "query = \"We always proceed performing a 3-cm utility incision at the 5th intercostal space anteriorly of the latissimus dorsi\"\n",
        "inputs = {\"input_content\":query}\n",
        "\n",
        "\n",
        "result = crew.kickoff(inputs=inputs)\n",
        "\n"
      ],
      "metadata": {
        "id": "dfKcQ-V27Kic"
      },
      "execution_count": null,
      "outputs": []
    },
    {
      "cell_type": "code",
      "source": [
        "import json\n",
        "json.loads(result.raw)['is_procedural']\n"
      ],
      "metadata": {
        "id": "KW8Q80Ed7Kid"
      },
      "execution_count": null,
      "outputs": []
    },
    {
      "cell_type": "code",
      "source": [
        "len(X_test)"
      ],
      "metadata": {
        "colab": {
          "base_uri": "https://localhost:8080/"
        },
        "id": "BHscRPxIAT18",
        "outputId": "9ff4d224-f9a1-4d6f-fe52-a96207209b48"
      },
      "execution_count": null,
      "outputs": [
        {
          "output_type": "execute_result",
          "data": {
            "text/plain": [
              "675"
            ]
          },
          "metadata": {},
          "execution_count": 24
        }
      ]
    },
    {
      "cell_type": "code",
      "source": [
        "preds = []\n",
        "for query in X_test.values:\n",
        "  inputs = {\"input_content\":query}\n",
        "  result = crew.kickoff(inputs=inputs)\n",
        "  out = json.loads(result.raw)['is_procedural']\n",
        "  if out in [True,False]:\n",
        "    preds.append(out)\n",
        "  else:\n",
        "    preds.append(None)"
      ],
      "metadata": {
        "id": "YhiinFGF7Kid"
      },
      "execution_count": null,
      "outputs": []
    },
    {
      "cell_type": "code",
      "source": [
        "df2 = pd.DataFrame(zip(preds,y_test.values),columns=['pred','label'])"
      ],
      "metadata": {
        "id": "0teHUhj77KjD"
      },
      "execution_count": null,
      "outputs": []
    },
    {
      "cell_type": "code",
      "source": [
        "df2"
      ],
      "metadata": {
        "id": "H5onTO-JJu59"
      },
      "execution_count": null,
      "outputs": []
    },
    {
      "cell_type": "code",
      "source": [
        "df2.to_csv('my_preds4.csv')"
      ],
      "metadata": {
        "id": "Bq0j86gq7KjD"
      },
      "execution_count": null,
      "outputs": []
    },
    {
      "cell_type": "code",
      "source": [
        "import pandas as pd"
      ],
      "metadata": {
        "id": "-8fd7VRs7KjE"
      },
      "execution_count": null,
      "outputs": []
    },
    {
      "cell_type": "code",
      "source": [
        "df = pd.read_csv('my_preds4.csv',index_col=0)"
      ],
      "metadata": {
        "id": "jUG94WlQ7KjE"
      },
      "execution_count": null,
      "outputs": []
    },
    {
      "cell_type": "code",
      "source": [
        "df"
      ],
      "metadata": {
        "id": "nI5bucG57KjE"
      },
      "execution_count": null,
      "outputs": []
    },
    {
      "cell_type": "code",
      "source": [
        "df['pred'] = df['pred'].apply(lambda x : int(x))"
      ],
      "metadata": {
        "id": "lG_3_C9G7KjF"
      },
      "execution_count": null,
      "outputs": []
    },
    {
      "cell_type": "code",
      "source": [
        "df['label'] = df['label'].apply(lambda x : int(x == 'yes'))"
      ],
      "metadata": {
        "id": "CJ_RU5BO7KjF"
      },
      "execution_count": null,
      "outputs": []
    },
    {
      "cell_type": "code",
      "source": [
        "from sklearn.metrics import classification_report"
      ],
      "metadata": {
        "id": "KXRilqB17KjG"
      },
      "execution_count": null,
      "outputs": []
    },
    {
      "cell_type": "code",
      "source": [
        "print(classification_report(df['label'],df['pred']))"
      ],
      "metadata": {
        "colab": {
          "base_uri": "https://localhost:8080/"
        },
        "outputId": "192112c2-3c4b-45fc-de56-31c56da0ff84",
        "id": "4Q8uSjr77KjG"
      },
      "execution_count": null,
      "outputs": [
        {
          "output_type": "stream",
          "name": "stdout",
          "text": [
            "              precision    recall  f1-score   support\n",
            "\n",
            "           0       0.81      0.45      0.58       217\n",
            "           1       0.78      0.95      0.86       458\n",
            "\n",
            "    accuracy                           0.79       675\n",
            "   macro avg       0.80      0.70      0.72       675\n",
            "weighted avg       0.79      0.79      0.77       675\n",
            "\n"
          ]
        }
      ]
    },
    {
      "cell_type": "code",
      "source": [
        "df['pred'].value_counts()"
      ],
      "metadata": {
        "colab": {
          "base_uri": "https://localhost:8080/",
          "height": 178
        },
        "outputId": "f809f352-cf6f-4e54-bf5a-9a03fa29f021",
        "id": "H_akOVls7KjH"
      },
      "execution_count": null,
      "outputs": [
        {
          "output_type": "execute_result",
          "data": {
            "text/plain": [
              "pred\n",
              "1    555\n",
              "0    120\n",
              "Name: count, dtype: int64"
            ],
            "text/html": [
              "<div>\n",
              "<style scoped>\n",
              "    .dataframe tbody tr th:only-of-type {\n",
              "        vertical-align: middle;\n",
              "    }\n",
              "\n",
              "    .dataframe tbody tr th {\n",
              "        vertical-align: top;\n",
              "    }\n",
              "\n",
              "    .dataframe thead th {\n",
              "        text-align: right;\n",
              "    }\n",
              "</style>\n",
              "<table border=\"1\" class=\"dataframe\">\n",
              "  <thead>\n",
              "    <tr style=\"text-align: right;\">\n",
              "      <th></th>\n",
              "      <th>count</th>\n",
              "    </tr>\n",
              "    <tr>\n",
              "      <th>pred</th>\n",
              "      <th></th>\n",
              "    </tr>\n",
              "  </thead>\n",
              "  <tbody>\n",
              "    <tr>\n",
              "      <th>1</th>\n",
              "      <td>555</td>\n",
              "    </tr>\n",
              "    <tr>\n",
              "      <th>0</th>\n",
              "      <td>120</td>\n",
              "    </tr>\n",
              "  </tbody>\n",
              "</table>\n",
              "</div><br><label><b>dtype:</b> int64</label>"
            ]
          },
          "metadata": {},
          "execution_count": 49
        }
      ]
    },
    {
      "cell_type": "code",
      "source": [
        "df['label'].value_counts()"
      ],
      "metadata": {
        "colab": {
          "base_uri": "https://localhost:8080/",
          "height": 178
        },
        "outputId": "214f30ea-0f80-429d-d375-ff6867e81f47",
        "id": "sGPPvaYW7KjH"
      },
      "execution_count": null,
      "outputs": [
        {
          "output_type": "execute_result",
          "data": {
            "text/plain": [
              "label\n",
              "1    458\n",
              "0    217\n",
              "Name: count, dtype: int64"
            ],
            "text/html": [
              "<div>\n",
              "<style scoped>\n",
              "    .dataframe tbody tr th:only-of-type {\n",
              "        vertical-align: middle;\n",
              "    }\n",
              "\n",
              "    .dataframe tbody tr th {\n",
              "        vertical-align: top;\n",
              "    }\n",
              "\n",
              "    .dataframe thead th {\n",
              "        text-align: right;\n",
              "    }\n",
              "</style>\n",
              "<table border=\"1\" class=\"dataframe\">\n",
              "  <thead>\n",
              "    <tr style=\"text-align: right;\">\n",
              "      <th></th>\n",
              "      <th>count</th>\n",
              "    </tr>\n",
              "    <tr>\n",
              "      <th>label</th>\n",
              "      <th></th>\n",
              "    </tr>\n",
              "  </thead>\n",
              "  <tbody>\n",
              "    <tr>\n",
              "      <th>1</th>\n",
              "      <td>458</td>\n",
              "    </tr>\n",
              "    <tr>\n",
              "      <th>0</th>\n",
              "      <td>217</td>\n",
              "    </tr>\n",
              "  </tbody>\n",
              "</table>\n",
              "</div><br><label><b>dtype:</b> int64</label>"
            ]
          },
          "metadata": {},
          "execution_count": 50
        }
      ]
    },
    {
      "cell_type": "code",
      "source": [],
      "metadata": {
        "id": "jFCZZ0JdQgjp"
      },
      "execution_count": null,
      "outputs": []
    },
    {
      "cell_type": "markdown",
      "metadata": {
        "id": "ygpXROGLvIo_"
      },
      "source": [
        "# Fine Tuning QLoRA"
      ]
    },
    {
      "cell_type": "code",
      "execution_count": null,
      "metadata": {
        "id": "OD9F3_XhwfqA"
      },
      "outputs": [],
      "source": [
        "import pandas as pd"
      ]
    },
    {
      "cell_type": "code",
      "execution_count": null,
      "metadata": {
        "id": "T_IVz8F2wfqS"
      },
      "outputs": [],
      "source": [
        "with open(\"SPKS.txt\", \"r\", encoding=\"utf-8\") as f:\n",
        "    lines = f.readlines()"
      ]
    },
    {
      "cell_type": "code",
      "execution_count": null,
      "metadata": {
        "colab": {
          "base_uri": "https://localhost:8080/"
        },
        "id": "FyUfxDpZwfqT",
        "outputId": "78474d73-4033-4c0c-8993-25d6e2b07680"
      },
      "outputs": [
        {
          "data": {
            "text/plain": [
              "['label', 'sentence\\n']"
            ]
          },
          "execution_count": 3,
          "metadata": {},
          "output_type": "execute_result"
        }
      ],
      "source": [
        "lines = list(map(lambda x : x.split('@'),lines))\n",
        "lines.pop(0)"
      ]
    },
    {
      "cell_type": "code",
      "execution_count": null,
      "metadata": {
        "id": "GO4J4H28wfqU"
      },
      "outputs": [],
      "source": [
        "df = pd.DataFrame(lines,columns=['label','text'])"
      ]
    },
    {
      "cell_type": "code",
      "execution_count": null,
      "metadata": {
        "id": "ytAfs1vgwfqU"
      },
      "outputs": [],
      "source": [
        "df['label'].value_counts()"
      ]
    },
    {
      "cell_type": "code",
      "execution_count": null,
      "metadata": {
        "id": "e8dFVzQNwfqU"
      },
      "outputs": [],
      "source": [
        "def change_label(x):\n",
        "  if x == '__label__1':\n",
        "    return 1\n",
        "  else:\n",
        "    return 0"
      ]
    },
    {
      "cell_type": "code",
      "execution_count": null,
      "metadata": {
        "id": "1TtRwSzNwfqV"
      },
      "outputs": [],
      "source": [
        "df['label'] = df['label'].apply(change_label)"
      ]
    },
    {
      "cell_type": "code",
      "execution_count": null,
      "metadata": {
        "id": "C1ROe3AfwfqV"
      },
      "outputs": [],
      "source": [
        "df"
      ]
    },
    {
      "cell_type": "code",
      "execution_count": null,
      "metadata": {
        "id": "lEMohBkLwfqV"
      },
      "outputs": [],
      "source": [
        "\n",
        "from sklearn.model_selection import train_test_split\n",
        "X_train, X_test, y_train, y_test = train_test_split(df['text'], df['label'], test_size=0.3, random_state=42)"
      ]
    },
    {
      "cell_type": "code",
      "execution_count": null,
      "metadata": {
        "id": "fqkXULicwucR"
      },
      "outputs": [],
      "source": [
        "train_df = pd.concat([X_train,y_train],axis=1)\n",
        "test_df = pd.concat([X_test,y_test],axis=1)\n",
        "train_df"
      ]
    },
    {
      "cell_type": "code",
      "execution_count": null,
      "metadata": {
        "id": "In9wUBkLyJjj"
      },
      "outputs": [],
      "source": [
        "import os\n",
        "os.environ[\"HF_TOKEN\"] = \"\""
      ]
    },
    {
      "cell_type": "code",
      "execution_count": null,
      "metadata": {
        "id": "Y0HPlN-evDjf"
      },
      "outputs": [],
      "source": [
        "\n",
        "\n",
        "import pandas as pd\n",
        "from datasets import Dataset, DatasetDict\n",
        "from transformers import AutoModelForCausalLM, AutoTokenizer, TrainingArguments, BitsAndBytesConfig\n",
        "from peft import LoraConfig, get_peft_model, TaskType\n",
        "from trl import SFTTrainer\n",
        "\n",
        "\n",
        "dataset = DatasetDict({\n",
        "    \"train\": Dataset.from_pandas(train_df),\n",
        "    \"test\": Dataset.from_pandas(test_df)\n",
        "})\n",
        "\n",
        "\n",
        "def format_text(example):\n",
        "    prompt = f\"SENTENCE: {example['text']}\\nIs it procedural?\"\n",
        "    label = \"Yes\" if example[\"label\"] == 1 else \"No\"\n",
        "    return {\"text\": f\"{prompt}\\n{label}\"}\n",
        "\n",
        "dataset = dataset.map(format_text)\n",
        "dataset = dataset.remove_columns([col for col in dataset[\"train\"].column_names if col != \"text\"])\n",
        "\n",
        "\n",
        "model_name = \"mistralai/Mistral-7B-v0.1\"\n",
        "bnb_config = BitsAndBytesConfig(\n",
        "    load_in_4bit=True,\n",
        "    bnb_4bit_use_double_quant=True,\n",
        "    bnb_4bit_quant_type=\"nf4\",\n",
        "    bnb_4bit_compute_dtype=\"float16\"\n",
        ")\n",
        "\n",
        "model = AutoModelForCausalLM.from_pretrained(model_name, quantization_config=bnb_config, device_map=\"auto\")\n",
        "tokenizer = AutoTokenizer.from_pretrained(model_name)\n",
        "tokenizer.pad_token = tokenizer.eos_token\n",
        "\n",
        "\n",
        "peft_config = LoraConfig(\n",
        "    r=8,\n",
        "    lora_alpha=16,\n",
        "    target_modules=[\"q_proj\", \"v_proj\"],\n",
        "    lora_dropout=0.05,\n",
        "    bias=\"none\",\n",
        "    task_type=TaskType.CAUSAL_LM\n",
        ")\n",
        "\n",
        "model = get_peft_model(model, peft_config)\n",
        "\n",
        "\n",
        "training_args = TrainingArguments(\n",
        "    output_dir=\"./mistral-spks-finetune\",\n",
        "    num_train_epochs=3,\n",
        "    per_device_train_batch_size=2,\n",
        "    per_device_eval_batch_size=2,\n",
        "    save_total_limit=2,\n",
        "    logging_steps=10\n",
        ")\n",
        "\n",
        "\n"
      ]
    },
    {
      "cell_type": "code",
      "source": [
        "\n",
        "trainer = SFTTrainer(\n",
        "    model=model,\n",
        "    train_dataset=dataset[\"train\"],\n",
        "    eval_dataset=dataset[\"test\"],\n",
        "\n",
        "    args=training_args,\n",
        ")\n",
        "\n",
        "trainer.train()"
      ],
      "metadata": {
        "id": "Wp1_lqJtSgJF"
      },
      "execution_count": null,
      "outputs": []
    },
    {
      "cell_type": "code",
      "execution_count": null,
      "metadata": {
        "id": "CdQdld4kvDbP",
        "colab": {
          "base_uri": "https://localhost:8080/"
        },
        "outputId": "341585dd-72b0-4ec9-b75b-e5cfbf9775fa"
      },
      "outputs": [
        {
          "output_type": "stream",
          "name": "stderr",
          "text": [
            "\r  0%|          | 0/675 [00:00<?, ?it/s]Asking to truncate to max_length but no maximum length is provided and the model has no predefined maximum length. Default to no truncation.\n",
            "Setting `pad_token_id` to `eos_token_id`:2 for open-end generation.\n",
            "  0%|          | 1/675 [00:01<12:22,  1.10s/it]Setting `pad_token_id` to `eos_token_id`:2 for open-end generation.\n",
            "  0%|          | 2/675 [00:01<09:52,  1.14it/s]Setting `pad_token_id` to `eos_token_id`:2 for open-end generation.\n",
            "  0%|          | 3/675 [00:02<07:54,  1.42it/s]Setting `pad_token_id` to `eos_token_id`:2 for open-end generation.\n",
            "  1%|          | 4/675 [00:02<06:50,  1.64it/s]Setting `pad_token_id` to `eos_token_id`:2 for open-end generation.\n",
            "  1%|          | 5/675 [00:03<06:17,  1.77it/s]Setting `pad_token_id` to `eos_token_id`:2 for open-end generation.\n",
            "  1%|          | 6/675 [00:03<06:02,  1.85it/s]Setting `pad_token_id` to `eos_token_id`:2 for open-end generation.\n",
            "  1%|          | 7/675 [00:04<06:11,  1.80it/s]Setting `pad_token_id` to `eos_token_id`:2 for open-end generation.\n",
            "  1%|          | 8/675 [00:05<06:29,  1.71it/s]Setting `pad_token_id` to `eos_token_id`:2 for open-end generation.\n",
            "  1%|▏         | 9/675 [00:05<06:50,  1.62it/s]Setting `pad_token_id` to `eos_token_id`:2 for open-end generation.\n",
            "  1%|▏         | 10/675 [00:06<06:48,  1.63it/s]Setting `pad_token_id` to `eos_token_id`:2 for open-end generation.\n",
            "  2%|▏         | 11/675 [00:06<06:50,  1.62it/s]Setting `pad_token_id` to `eos_token_id`:2 for open-end generation.\n",
            "  2%|▏         | 12/675 [00:07<06:55,  1.60it/s]Setting `pad_token_id` to `eos_token_id`:2 for open-end generation.\n",
            "  2%|▏         | 13/675 [00:07<06:04,  1.81it/s]Setting `pad_token_id` to `eos_token_id`:2 for open-end generation.\n",
            "  2%|▏         | 14/675 [00:08<05:28,  2.01it/s]Setting `pad_token_id` to `eos_token_id`:2 for open-end generation.\n",
            "  2%|▏         | 15/675 [00:08<05:06,  2.15it/s]Setting `pad_token_id` to `eos_token_id`:2 for open-end generation.\n",
            "  2%|▏         | 16/675 [00:09<04:52,  2.25it/s]Setting `pad_token_id` to `eos_token_id`:2 for open-end generation.\n",
            "  3%|▎         | 17/675 [00:09<04:41,  2.33it/s]Setting `pad_token_id` to `eos_token_id`:2 for open-end generation.\n",
            "  3%|▎         | 18/675 [00:09<04:34,  2.39it/s]Setting `pad_token_id` to `eos_token_id`:2 for open-end generation.\n",
            "  3%|▎         | 19/675 [00:10<04:28,  2.44it/s]Setting `pad_token_id` to `eos_token_id`:2 for open-end generation.\n",
            "  3%|▎         | 20/675 [00:10<04:22,  2.50it/s]Setting `pad_token_id` to `eos_token_id`:2 for open-end generation.\n",
            "  3%|▎         | 21/675 [00:11<04:16,  2.55it/s]Setting `pad_token_id` to `eos_token_id`:2 for open-end generation.\n",
            "  3%|▎         | 22/675 [00:11<04:15,  2.56it/s]Setting `pad_token_id` to `eos_token_id`:2 for open-end generation.\n",
            "  3%|▎         | 23/675 [00:11<04:13,  2.57it/s]Setting `pad_token_id` to `eos_token_id`:2 for open-end generation.\n",
            "  4%|▎         | 24/675 [00:12<04:22,  2.48it/s]Setting `pad_token_id` to `eos_token_id`:2 for open-end generation.\n",
            "  4%|▎         | 25/675 [00:12<04:31,  2.39it/s]Setting `pad_token_id` to `eos_token_id`:2 for open-end generation.\n",
            "  4%|▍         | 26/675 [00:13<04:32,  2.38it/s]Setting `pad_token_id` to `eos_token_id`:2 for open-end generation.\n",
            "  4%|▍         | 27/675 [00:13<04:37,  2.34it/s]Setting `pad_token_id` to `eos_token_id`:2 for open-end generation.\n",
            "  4%|▍         | 28/675 [00:13<04:37,  2.33it/s]Setting `pad_token_id` to `eos_token_id`:2 for open-end generation.\n",
            "  4%|▍         | 29/675 [00:14<04:43,  2.28it/s]Setting `pad_token_id` to `eos_token_id`:2 for open-end generation.\n",
            "  4%|▍         | 30/675 [00:14<04:40,  2.30it/s]Setting `pad_token_id` to `eos_token_id`:2 for open-end generation.\n",
            "  5%|▍         | 31/675 [00:15<04:30,  2.38it/s]Setting `pad_token_id` to `eos_token_id`:2 for open-end generation.\n",
            "  5%|▍         | 32/675 [00:15<04:24,  2.43it/s]Setting `pad_token_id` to `eos_token_id`:2 for open-end generation.\n",
            "  5%|▍         | 33/675 [00:16<04:17,  2.49it/s]Setting `pad_token_id` to `eos_token_id`:2 for open-end generation.\n",
            "  5%|▌         | 34/675 [00:16<04:12,  2.54it/s]Setting `pad_token_id` to `eos_token_id`:2 for open-end generation.\n",
            "  5%|▌         | 35/675 [00:16<04:13,  2.53it/s]Setting `pad_token_id` to `eos_token_id`:2 for open-end generation.\n",
            "  5%|▌         | 36/675 [00:17<04:10,  2.55it/s]Setting `pad_token_id` to `eos_token_id`:2 for open-end generation.\n",
            "  5%|▌         | 37/675 [00:17<04:06,  2.59it/s]Setting `pad_token_id` to `eos_token_id`:2 for open-end generation.\n",
            "  6%|▌         | 38/675 [00:17<04:04,  2.60it/s]Setting `pad_token_id` to `eos_token_id`:2 for open-end generation.\n",
            "  6%|▌         | 39/675 [00:18<04:05,  2.59it/s]Setting `pad_token_id` to `eos_token_id`:2 for open-end generation.\n",
            "  6%|▌         | 40/675 [00:18<04:05,  2.59it/s]Setting `pad_token_id` to `eos_token_id`:2 for open-end generation.\n",
            "  6%|▌         | 41/675 [00:19<04:04,  2.59it/s]Setting `pad_token_id` to `eos_token_id`:2 for open-end generation.\n",
            "  6%|▌         | 42/675 [00:19<04:03,  2.60it/s]Setting `pad_token_id` to `eos_token_id`:2 for open-end generation.\n",
            "  6%|▋         | 43/675 [00:19<04:07,  2.56it/s]Setting `pad_token_id` to `eos_token_id`:2 for open-end generation.\n",
            "  7%|▋         | 44/675 [00:20<04:05,  2.57it/s]Setting `pad_token_id` to `eos_token_id`:2 for open-end generation.\n",
            "  7%|▋         | 45/675 [00:20<04:04,  2.57it/s]Setting `pad_token_id` to `eos_token_id`:2 for open-end generation.\n",
            "  7%|▋         | 46/675 [00:21<04:05,  2.57it/s]Setting `pad_token_id` to `eos_token_id`:2 for open-end generation.\n",
            "  7%|▋         | 47/675 [00:21<04:06,  2.54it/s]Setting `pad_token_id` to `eos_token_id`:2 for open-end generation.\n",
            "  7%|▋         | 48/675 [00:21<04:05,  2.56it/s]Setting `pad_token_id` to `eos_token_id`:2 for open-end generation.\n",
            "  7%|▋         | 49/675 [00:22<04:03,  2.57it/s]Setting `pad_token_id` to `eos_token_id`:2 for open-end generation.\n",
            "  7%|▋         | 50/675 [00:22<04:03,  2.57it/s]Setting `pad_token_id` to `eos_token_id`:2 for open-end generation.\n",
            "  8%|▊         | 51/675 [00:23<04:04,  2.55it/s]Setting `pad_token_id` to `eos_token_id`:2 for open-end generation.\n",
            "  8%|▊         | 52/675 [00:23<04:05,  2.54it/s]Setting `pad_token_id` to `eos_token_id`:2 for open-end generation.\n",
            "  8%|▊         | 53/675 [00:23<04:04,  2.55it/s]Setting `pad_token_id` to `eos_token_id`:2 for open-end generation.\n",
            "  8%|▊         | 54/675 [00:24<04:02,  2.56it/s]Setting `pad_token_id` to `eos_token_id`:2 for open-end generation.\n",
            "  8%|▊         | 55/675 [00:24<04:00,  2.58it/s]Setting `pad_token_id` to `eos_token_id`:2 for open-end generation.\n",
            "  8%|▊         | 56/675 [00:25<04:17,  2.41it/s]Setting `pad_token_id` to `eos_token_id`:2 for open-end generation.\n",
            "  8%|▊         | 57/675 [00:25<04:20,  2.37it/s]Setting `pad_token_id` to `eos_token_id`:2 for open-end generation.\n",
            "  9%|▊         | 58/675 [00:25<04:20,  2.37it/s]Setting `pad_token_id` to `eos_token_id`:2 for open-end generation.\n",
            "  9%|▊         | 59/675 [00:26<04:22,  2.34it/s]Setting `pad_token_id` to `eos_token_id`:2 for open-end generation.\n",
            "  9%|▉         | 60/675 [00:26<04:26,  2.31it/s]Setting `pad_token_id` to `eos_token_id`:2 for open-end generation.\n",
            "  9%|▉         | 61/675 [00:27<04:34,  2.24it/s]Setting `pad_token_id` to `eos_token_id`:2 for open-end generation.\n",
            "  9%|▉         | 62/675 [00:27<04:24,  2.32it/s]Setting `pad_token_id` to `eos_token_id`:2 for open-end generation.\n",
            "  9%|▉         | 63/675 [00:28<04:15,  2.40it/s]Setting `pad_token_id` to `eos_token_id`:2 for open-end generation.\n",
            "  9%|▉         | 64/675 [00:28<04:11,  2.43it/s]Setting `pad_token_id` to `eos_token_id`:2 for open-end generation.\n",
            " 10%|▉         | 65/675 [00:28<04:07,  2.46it/s]Setting `pad_token_id` to `eos_token_id`:2 for open-end generation.\n",
            " 10%|▉         | 66/675 [00:29<04:06,  2.47it/s]Setting `pad_token_id` to `eos_token_id`:2 for open-end generation.\n",
            " 10%|▉         | 67/675 [00:29<04:03,  2.50it/s]Setting `pad_token_id` to `eos_token_id`:2 for open-end generation.\n",
            " 10%|█         | 68/675 [00:30<04:00,  2.52it/s]Setting `pad_token_id` to `eos_token_id`:2 for open-end generation.\n",
            " 10%|█         | 69/675 [00:30<03:58,  2.54it/s]Setting `pad_token_id` to `eos_token_id`:2 for open-end generation.\n",
            " 10%|█         | 70/675 [00:30<03:54,  2.57it/s]Setting `pad_token_id` to `eos_token_id`:2 for open-end generation.\n",
            " 11%|█         | 71/675 [00:31<03:54,  2.58it/s]Setting `pad_token_id` to `eos_token_id`:2 for open-end generation.\n",
            " 11%|█         | 72/675 [00:31<03:53,  2.59it/s]Setting `pad_token_id` to `eos_token_id`:2 for open-end generation.\n",
            " 11%|█         | 73/675 [00:31<03:54,  2.56it/s]Setting `pad_token_id` to `eos_token_id`:2 for open-end generation.\n",
            " 11%|█         | 74/675 [00:32<03:57,  2.53it/s]Setting `pad_token_id` to `eos_token_id`:2 for open-end generation.\n",
            " 11%|█         | 75/675 [00:32<03:56,  2.53it/s]Setting `pad_token_id` to `eos_token_id`:2 for open-end generation.\n",
            " 11%|█▏        | 76/675 [00:33<03:54,  2.55it/s]Setting `pad_token_id` to `eos_token_id`:2 for open-end generation.\n",
            " 11%|█▏        | 77/675 [00:33<03:54,  2.55it/s]Setting `pad_token_id` to `eos_token_id`:2 for open-end generation.\n",
            " 12%|█▏        | 78/675 [00:33<03:57,  2.52it/s]Setting `pad_token_id` to `eos_token_id`:2 for open-end generation.\n",
            " 12%|█▏        | 79/675 [00:34<03:54,  2.54it/s]Setting `pad_token_id` to `eos_token_id`:2 for open-end generation.\n",
            " 12%|█▏        | 80/675 [00:34<03:51,  2.57it/s]Setting `pad_token_id` to `eos_token_id`:2 for open-end generation.\n",
            " 12%|█▏        | 81/675 [00:35<03:52,  2.56it/s]Setting `pad_token_id` to `eos_token_id`:2 for open-end generation.\n",
            " 12%|█▏        | 82/675 [00:35<03:54,  2.53it/s]Setting `pad_token_id` to `eos_token_id`:2 for open-end generation.\n",
            " 12%|█▏        | 83/675 [00:35<03:53,  2.53it/s]Setting `pad_token_id` to `eos_token_id`:2 for open-end generation.\n",
            " 12%|█▏        | 84/675 [00:36<03:55,  2.51it/s]Setting `pad_token_id` to `eos_token_id`:2 for open-end generation.\n",
            " 13%|█▎        | 85/675 [00:36<03:52,  2.54it/s]Setting `pad_token_id` to `eos_token_id`:2 for open-end generation.\n",
            " 13%|█▎        | 86/675 [00:37<03:51,  2.54it/s]Setting `pad_token_id` to `eos_token_id`:2 for open-end generation.\n",
            " 13%|█▎        | 87/675 [00:37<03:54,  2.51it/s]Setting `pad_token_id` to `eos_token_id`:2 for open-end generation.\n",
            " 13%|█▎        | 88/675 [00:37<04:02,  2.42it/s]Setting `pad_token_id` to `eos_token_id`:2 for open-end generation.\n",
            " 13%|█▎        | 89/675 [00:38<04:05,  2.38it/s]Setting `pad_token_id` to `eos_token_id`:2 for open-end generation.\n",
            " 13%|█▎        | 90/675 [00:38<04:08,  2.35it/s]Setting `pad_token_id` to `eos_token_id`:2 for open-end generation.\n",
            " 13%|█▎        | 91/675 [00:39<04:08,  2.35it/s]Setting `pad_token_id` to `eos_token_id`:2 for open-end generation.\n",
            " 14%|█▎        | 92/675 [00:39<04:14,  2.29it/s]Setting `pad_token_id` to `eos_token_id`:2 for open-end generation.\n",
            " 14%|█▍        | 93/675 [00:40<04:20,  2.23it/s]Setting `pad_token_id` to `eos_token_id`:2 for open-end generation.\n",
            " 14%|█▍        | 94/675 [00:40<04:08,  2.34it/s]Setting `pad_token_id` to `eos_token_id`:2 for open-end generation.\n",
            " 14%|█▍        | 95/675 [00:40<04:00,  2.42it/s]Setting `pad_token_id` to `eos_token_id`:2 for open-end generation.\n",
            " 14%|█▍        | 96/675 [00:41<03:56,  2.45it/s]Setting `pad_token_id` to `eos_token_id`:2 for open-end generation.\n",
            " 14%|█▍        | 97/675 [00:41<03:54,  2.47it/s]Setting `pad_token_id` to `eos_token_id`:2 for open-end generation.\n",
            " 15%|█▍        | 98/675 [00:42<03:51,  2.50it/s]Setting `pad_token_id` to `eos_token_id`:2 for open-end generation.\n",
            " 15%|█▍        | 99/675 [00:42<03:47,  2.53it/s]Setting `pad_token_id` to `eos_token_id`:2 for open-end generation.\n",
            " 15%|█▍        | 100/675 [00:42<03:46,  2.54it/s]Setting `pad_token_id` to `eos_token_id`:2 for open-end generation.\n",
            " 15%|█▍        | 101/675 [00:43<03:43,  2.56it/s]Setting `pad_token_id` to `eos_token_id`:2 for open-end generation.\n",
            " 15%|█▌        | 102/675 [00:43<03:41,  2.58it/s]Setting `pad_token_id` to `eos_token_id`:2 for open-end generation.\n",
            " 15%|█▌        | 103/675 [00:44<03:41,  2.58it/s]Setting `pad_token_id` to `eos_token_id`:2 for open-end generation.\n",
            " 15%|█▌        | 104/675 [00:44<03:41,  2.58it/s]Setting `pad_token_id` to `eos_token_id`:2 for open-end generation.\n",
            " 16%|█▌        | 105/675 [00:44<03:42,  2.56it/s]Setting `pad_token_id` to `eos_token_id`:2 for open-end generation.\n",
            " 16%|█▌        | 106/675 [00:45<03:44,  2.53it/s]Setting `pad_token_id` to `eos_token_id`:2 for open-end generation.\n",
            " 16%|█▌        | 107/675 [00:45<03:42,  2.56it/s]Setting `pad_token_id` to `eos_token_id`:2 for open-end generation.\n",
            " 16%|█▌        | 108/675 [00:46<03:41,  2.56it/s]Setting `pad_token_id` to `eos_token_id`:2 for open-end generation.\n",
            " 16%|█▌        | 109/675 [00:46<03:40,  2.57it/s]Setting `pad_token_id` to `eos_token_id`:2 for open-end generation.\n",
            " 16%|█▋        | 110/675 [00:46<03:37,  2.59it/s]Setting `pad_token_id` to `eos_token_id`:2 for open-end generation.\n",
            " 16%|█▋        | 111/675 [00:47<03:37,  2.60it/s]Setting `pad_token_id` to `eos_token_id`:2 for open-end generation.\n",
            " 17%|█▋        | 112/675 [00:47<03:37,  2.59it/s]Setting `pad_token_id` to `eos_token_id`:2 for open-end generation.\n",
            " 17%|█▋        | 113/675 [00:47<03:39,  2.56it/s]Setting `pad_token_id` to `eos_token_id`:2 for open-end generation.\n",
            " 17%|█▋        | 114/675 [00:48<03:38,  2.57it/s]Setting `pad_token_id` to `eos_token_id`:2 for open-end generation.\n",
            " 17%|█▋        | 115/675 [00:48<03:38,  2.56it/s]Setting `pad_token_id` to `eos_token_id`:2 for open-end generation.\n",
            " 17%|█▋        | 116/675 [00:49<03:38,  2.56it/s]Setting `pad_token_id` to `eos_token_id`:2 for open-end generation.\n",
            " 17%|█▋        | 117/675 [00:49<03:36,  2.58it/s]Setting `pad_token_id` to `eos_token_id`:2 for open-end generation.\n",
            " 17%|█▋        | 118/675 [00:49<03:35,  2.58it/s]Setting `pad_token_id` to `eos_token_id`:2 for open-end generation.\n",
            " 18%|█▊        | 119/675 [00:50<03:49,  2.43it/s]Setting `pad_token_id` to `eos_token_id`:2 for open-end generation.\n",
            " 18%|█▊        | 120/675 [00:50<03:52,  2.38it/s]Setting `pad_token_id` to `eos_token_id`:2 for open-end generation.\n",
            " 18%|█▊        | 121/675 [00:51<03:52,  2.38it/s]Setting `pad_token_id` to `eos_token_id`:2 for open-end generation.\n",
            " 18%|█▊        | 122/675 [00:51<03:55,  2.35it/s]Setting `pad_token_id` to `eos_token_id`:2 for open-end generation.\n",
            " 18%|█▊        | 123/675 [00:52<03:59,  2.30it/s]Setting `pad_token_id` to `eos_token_id`:2 for open-end generation.\n",
            " 18%|█▊        | 124/675 [00:52<04:04,  2.26it/s]Setting `pad_token_id` to `eos_token_id`:2 for open-end generation.\n",
            " 19%|█▊        | 125/675 [00:53<04:00,  2.29it/s]Setting `pad_token_id` to `eos_token_id`:2 for open-end generation.\n",
            " 19%|█▊        | 126/675 [00:53<03:51,  2.38it/s]Setting `pad_token_id` to `eos_token_id`:2 for open-end generation.\n",
            " 19%|█▉        | 127/675 [00:53<03:45,  2.43it/s]Setting `pad_token_id` to `eos_token_id`:2 for open-end generation.\n",
            " 19%|█▉        | 128/675 [00:54<03:43,  2.45it/s]Setting `pad_token_id` to `eos_token_id`:2 for open-end generation.\n",
            " 19%|█▉        | 129/675 [00:54<03:37,  2.51it/s]Setting `pad_token_id` to `eos_token_id`:2 for open-end generation.\n",
            " 19%|█▉        | 130/675 [00:54<03:35,  2.53it/s]Setting `pad_token_id` to `eos_token_id`:2 for open-end generation.\n",
            " 19%|█▉        | 131/675 [00:55<03:34,  2.53it/s]Setting `pad_token_id` to `eos_token_id`:2 for open-end generation.\n",
            " 20%|█▉        | 132/675 [00:55<03:31,  2.56it/s]Setting `pad_token_id` to `eos_token_id`:2 for open-end generation.\n",
            " 20%|█▉        | 133/675 [00:56<03:30,  2.58it/s]Setting `pad_token_id` to `eos_token_id`:2 for open-end generation.\n",
            " 20%|█▉        | 134/675 [00:56<03:29,  2.58it/s]Setting `pad_token_id` to `eos_token_id`:2 for open-end generation.\n",
            " 20%|██        | 135/675 [00:56<03:28,  2.59it/s]Setting `pad_token_id` to `eos_token_id`:2 for open-end generation.\n",
            " 20%|██        | 136/675 [00:57<03:32,  2.53it/s]Setting `pad_token_id` to `eos_token_id`:2 for open-end generation.\n",
            " 20%|██        | 137/675 [00:57<03:28,  2.58it/s]Setting `pad_token_id` to `eos_token_id`:2 for open-end generation.\n",
            " 20%|██        | 138/675 [00:58<03:27,  2.59it/s]Setting `pad_token_id` to `eos_token_id`:2 for open-end generation.\n",
            " 21%|██        | 139/675 [00:58<03:29,  2.56it/s]Setting `pad_token_id` to `eos_token_id`:2 for open-end generation.\n",
            " 21%|██        | 140/675 [00:58<03:26,  2.59it/s]Setting `pad_token_id` to `eos_token_id`:2 for open-end generation.\n",
            " 21%|██        | 141/675 [00:59<03:26,  2.58it/s]Setting `pad_token_id` to `eos_token_id`:2 for open-end generation.\n",
            " 21%|██        | 142/675 [00:59<03:25,  2.59it/s]Setting `pad_token_id` to `eos_token_id`:2 for open-end generation.\n",
            " 21%|██        | 143/675 [00:59<03:23,  2.61it/s]Setting `pad_token_id` to `eos_token_id`:2 for open-end generation.\n",
            " 21%|██▏       | 144/675 [01:00<03:22,  2.63it/s]Setting `pad_token_id` to `eos_token_id`:2 for open-end generation.\n",
            " 21%|██▏       | 145/675 [01:00<03:22,  2.62it/s]Setting `pad_token_id` to `eos_token_id`:2 for open-end generation.\n",
            " 22%|██▏       | 146/675 [01:01<03:21,  2.62it/s]Setting `pad_token_id` to `eos_token_id`:2 for open-end generation.\n",
            " 22%|██▏       | 147/675 [01:01<03:23,  2.60it/s]Setting `pad_token_id` to `eos_token_id`:2 for open-end generation.\n",
            " 22%|██▏       | 148/675 [01:01<03:23,  2.59it/s]Setting `pad_token_id` to `eos_token_id`:2 for open-end generation.\n",
            " 22%|██▏       | 149/675 [01:02<03:22,  2.60it/s]Setting `pad_token_id` to `eos_token_id`:2 for open-end generation.\n",
            " 22%|██▏       | 150/675 [01:02<03:20,  2.61it/s]Setting `pad_token_id` to `eos_token_id`:2 for open-end generation.\n",
            " 22%|██▏       | 151/675 [01:03<03:34,  2.45it/s]Setting `pad_token_id` to `eos_token_id`:2 for open-end generation.\n",
            " 23%|██▎       | 152/675 [01:03<03:39,  2.39it/s]Setting `pad_token_id` to `eos_token_id`:2 for open-end generation.\n",
            " 23%|██▎       | 153/675 [01:03<03:38,  2.39it/s]Setting `pad_token_id` to `eos_token_id`:2 for open-end generation.\n",
            " 23%|██▎       | 154/675 [01:04<03:42,  2.34it/s]Setting `pad_token_id` to `eos_token_id`:2 for open-end generation.\n",
            " 23%|██▎       | 155/675 [01:04<03:45,  2.31it/s]Setting `pad_token_id` to `eos_token_id`:2 for open-end generation.\n",
            " 23%|██▎       | 156/675 [01:05<03:48,  2.27it/s]Setting `pad_token_id` to `eos_token_id`:2 for open-end generation.\n",
            " 23%|██▎       | 157/675 [01:05<03:43,  2.31it/s]Setting `pad_token_id` to `eos_token_id`:2 for open-end generation.\n",
            " 23%|██▎       | 158/675 [01:06<03:37,  2.37it/s]Setting `pad_token_id` to `eos_token_id`:2 for open-end generation.\n",
            " 24%|██▎       | 159/675 [01:06<03:32,  2.43it/s]Setting `pad_token_id` to `eos_token_id`:2 for open-end generation.\n",
            " 24%|██▎       | 160/675 [01:06<03:27,  2.48it/s]Setting `pad_token_id` to `eos_token_id`:2 for open-end generation.\n",
            " 24%|██▍       | 161/675 [01:07<03:24,  2.52it/s]Setting `pad_token_id` to `eos_token_id`:2 for open-end generation.\n",
            " 24%|██▍       | 162/675 [01:07<03:23,  2.52it/s]Setting `pad_token_id` to `eos_token_id`:2 for open-end generation.\n",
            " 24%|██▍       | 163/675 [01:08<03:21,  2.54it/s]Setting `pad_token_id` to `eos_token_id`:2 for open-end generation.\n",
            " 24%|██▍       | 164/675 [01:08<03:19,  2.56it/s]Setting `pad_token_id` to `eos_token_id`:2 for open-end generation.\n",
            " 24%|██▍       | 165/675 [01:08<03:21,  2.54it/s]Setting `pad_token_id` to `eos_token_id`:2 for open-end generation.\n",
            " 25%|██▍       | 166/675 [01:09<03:19,  2.55it/s]Setting `pad_token_id` to `eos_token_id`:2 for open-end generation.\n",
            " 25%|██▍       | 167/675 [01:09<03:17,  2.57it/s]Setting `pad_token_id` to `eos_token_id`:2 for open-end generation.\n",
            " 25%|██▍       | 168/675 [01:10<03:15,  2.59it/s]Setting `pad_token_id` to `eos_token_id`:2 for open-end generation.\n",
            " 25%|██▌       | 169/675 [01:10<03:15,  2.59it/s]Setting `pad_token_id` to `eos_token_id`:2 for open-end generation.\n",
            " 25%|██▌       | 170/675 [01:10<03:15,  2.58it/s]Setting `pad_token_id` to `eos_token_id`:2 for open-end generation.\n",
            " 25%|██▌       | 171/675 [01:11<03:14,  2.59it/s]Setting `pad_token_id` to `eos_token_id`:2 for open-end generation.\n",
            " 25%|██▌       | 172/675 [01:11<03:13,  2.60it/s]Setting `pad_token_id` to `eos_token_id`:2 for open-end generation.\n",
            " 26%|██▌       | 173/675 [01:11<03:16,  2.55it/s]Setting `pad_token_id` to `eos_token_id`:2 for open-end generation.\n",
            " 26%|██▌       | 174/675 [01:12<03:15,  2.57it/s]Setting `pad_token_id` to `eos_token_id`:2 for open-end generation.\n",
            " 26%|██▌       | 175/675 [01:12<03:14,  2.57it/s]Setting `pad_token_id` to `eos_token_id`:2 for open-end generation.\n",
            " 26%|██▌       | 176/675 [01:13<03:13,  2.58it/s]Setting `pad_token_id` to `eos_token_id`:2 for open-end generation.\n",
            " 26%|██▌       | 177/675 [01:13<03:15,  2.55it/s]Setting `pad_token_id` to `eos_token_id`:2 for open-end generation.\n",
            " 26%|██▋       | 178/675 [01:13<03:15,  2.54it/s]Setting `pad_token_id` to `eos_token_id`:2 for open-end generation.\n",
            " 27%|██▋       | 179/675 [01:14<03:12,  2.58it/s]Setting `pad_token_id` to `eos_token_id`:2 for open-end generation.\n",
            " 27%|██▋       | 180/675 [01:14<03:11,  2.58it/s]Setting `pad_token_id` to `eos_token_id`:2 for open-end generation.\n",
            " 27%|██▋       | 181/675 [01:15<03:12,  2.57it/s]Setting `pad_token_id` to `eos_token_id`:2 for open-end generation.\n",
            " 27%|██▋       | 182/675 [01:15<03:16,  2.50it/s]Setting `pad_token_id` to `eos_token_id`:2 for open-end generation.\n",
            " 27%|██▋       | 183/675 [01:15<03:26,  2.39it/s]Setting `pad_token_id` to `eos_token_id`:2 for open-end generation.\n",
            " 27%|██▋       | 184/675 [01:16<03:27,  2.37it/s]Setting `pad_token_id` to `eos_token_id`:2 for open-end generation.\n",
            " 27%|██▋       | 185/675 [01:16<03:27,  2.37it/s]Setting `pad_token_id` to `eos_token_id`:2 for open-end generation.\n",
            " 28%|██▊       | 186/675 [01:17<03:27,  2.35it/s]Setting `pad_token_id` to `eos_token_id`:2 for open-end generation.\n",
            " 28%|██▊       | 187/675 [01:17<03:30,  2.32it/s]Setting `pad_token_id` to `eos_token_id`:2 for open-end generation.\n",
            " 28%|██▊       | 188/675 [01:18<03:40,  2.21it/s]Setting `pad_token_id` to `eos_token_id`:2 for open-end generation.\n",
            " 28%|██▊       | 189/675 [01:18<03:29,  2.32it/s]Setting `pad_token_id` to `eos_token_id`:2 for open-end generation.\n",
            " 28%|██▊       | 190/675 [01:18<03:21,  2.41it/s]Setting `pad_token_id` to `eos_token_id`:2 for open-end generation.\n",
            " 28%|██▊       | 191/675 [01:19<03:17,  2.45it/s]Setting `pad_token_id` to `eos_token_id`:2 for open-end generation.\n",
            " 28%|██▊       | 192/675 [01:19<03:12,  2.51it/s]Setting `pad_token_id` to `eos_token_id`:2 for open-end generation.\n",
            " 29%|██▊       | 193/675 [01:20<03:09,  2.54it/s]Setting `pad_token_id` to `eos_token_id`:2 for open-end generation.\n",
            " 29%|██▊       | 194/675 [01:20<03:08,  2.55it/s]Setting `pad_token_id` to `eos_token_id`:2 for open-end generation.\n",
            " 29%|██▉       | 195/675 [01:20<03:06,  2.57it/s]Setting `pad_token_id` to `eos_token_id`:2 for open-end generation.\n",
            " 29%|██▉       | 196/675 [01:21<03:06,  2.57it/s]Setting `pad_token_id` to `eos_token_id`:2 for open-end generation.\n",
            " 29%|██▉       | 197/675 [01:21<03:05,  2.58it/s]Setting `pad_token_id` to `eos_token_id`:2 for open-end generation.\n",
            " 29%|██▉       | 198/675 [01:22<03:04,  2.58it/s]Setting `pad_token_id` to `eos_token_id`:2 for open-end generation.\n",
            " 29%|██▉       | 199/675 [01:22<03:04,  2.58it/s]Setting `pad_token_id` to `eos_token_id`:2 for open-end generation.\n",
            " 30%|██▉       | 200/675 [01:22<03:02,  2.60it/s]Setting `pad_token_id` to `eos_token_id`:2 for open-end generation.\n",
            " 30%|██▉       | 201/675 [01:23<03:01,  2.61it/s]Setting `pad_token_id` to `eos_token_id`:2 for open-end generation.\n",
            " 30%|██▉       | 202/675 [01:23<03:00,  2.62it/s]Setting `pad_token_id` to `eos_token_id`:2 for open-end generation.\n",
            " 30%|███       | 203/675 [01:23<03:03,  2.57it/s]Setting `pad_token_id` to `eos_token_id`:2 for open-end generation.\n",
            " 30%|███       | 204/675 [01:24<03:05,  2.54it/s]Setting `pad_token_id` to `eos_token_id`:2 for open-end generation.\n",
            " 30%|███       | 205/675 [01:24<03:02,  2.58it/s]Setting `pad_token_id` to `eos_token_id`:2 for open-end generation.\n",
            " 31%|███       | 206/675 [01:25<03:01,  2.59it/s]Setting `pad_token_id` to `eos_token_id`:2 for open-end generation.\n",
            " 31%|███       | 207/675 [01:25<03:01,  2.58it/s]Setting `pad_token_id` to `eos_token_id`:2 for open-end generation.\n",
            " 31%|███       | 208/675 [01:25<03:00,  2.59it/s]Setting `pad_token_id` to `eos_token_id`:2 for open-end generation.\n",
            " 31%|███       | 209/675 [01:26<02:59,  2.60it/s]Setting `pad_token_id` to `eos_token_id`:2 for open-end generation.\n",
            " 31%|███       | 210/675 [01:26<02:58,  2.61it/s]Setting `pad_token_id` to `eos_token_id`:2 for open-end generation.\n",
            " 31%|███▏      | 211/675 [01:27<02:56,  2.63it/s]Setting `pad_token_id` to `eos_token_id`:2 for open-end generation.\n",
            " 31%|███▏      | 212/675 [01:27<02:57,  2.60it/s]Setting `pad_token_id` to `eos_token_id`:2 for open-end generation.\n",
            " 32%|███▏      | 213/675 [01:27<02:56,  2.62it/s]Setting `pad_token_id` to `eos_token_id`:2 for open-end generation.\n",
            " 32%|███▏      | 214/675 [01:28<02:56,  2.61it/s]Setting `pad_token_id` to `eos_token_id`:2 for open-end generation.\n",
            " 32%|███▏      | 215/675 [01:28<03:06,  2.46it/s]Setting `pad_token_id` to `eos_token_id`:2 for open-end generation.\n",
            " 32%|███▏      | 216/675 [01:29<03:08,  2.43it/s]Setting `pad_token_id` to `eos_token_id`:2 for open-end generation.\n",
            " 32%|███▏      | 217/675 [01:29<03:12,  2.38it/s]Setting `pad_token_id` to `eos_token_id`:2 for open-end generation.\n",
            " 32%|███▏      | 218/675 [01:29<03:13,  2.36it/s]Setting `pad_token_id` to `eos_token_id`:2 for open-end generation.\n",
            " 32%|███▏      | 219/675 [01:30<03:16,  2.32it/s]Setting `pad_token_id` to `eos_token_id`:2 for open-end generation.\n",
            " 33%|███▎      | 220/675 [01:30<03:21,  2.26it/s]Setting `pad_token_id` to `eos_token_id`:2 for open-end generation.\n",
            " 33%|███▎      | 221/675 [01:31<03:12,  2.36it/s]Setting `pad_token_id` to `eos_token_id`:2 for open-end generation.\n",
            " 33%|███▎      | 222/675 [01:31<03:07,  2.41it/s]Setting `pad_token_id` to `eos_token_id`:2 for open-end generation.\n",
            " 33%|███▎      | 223/675 [01:32<03:03,  2.46it/s]Setting `pad_token_id` to `eos_token_id`:2 for open-end generation.\n",
            " 33%|███▎      | 224/675 [01:32<03:01,  2.49it/s]Setting `pad_token_id` to `eos_token_id`:2 for open-end generation.\n",
            " 33%|███▎      | 225/675 [01:32<02:58,  2.52it/s]Setting `pad_token_id` to `eos_token_id`:2 for open-end generation.\n",
            " 33%|███▎      | 226/675 [01:33<02:58,  2.51it/s]Setting `pad_token_id` to `eos_token_id`:2 for open-end generation.\n",
            " 34%|███▎      | 227/675 [01:33<02:58,  2.51it/s]Setting `pad_token_id` to `eos_token_id`:2 for open-end generation.\n",
            " 34%|███▍      | 228/675 [01:33<02:55,  2.55it/s]Setting `pad_token_id` to `eos_token_id`:2 for open-end generation.\n",
            " 34%|███▍      | 229/675 [01:34<02:53,  2.58it/s]Setting `pad_token_id` to `eos_token_id`:2 for open-end generation.\n",
            " 34%|███▍      | 230/675 [01:34<02:53,  2.57it/s]Setting `pad_token_id` to `eos_token_id`:2 for open-end generation.\n",
            " 34%|███▍      | 231/675 [01:35<02:51,  2.58it/s]Setting `pad_token_id` to `eos_token_id`:2 for open-end generation.\n",
            " 34%|███▍      | 232/675 [01:35<02:50,  2.60it/s]Setting `pad_token_id` to `eos_token_id`:2 for open-end generation.\n",
            " 35%|███▍      | 233/675 [01:35<02:50,  2.59it/s]Setting `pad_token_id` to `eos_token_id`:2 for open-end generation.\n",
            " 35%|███▍      | 234/675 [01:36<02:50,  2.59it/s]Setting `pad_token_id` to `eos_token_id`:2 for open-end generation.\n",
            " 35%|███▍      | 235/675 [01:36<02:51,  2.56it/s]Setting `pad_token_id` to `eos_token_id`:2 for open-end generation.\n",
            " 35%|███▍      | 236/675 [01:37<02:49,  2.59it/s]Setting `pad_token_id` to `eos_token_id`:2 for open-end generation.\n",
            " 35%|███▌      | 237/675 [01:37<02:48,  2.59it/s]Setting `pad_token_id` to `eos_token_id`:2 for open-end generation.\n",
            " 35%|███▌      | 238/675 [01:37<02:49,  2.57it/s]Setting `pad_token_id` to `eos_token_id`:2 for open-end generation.\n",
            " 35%|███▌      | 239/675 [01:38<02:47,  2.60it/s]Setting `pad_token_id` to `eos_token_id`:2 for open-end generation.\n",
            " 36%|███▌      | 240/675 [01:38<02:47,  2.59it/s]Setting `pad_token_id` to `eos_token_id`:2 for open-end generation.\n",
            " 36%|███▌      | 241/675 [01:38<02:47,  2.60it/s]Setting `pad_token_id` to `eos_token_id`:2 for open-end generation.\n",
            " 36%|███▌      | 242/675 [01:39<02:46,  2.61it/s]Setting `pad_token_id` to `eos_token_id`:2 for open-end generation.\n",
            " 36%|███▌      | 243/675 [01:39<02:44,  2.62it/s]Setting `pad_token_id` to `eos_token_id`:2 for open-end generation.\n",
            " 36%|███▌      | 244/675 [01:40<02:44,  2.61it/s]Setting `pad_token_id` to `eos_token_id`:2 for open-end generation.\n",
            " 36%|███▋      | 245/675 [01:40<02:43,  2.63it/s]Setting `pad_token_id` to `eos_token_id`:2 for open-end generation.\n",
            " 36%|███▋      | 246/675 [01:40<02:47,  2.57it/s]Setting `pad_token_id` to `eos_token_id`:2 for open-end generation.\n",
            " 37%|███▋      | 247/675 [01:41<02:54,  2.45it/s]Setting `pad_token_id` to `eos_token_id`:2 for open-end generation.\n",
            " 37%|███▋      | 248/675 [01:41<02:56,  2.42it/s]Setting `pad_token_id` to `eos_token_id`:2 for open-end generation.\n",
            " 37%|███▋      | 249/675 [01:42<02:57,  2.40it/s]Setting `pad_token_id` to `eos_token_id`:2 for open-end generation.\n",
            " 37%|███▋      | 250/675 [01:42<02:59,  2.37it/s]Setting `pad_token_id` to `eos_token_id`:2 for open-end generation.\n",
            " 37%|███▋      | 251/675 [01:43<03:03,  2.31it/s]Setting `pad_token_id` to `eos_token_id`:2 for open-end generation.\n",
            " 37%|███▋      | 252/675 [01:43<03:07,  2.25it/s]Setting `pad_token_id` to `eos_token_id`:2 for open-end generation.\n",
            " 37%|███▋      | 253/675 [01:43<03:00,  2.34it/s]Setting `pad_token_id` to `eos_token_id`:2 for open-end generation.\n",
            " 38%|███▊      | 254/675 [01:44<02:54,  2.41it/s]Setting `pad_token_id` to `eos_token_id`:2 for open-end generation.\n",
            " 38%|███▊      | 255/675 [01:44<02:49,  2.48it/s]Setting `pad_token_id` to `eos_token_id`:2 for open-end generation.\n",
            " 38%|███▊      | 256/675 [01:45<02:49,  2.48it/s]Setting `pad_token_id` to `eos_token_id`:2 for open-end generation.\n",
            " 38%|███▊      | 257/675 [01:45<02:51,  2.43it/s]Setting `pad_token_id` to `eos_token_id`:2 for open-end generation.\n",
            " 38%|███▊      | 258/675 [01:45<02:48,  2.47it/s]Setting `pad_token_id` to `eos_token_id`:2 for open-end generation.\n",
            " 38%|███▊      | 259/675 [01:46<02:45,  2.51it/s]Setting `pad_token_id` to `eos_token_id`:2 for open-end generation.\n",
            " 39%|███▊      | 260/675 [01:46<02:43,  2.54it/s]Setting `pad_token_id` to `eos_token_id`:2 for open-end generation.\n",
            " 39%|███▊      | 261/675 [01:47<02:43,  2.53it/s]Setting `pad_token_id` to `eos_token_id`:2 for open-end generation.\n",
            " 39%|███▉      | 262/675 [01:47<02:42,  2.54it/s]Setting `pad_token_id` to `eos_token_id`:2 for open-end generation.\n",
            " 39%|███▉      | 263/675 [01:47<02:43,  2.53it/s]Setting `pad_token_id` to `eos_token_id`:2 for open-end generation.\n",
            " 39%|███▉      | 264/675 [01:48<02:42,  2.53it/s]Setting `pad_token_id` to `eos_token_id`:2 for open-end generation.\n",
            " 39%|███▉      | 265/675 [01:48<02:40,  2.56it/s]Setting `pad_token_id` to `eos_token_id`:2 for open-end generation.\n",
            " 39%|███▉      | 266/675 [01:49<02:38,  2.58it/s]Setting `pad_token_id` to `eos_token_id`:2 for open-end generation.\n",
            " 40%|███▉      | 267/675 [01:49<02:38,  2.58it/s]Setting `pad_token_id` to `eos_token_id`:2 for open-end generation.\n",
            " 40%|███▉      | 268/675 [01:49<02:37,  2.59it/s]Setting `pad_token_id` to `eos_token_id`:2 for open-end generation.\n",
            " 40%|███▉      | 269/675 [01:50<02:38,  2.57it/s]Setting `pad_token_id` to `eos_token_id`:2 for open-end generation.\n",
            " 40%|████      | 270/675 [01:50<02:37,  2.58it/s]Setting `pad_token_id` to `eos_token_id`:2 for open-end generation.\n",
            " 40%|████      | 271/675 [01:50<02:35,  2.59it/s]Setting `pad_token_id` to `eos_token_id`:2 for open-end generation.\n",
            " 40%|████      | 272/675 [01:51<02:35,  2.60it/s]Setting `pad_token_id` to `eos_token_id`:2 for open-end generation.\n",
            " 40%|████      | 273/675 [01:51<02:36,  2.58it/s]Setting `pad_token_id` to `eos_token_id`:2 for open-end generation.\n",
            " 41%|████      | 274/675 [01:52<02:35,  2.58it/s]Setting `pad_token_id` to `eos_token_id`:2 for open-end generation.\n",
            " 41%|████      | 275/675 [01:52<02:35,  2.58it/s]Setting `pad_token_id` to `eos_token_id`:2 for open-end generation.\n",
            " 41%|████      | 276/675 [01:52<02:34,  2.59it/s]Setting `pad_token_id` to `eos_token_id`:2 for open-end generation.\n",
            " 41%|████      | 277/675 [01:53<02:34,  2.57it/s]Setting `pad_token_id` to `eos_token_id`:2 for open-end generation.\n",
            " 41%|████      | 278/675 [01:53<02:33,  2.58it/s]Setting `pad_token_id` to `eos_token_id`:2 for open-end generation.\n",
            " 41%|████▏     | 279/675 [01:54<02:40,  2.46it/s]Setting `pad_token_id` to `eos_token_id`:2 for open-end generation.\n",
            " 41%|████▏     | 280/675 [01:54<02:43,  2.41it/s]Setting `pad_token_id` to `eos_token_id`:2 for open-end generation.\n",
            " 42%|████▏     | 281/675 [01:54<02:43,  2.41it/s]Setting `pad_token_id` to `eos_token_id`:2 for open-end generation.\n",
            " 42%|████▏     | 282/675 [01:55<02:46,  2.36it/s]Setting `pad_token_id` to `eos_token_id`:2 for open-end generation.\n",
            " 42%|████▏     | 283/675 [01:55<02:49,  2.31it/s]Setting `pad_token_id` to `eos_token_id`:2 for open-end generation.\n",
            " 42%|████▏     | 284/675 [01:56<02:54,  2.25it/s]Setting `pad_token_id` to `eos_token_id`:2 for open-end generation.\n",
            " 42%|████▏     | 285/675 [01:56<02:46,  2.34it/s]Setting `pad_token_id` to `eos_token_id`:2 for open-end generation.\n",
            " 42%|████▏     | 286/675 [01:57<02:41,  2.41it/s]Setting `pad_token_id` to `eos_token_id`:2 for open-end generation.\n",
            " 43%|████▎     | 287/675 [01:57<02:40,  2.42it/s]Setting `pad_token_id` to `eos_token_id`:2 for open-end generation.\n",
            " 43%|████▎     | 288/675 [01:57<02:36,  2.48it/s]Setting `pad_token_id` to `eos_token_id`:2 for open-end generation.\n",
            " 43%|████▎     | 289/675 [01:58<02:33,  2.51it/s]Setting `pad_token_id` to `eos_token_id`:2 for open-end generation.\n",
            " 43%|████▎     | 290/675 [01:58<02:31,  2.54it/s]Setting `pad_token_id` to `eos_token_id`:2 for open-end generation.\n",
            " 43%|████▎     | 291/675 [01:59<02:30,  2.55it/s]Setting `pad_token_id` to `eos_token_id`:2 for open-end generation.\n",
            " 43%|████▎     | 292/675 [01:59<02:28,  2.57it/s]Setting `pad_token_id` to `eos_token_id`:2 for open-end generation.\n",
            " 43%|████▎     | 293/675 [01:59<02:28,  2.57it/s]Setting `pad_token_id` to `eos_token_id`:2 for open-end generation.\n",
            " 44%|████▎     | 294/675 [02:00<02:27,  2.59it/s]Setting `pad_token_id` to `eos_token_id`:2 for open-end generation.\n",
            " 44%|████▎     | 295/675 [02:00<02:28,  2.57it/s]Setting `pad_token_id` to `eos_token_id`:2 for open-end generation.\n",
            " 44%|████▍     | 296/675 [02:01<02:27,  2.57it/s]Setting `pad_token_id` to `eos_token_id`:2 for open-end generation.\n",
            " 44%|████▍     | 297/675 [02:01<02:26,  2.59it/s]Setting `pad_token_id` to `eos_token_id`:2 for open-end generation.\n",
            " 44%|████▍     | 298/675 [02:01<02:25,  2.58it/s]Setting `pad_token_id` to `eos_token_id`:2 for open-end generation.\n",
            " 44%|████▍     | 299/675 [02:02<02:26,  2.57it/s]Setting `pad_token_id` to `eos_token_id`:2 for open-end generation.\n",
            " 44%|████▍     | 300/675 [02:02<02:24,  2.60it/s]Setting `pad_token_id` to `eos_token_id`:2 for open-end generation.\n",
            " 45%|████▍     | 301/675 [02:02<02:24,  2.59it/s]Setting `pad_token_id` to `eos_token_id`:2 for open-end generation.\n",
            " 45%|████▍     | 302/675 [02:03<02:25,  2.56it/s]Setting `pad_token_id` to `eos_token_id`:2 for open-end generation.\n",
            " 45%|████▍     | 303/675 [02:03<02:25,  2.56it/s]Setting `pad_token_id` to `eos_token_id`:2 for open-end generation.\n",
            " 45%|████▌     | 304/675 [02:04<02:24,  2.57it/s]Setting `pad_token_id` to `eos_token_id`:2 for open-end generation.\n",
            " 45%|████▌     | 305/675 [02:04<02:22,  2.59it/s]Setting `pad_token_id` to `eos_token_id`:2 for open-end generation.\n",
            " 45%|████▌     | 306/675 [02:04<02:22,  2.59it/s]Setting `pad_token_id` to `eos_token_id`:2 for open-end generation.\n",
            " 45%|████▌     | 307/675 [02:05<02:21,  2.60it/s]Setting `pad_token_id` to `eos_token_id`:2 for open-end generation.\n",
            " 46%|████▌     | 308/675 [02:05<02:20,  2.61it/s]Setting `pad_token_id` to `eos_token_id`:2 for open-end generation.\n",
            " 46%|████▌     | 309/675 [02:06<02:22,  2.57it/s]Setting `pad_token_id` to `eos_token_id`:2 for open-end generation.\n",
            " 46%|████▌     | 310/675 [02:06<02:21,  2.58it/s]Setting `pad_token_id` to `eos_token_id`:2 for open-end generation.\n",
            " 46%|████▌     | 311/675 [02:06<02:28,  2.46it/s]Setting `pad_token_id` to `eos_token_id`:2 for open-end generation.\n",
            " 46%|████▌     | 312/675 [02:07<02:31,  2.40it/s]Setting `pad_token_id` to `eos_token_id`:2 for open-end generation.\n",
            " 46%|████▋     | 313/675 [02:07<02:31,  2.40it/s]Setting `pad_token_id` to `eos_token_id`:2 for open-end generation.\n",
            " 47%|████▋     | 314/675 [02:08<02:32,  2.36it/s]Setting `pad_token_id` to `eos_token_id`:2 for open-end generation.\n",
            " 47%|████▋     | 315/675 [02:08<02:36,  2.31it/s]Setting `pad_token_id` to `eos_token_id`:2 for open-end generation.\n",
            " 47%|████▋     | 316/675 [02:09<02:41,  2.22it/s]Setting `pad_token_id` to `eos_token_id`:2 for open-end generation.\n",
            " 47%|████▋     | 317/675 [02:09<02:34,  2.32it/s]Setting `pad_token_id` to `eos_token_id`:2 for open-end generation.\n",
            " 47%|████▋     | 318/675 [02:09<02:28,  2.40it/s]Setting `pad_token_id` to `eos_token_id`:2 for open-end generation.\n",
            " 47%|████▋     | 319/675 [02:10<02:25,  2.44it/s]Setting `pad_token_id` to `eos_token_id`:2 for open-end generation.\n",
            " 47%|████▋     | 320/675 [02:10<02:22,  2.49it/s]Setting `pad_token_id` to `eos_token_id`:2 for open-end generation.\n",
            " 48%|████▊     | 321/675 [02:11<02:21,  2.50it/s]Setting `pad_token_id` to `eos_token_id`:2 for open-end generation.\n",
            " 48%|████▊     | 322/675 [02:11<02:19,  2.52it/s]Setting `pad_token_id` to `eos_token_id`:2 for open-end generation.\n",
            " 48%|████▊     | 323/675 [02:11<02:18,  2.53it/s]Setting `pad_token_id` to `eos_token_id`:2 for open-end generation.\n",
            " 48%|████▊     | 324/675 [02:12<02:16,  2.58it/s]Setting `pad_token_id` to `eos_token_id`:2 for open-end generation.\n",
            " 48%|████▊     | 325/675 [02:12<02:14,  2.60it/s]Setting `pad_token_id` to `eos_token_id`:2 for open-end generation.\n",
            " 48%|████▊     | 326/675 [02:12<02:14,  2.60it/s]Setting `pad_token_id` to `eos_token_id`:2 for open-end generation.\n",
            " 48%|████▊     | 327/675 [02:13<02:13,  2.60it/s]Setting `pad_token_id` to `eos_token_id`:2 for open-end generation.\n",
            " 49%|████▊     | 328/675 [02:13<02:13,  2.61it/s]Setting `pad_token_id` to `eos_token_id`:2 for open-end generation.\n",
            " 49%|████▊     | 329/675 [02:14<02:14,  2.57it/s]Setting `pad_token_id` to `eos_token_id`:2 for open-end generation.\n",
            " 49%|████▉     | 330/675 [02:14<02:13,  2.58it/s]Setting `pad_token_id` to `eos_token_id`:2 for open-end generation.\n",
            " 49%|████▉     | 331/675 [02:14<02:12,  2.59it/s]Setting `pad_token_id` to `eos_token_id`:2 for open-end generation.\n",
            " 49%|████▉     | 332/675 [02:15<02:11,  2.60it/s]Setting `pad_token_id` to `eos_token_id`:2 for open-end generation.\n",
            " 49%|████▉     | 333/675 [02:15<02:14,  2.55it/s]Setting `pad_token_id` to `eos_token_id`:2 for open-end generation.\n",
            " 49%|████▉     | 334/675 [02:16<02:13,  2.56it/s]Setting `pad_token_id` to `eos_token_id`:2 for open-end generation.\n",
            " 50%|████▉     | 335/675 [02:16<02:13,  2.55it/s]Setting `pad_token_id` to `eos_token_id`:2 for open-end generation.\n",
            " 50%|████▉     | 336/675 [02:16<02:12,  2.56it/s]Setting `pad_token_id` to `eos_token_id`:2 for open-end generation.\n",
            " 50%|████▉     | 337/675 [02:17<02:12,  2.56it/s]Setting `pad_token_id` to `eos_token_id`:2 for open-end generation.\n",
            " 50%|█████     | 338/675 [02:17<02:11,  2.57it/s]Setting `pad_token_id` to `eos_token_id`:2 for open-end generation.\n",
            " 50%|█████     | 339/675 [02:18<02:09,  2.59it/s]Setting `pad_token_id` to `eos_token_id`:2 for open-end generation.\n",
            " 50%|█████     | 340/675 [02:18<02:09,  2.58it/s]Setting `pad_token_id` to `eos_token_id`:2 for open-end generation.\n",
            " 51%|█████     | 341/675 [02:18<02:08,  2.60it/s]Setting `pad_token_id` to `eos_token_id`:2 for open-end generation.\n",
            " 51%|█████     | 342/675 [02:19<02:08,  2.59it/s]Setting `pad_token_id` to `eos_token_id`:2 for open-end generation.\n",
            " 51%|█████     | 343/675 [02:19<02:14,  2.47it/s]Setting `pad_token_id` to `eos_token_id`:2 for open-end generation.\n",
            " 51%|█████     | 344/675 [02:20<02:16,  2.42it/s]Setting `pad_token_id` to `eos_token_id`:2 for open-end generation.\n",
            " 51%|█████     | 345/675 [02:20<02:18,  2.38it/s]Setting `pad_token_id` to `eos_token_id`:2 for open-end generation.\n",
            " 51%|█████▏    | 346/675 [02:20<02:19,  2.35it/s]Setting `pad_token_id` to `eos_token_id`:2 for open-end generation.\n",
            " 51%|█████▏    | 347/675 [02:21<02:24,  2.26it/s]Setting `pad_token_id` to `eos_token_id`:2 for open-end generation.\n",
            " 52%|█████▏    | 348/675 [02:21<02:28,  2.21it/s]Setting `pad_token_id` to `eos_token_id`:2 for open-end generation.\n",
            " 52%|█████▏    | 349/675 [02:22<02:20,  2.32it/s]Setting `pad_token_id` to `eos_token_id`:2 for open-end generation.\n",
            " 52%|█████▏    | 350/675 [02:22<02:15,  2.40it/s]Setting `pad_token_id` to `eos_token_id`:2 for open-end generation.\n",
            " 52%|█████▏    | 351/675 [02:23<02:11,  2.47it/s]Setting `pad_token_id` to `eos_token_id`:2 for open-end generation.\n",
            " 52%|█████▏    | 352/675 [02:23<02:08,  2.51it/s]Setting `pad_token_id` to `eos_token_id`:2 for open-end generation.\n",
            " 52%|█████▏    | 353/675 [02:23<02:06,  2.54it/s]Setting `pad_token_id` to `eos_token_id`:2 for open-end generation.\n",
            " 52%|█████▏    | 354/675 [02:24<02:05,  2.55it/s]Setting `pad_token_id` to `eos_token_id`:2 for open-end generation.\n",
            " 53%|█████▎    | 355/675 [02:24<02:05,  2.54it/s]Setting `pad_token_id` to `eos_token_id`:2 for open-end generation.\n",
            " 53%|█████▎    | 356/675 [02:24<02:04,  2.57it/s]Setting `pad_token_id` to `eos_token_id`:2 for open-end generation.\n",
            " 53%|█████▎    | 357/675 [02:25<02:03,  2.58it/s]Setting `pad_token_id` to `eos_token_id`:2 for open-end generation.\n",
            " 53%|█████▎    | 358/675 [02:25<02:02,  2.58it/s]Setting `pad_token_id` to `eos_token_id`:2 for open-end generation.\n",
            " 53%|█████▎    | 359/675 [02:26<02:01,  2.60it/s]Setting `pad_token_id` to `eos_token_id`:2 for open-end generation.\n",
            " 53%|█████▎    | 360/675 [02:26<02:00,  2.61it/s]Setting `pad_token_id` to `eos_token_id`:2 for open-end generation.\n",
            " 53%|█████▎    | 361/675 [02:26<02:00,  2.60it/s]Setting `pad_token_id` to `eos_token_id`:2 for open-end generation.\n",
            " 54%|█████▎    | 362/675 [02:27<01:59,  2.61it/s]Setting `pad_token_id` to `eos_token_id`:2 for open-end generation.\n",
            " 54%|█████▍    | 363/675 [02:27<02:02,  2.55it/s]Setting `pad_token_id` to `eos_token_id`:2 for open-end generation.\n",
            " 54%|█████▍    | 364/675 [02:28<02:01,  2.57it/s]Setting `pad_token_id` to `eos_token_id`:2 for open-end generation.\n",
            " 54%|█████▍    | 365/675 [02:28<01:59,  2.59it/s]Setting `pad_token_id` to `eos_token_id`:2 for open-end generation.\n",
            " 54%|█████▍    | 366/675 [02:28<01:59,  2.59it/s]Setting `pad_token_id` to `eos_token_id`:2 for open-end generation.\n",
            " 54%|█████▍    | 367/675 [02:29<01:58,  2.59it/s]Setting `pad_token_id` to `eos_token_id`:2 for open-end generation.\n",
            " 55%|█████▍    | 368/675 [02:29<01:57,  2.61it/s]Setting `pad_token_id` to `eos_token_id`:2 for open-end generation.\n",
            " 55%|█████▍    | 369/675 [02:29<01:56,  2.62it/s]Setting `pad_token_id` to `eos_token_id`:2 for open-end generation.\n",
            " 55%|█████▍    | 370/675 [02:30<01:55,  2.63it/s]Setting `pad_token_id` to `eos_token_id`:2 for open-end generation.\n",
            " 55%|█████▍    | 371/675 [02:30<01:56,  2.60it/s]Setting `pad_token_id` to `eos_token_id`:2 for open-end generation.\n",
            " 55%|█████▌    | 372/675 [02:31<01:56,  2.60it/s]Setting `pad_token_id` to `eos_token_id`:2 for open-end generation.\n",
            " 55%|█████▌    | 373/675 [02:31<01:55,  2.61it/s]Setting `pad_token_id` to `eos_token_id`:2 for open-end generation.\n",
            " 55%|█████▌    | 374/675 [02:31<01:55,  2.61it/s]Setting `pad_token_id` to `eos_token_id`:2 for open-end generation.\n",
            " 56%|█████▌    | 375/675 [02:32<02:00,  2.50it/s]Setting `pad_token_id` to `eos_token_id`:2 for open-end generation.\n",
            " 56%|█████▌    | 376/675 [02:32<02:03,  2.42it/s]Setting `pad_token_id` to `eos_token_id`:2 for open-end generation.\n",
            " 56%|█████▌    | 377/675 [02:33<02:03,  2.40it/s]Setting `pad_token_id` to `eos_token_id`:2 for open-end generation.\n",
            " 56%|█████▌    | 378/675 [02:33<02:04,  2.39it/s]Setting `pad_token_id` to `eos_token_id`:2 for open-end generation.\n",
            " 56%|█████▌    | 379/675 [02:34<02:07,  2.32it/s]Setting `pad_token_id` to `eos_token_id`:2 for open-end generation.\n",
            " 56%|█████▋    | 380/675 [02:34<02:09,  2.27it/s]Setting `pad_token_id` to `eos_token_id`:2 for open-end generation.\n",
            " 56%|█████▋    | 381/675 [02:34<02:05,  2.35it/s]Setting `pad_token_id` to `eos_token_id`:2 for open-end generation.\n",
            " 57%|█████▋    | 382/675 [02:35<02:00,  2.43it/s]Setting `pad_token_id` to `eos_token_id`:2 for open-end generation.\n",
            " 57%|█████▋    | 383/675 [02:35<01:58,  2.47it/s]Setting `pad_token_id` to `eos_token_id`:2 for open-end generation.\n",
            " 57%|█████▋    | 384/675 [02:36<01:55,  2.51it/s]Setting `pad_token_id` to `eos_token_id`:2 for open-end generation.\n",
            " 57%|█████▋    | 385/675 [02:36<01:53,  2.54it/s]Setting `pad_token_id` to `eos_token_id`:2 for open-end generation.\n",
            " 57%|█████▋    | 386/675 [02:36<01:54,  2.53it/s]Setting `pad_token_id` to `eos_token_id`:2 for open-end generation.\n",
            " 57%|█████▋    | 387/675 [02:37<01:53,  2.55it/s]Setting `pad_token_id` to `eos_token_id`:2 for open-end generation.\n",
            " 57%|█████▋    | 388/675 [02:37<01:53,  2.54it/s]Setting `pad_token_id` to `eos_token_id`:2 for open-end generation.\n",
            " 58%|█████▊    | 389/675 [02:38<01:54,  2.50it/s]Setting `pad_token_id` to `eos_token_id`:2 for open-end generation.\n",
            " 58%|█████▊    | 390/675 [02:38<01:52,  2.53it/s]Setting `pad_token_id` to `eos_token_id`:2 for open-end generation.\n",
            " 58%|█████▊    | 391/675 [02:38<01:50,  2.57it/s]Setting `pad_token_id` to `eos_token_id`:2 for open-end generation.\n",
            " 58%|█████▊    | 392/675 [02:39<01:50,  2.57it/s]Setting `pad_token_id` to `eos_token_id`:2 for open-end generation.\n",
            " 58%|█████▊    | 393/675 [02:39<01:49,  2.58it/s]Setting `pad_token_id` to `eos_token_id`:2 for open-end generation.\n",
            " 58%|█████▊    | 394/675 [02:39<01:48,  2.60it/s]Setting `pad_token_id` to `eos_token_id`:2 for open-end generation.\n",
            " 59%|█████▊    | 395/675 [02:40<01:47,  2.60it/s]Setting `pad_token_id` to `eos_token_id`:2 for open-end generation.\n",
            " 59%|█████▊    | 396/675 [02:40<01:48,  2.58it/s]Setting `pad_token_id` to `eos_token_id`:2 for open-end generation.\n",
            " 59%|█████▉    | 397/675 [02:41<01:47,  2.57it/s]Setting `pad_token_id` to `eos_token_id`:2 for open-end generation.\n",
            " 59%|█████▉    | 398/675 [02:41<01:46,  2.60it/s]Setting `pad_token_id` to `eos_token_id`:2 for open-end generation.\n",
            " 59%|█████▉    | 399/675 [02:41<01:46,  2.60it/s]Setting `pad_token_id` to `eos_token_id`:2 for open-end generation.\n",
            " 59%|█████▉    | 400/675 [02:42<01:45,  2.60it/s]Setting `pad_token_id` to `eos_token_id`:2 for open-end generation.\n",
            " 59%|█████▉    | 401/675 [02:42<01:44,  2.61it/s]Setting `pad_token_id` to `eos_token_id`:2 for open-end generation.\n",
            " 60%|█████▉    | 402/675 [02:43<01:44,  2.60it/s]Setting `pad_token_id` to `eos_token_id`:2 for open-end generation.\n",
            " 60%|█████▉    | 403/675 [02:43<01:44,  2.61it/s]Setting `pad_token_id` to `eos_token_id`:2 for open-end generation.\n",
            " 60%|█████▉    | 404/675 [02:43<01:43,  2.61it/s]Setting `pad_token_id` to `eos_token_id`:2 for open-end generation.\n",
            " 60%|██████    | 405/675 [02:44<01:44,  2.58it/s]Setting `pad_token_id` to `eos_token_id`:2 for open-end generation.\n",
            " 60%|██████    | 406/675 [02:44<01:43,  2.59it/s]Setting `pad_token_id` to `eos_token_id`:2 for open-end generation.\n",
            " 60%|██████    | 407/675 [02:45<01:47,  2.50it/s]Setting `pad_token_id` to `eos_token_id`:2 for open-end generation.\n",
            " 60%|██████    | 408/675 [02:45<01:48,  2.46it/s]Setting `pad_token_id` to `eos_token_id`:2 for open-end generation.\n",
            " 61%|██████    | 409/675 [02:45<01:50,  2.41it/s]Setting `pad_token_id` to `eos_token_id`:2 for open-end generation.\n",
            " 61%|██████    | 410/675 [02:46<01:51,  2.37it/s]Setting `pad_token_id` to `eos_token_id`:2 for open-end generation.\n",
            " 61%|██████    | 411/675 [02:46<01:52,  2.36it/s]Setting `pad_token_id` to `eos_token_id`:2 for open-end generation.\n",
            " 61%|██████    | 412/675 [02:47<01:54,  2.30it/s]Setting `pad_token_id` to `eos_token_id`:2 for open-end generation.\n",
            " 61%|██████    | 413/675 [02:47<01:51,  2.36it/s]Setting `pad_token_id` to `eos_token_id`:2 for open-end generation.\n",
            " 61%|██████▏   | 414/675 [02:48<01:47,  2.43it/s]Setting `pad_token_id` to `eos_token_id`:2 for open-end generation.\n",
            " 61%|██████▏   | 415/675 [02:48<01:47,  2.42it/s]Setting `pad_token_id` to `eos_token_id`:2 for open-end generation.\n",
            " 62%|██████▏   | 416/675 [02:48<01:44,  2.49it/s]Setting `pad_token_id` to `eos_token_id`:2 for open-end generation.\n",
            " 62%|██████▏   | 417/675 [02:49<01:42,  2.51it/s]Setting `pad_token_id` to `eos_token_id`:2 for open-end generation.\n",
            " 62%|██████▏   | 418/675 [02:49<01:42,  2.52it/s]Setting `pad_token_id` to `eos_token_id`:2 for open-end generation.\n",
            " 62%|██████▏   | 419/675 [02:49<01:40,  2.54it/s]Setting `pad_token_id` to `eos_token_id`:2 for open-end generation.\n",
            " 62%|██████▏   | 420/675 [02:50<01:39,  2.57it/s]Setting `pad_token_id` to `eos_token_id`:2 for open-end generation.\n",
            " 62%|██████▏   | 421/675 [02:50<01:38,  2.57it/s]Setting `pad_token_id` to `eos_token_id`:2 for open-end generation.\n",
            " 63%|██████▎   | 422/675 [02:51<01:38,  2.58it/s]Setting `pad_token_id` to `eos_token_id`:2 for open-end generation.\n",
            " 63%|██████▎   | 423/675 [02:51<01:38,  2.56it/s]Setting `pad_token_id` to `eos_token_id`:2 for open-end generation.\n",
            " 63%|██████▎   | 424/675 [02:51<01:38,  2.54it/s]Setting `pad_token_id` to `eos_token_id`:2 for open-end generation.\n",
            " 63%|██████▎   | 425/675 [02:52<01:37,  2.56it/s]Setting `pad_token_id` to `eos_token_id`:2 for open-end generation.\n",
            " 63%|██████▎   | 426/675 [02:52<01:36,  2.57it/s]Setting `pad_token_id` to `eos_token_id`:2 for open-end generation.\n",
            " 63%|██████▎   | 427/675 [02:53<01:36,  2.57it/s]Setting `pad_token_id` to `eos_token_id`:2 for open-end generation.\n",
            " 63%|██████▎   | 428/675 [02:53<01:35,  2.58it/s]Setting `pad_token_id` to `eos_token_id`:2 for open-end generation.\n",
            " 64%|██████▎   | 429/675 [02:53<01:35,  2.57it/s]Setting `pad_token_id` to `eos_token_id`:2 for open-end generation.\n",
            " 64%|██████▎   | 430/675 [02:54<01:34,  2.60it/s]Setting `pad_token_id` to `eos_token_id`:2 for open-end generation.\n",
            " 64%|██████▍   | 431/675 [02:54<01:34,  2.58it/s]Setting `pad_token_id` to `eos_token_id`:2 for open-end generation.\n",
            " 64%|██████▍   | 432/675 [02:55<01:33,  2.59it/s]Setting `pad_token_id` to `eos_token_id`:2 for open-end generation.\n",
            " 64%|██████▍   | 433/675 [02:55<01:33,  2.58it/s]Setting `pad_token_id` to `eos_token_id`:2 for open-end generation.\n",
            " 64%|██████▍   | 434/675 [02:55<01:33,  2.58it/s]Setting `pad_token_id` to `eos_token_id`:2 for open-end generation.\n",
            " 64%|██████▍   | 435/675 [02:56<01:33,  2.57it/s]Setting `pad_token_id` to `eos_token_id`:2 for open-end generation.\n",
            " 65%|██████▍   | 436/675 [02:56<01:32,  2.59it/s]Setting `pad_token_id` to `eos_token_id`:2 for open-end generation.\n",
            " 65%|██████▍   | 437/675 [02:56<01:32,  2.58it/s]Setting `pad_token_id` to `eos_token_id`:2 for open-end generation.\n",
            " 65%|██████▍   | 438/675 [02:57<01:31,  2.60it/s]Setting `pad_token_id` to `eos_token_id`:2 for open-end generation.\n",
            " 65%|██████▌   | 439/675 [02:57<01:36,  2.44it/s]Setting `pad_token_id` to `eos_token_id`:2 for open-end generation.\n",
            " 65%|██████▌   | 440/675 [02:58<01:37,  2.41it/s]Setting `pad_token_id` to `eos_token_id`:2 for open-end generation.\n",
            " 65%|██████▌   | 441/675 [02:58<01:36,  2.41it/s]Setting `pad_token_id` to `eos_token_id`:2 for open-end generation.\n",
            " 65%|██████▌   | 442/675 [02:59<01:38,  2.36it/s]Setting `pad_token_id` to `eos_token_id`:2 for open-end generation.\n",
            " 66%|██████▌   | 443/675 [02:59<01:39,  2.33it/s]Setting `pad_token_id` to `eos_token_id`:2 for open-end generation.\n",
            " 66%|██████▌   | 444/675 [03:00<01:43,  2.24it/s]Setting `pad_token_id` to `eos_token_id`:2 for open-end generation.\n",
            " 66%|██████▌   | 445/675 [03:00<01:38,  2.34it/s]Setting `pad_token_id` to `eos_token_id`:2 for open-end generation.\n",
            " 66%|██████▌   | 446/675 [03:00<01:35,  2.39it/s]Setting `pad_token_id` to `eos_token_id`:2 for open-end generation.\n",
            " 66%|██████▌   | 447/675 [03:01<01:33,  2.44it/s]Setting `pad_token_id` to `eos_token_id`:2 for open-end generation.\n",
            " 66%|██████▋   | 448/675 [03:01<01:30,  2.50it/s]Setting `pad_token_id` to `eos_token_id`:2 for open-end generation.\n",
            " 67%|██████▋   | 449/675 [03:01<01:30,  2.51it/s]Setting `pad_token_id` to `eos_token_id`:2 for open-end generation.\n",
            " 67%|██████▋   | 450/675 [03:02<01:28,  2.53it/s]Setting `pad_token_id` to `eos_token_id`:2 for open-end generation.\n",
            " 67%|██████▋   | 451/675 [03:02<01:28,  2.52it/s]Setting `pad_token_id` to `eos_token_id`:2 for open-end generation.\n",
            " 67%|██████▋   | 452/675 [03:03<01:27,  2.54it/s]Setting `pad_token_id` to `eos_token_id`:2 for open-end generation.\n",
            " 67%|██████▋   | 453/675 [03:03<01:26,  2.56it/s]Setting `pad_token_id` to `eos_token_id`:2 for open-end generation.\n",
            " 67%|██████▋   | 454/675 [03:03<01:26,  2.56it/s]Setting `pad_token_id` to `eos_token_id`:2 for open-end generation.\n",
            " 67%|██████▋   | 455/675 [03:04<01:25,  2.58it/s]Setting `pad_token_id` to `eos_token_id`:2 for open-end generation.\n",
            " 68%|██████▊   | 456/675 [03:04<01:24,  2.59it/s]Setting `pad_token_id` to `eos_token_id`:2 for open-end generation.\n",
            " 68%|██████▊   | 457/675 [03:05<01:25,  2.56it/s]Setting `pad_token_id` to `eos_token_id`:2 for open-end generation.\n",
            " 68%|██████▊   | 458/675 [03:05<01:24,  2.56it/s]Setting `pad_token_id` to `eos_token_id`:2 for open-end generation.\n",
            " 68%|██████▊   | 459/675 [03:05<01:23,  2.59it/s]Setting `pad_token_id` to `eos_token_id`:2 for open-end generation.\n",
            " 68%|██████▊   | 460/675 [03:06<01:23,  2.57it/s]Setting `pad_token_id` to `eos_token_id`:2 for open-end generation.\n",
            " 68%|██████▊   | 461/675 [03:06<01:22,  2.59it/s]Setting `pad_token_id` to `eos_token_id`:2 for open-end generation.\n",
            " 68%|██████▊   | 462/675 [03:06<01:21,  2.62it/s]Setting `pad_token_id` to `eos_token_id`:2 for open-end generation.\n",
            " 69%|██████▊   | 463/675 [03:07<01:21,  2.61it/s]Setting `pad_token_id` to `eos_token_id`:2 for open-end generation.\n",
            " 69%|██████▊   | 464/675 [03:07<01:21,  2.60it/s]Setting `pad_token_id` to `eos_token_id`:2 for open-end generation.\n",
            " 69%|██████▉   | 465/675 [03:08<01:21,  2.58it/s]Setting `pad_token_id` to `eos_token_id`:2 for open-end generation.\n",
            " 69%|██████▉   | 466/675 [03:08<01:20,  2.59it/s]Setting `pad_token_id` to `eos_token_id`:2 for open-end generation.\n",
            " 69%|██████▉   | 467/675 [03:08<01:20,  2.58it/s]Setting `pad_token_id` to `eos_token_id`:2 for open-end generation.\n",
            " 69%|██████▉   | 468/675 [03:09<01:21,  2.55it/s]Setting `pad_token_id` to `eos_token_id`:2 for open-end generation.\n",
            " 69%|██████▉   | 469/675 [03:09<01:20,  2.57it/s]Setting `pad_token_id` to `eos_token_id`:2 for open-end generation.\n",
            " 70%|██████▉   | 470/675 [03:10<01:20,  2.56it/s]Setting `pad_token_id` to `eos_token_id`:2 for open-end generation.\n",
            " 70%|██████▉   | 471/675 [03:10<01:23,  2.46it/s]Setting `pad_token_id` to `eos_token_id`:2 for open-end generation.\n",
            " 70%|██████▉   | 472/675 [03:10<01:24,  2.41it/s]Setting `pad_token_id` to `eos_token_id`:2 for open-end generation.\n",
            " 70%|███████   | 473/675 [03:11<01:25,  2.36it/s]Setting `pad_token_id` to `eos_token_id`:2 for open-end generation.\n",
            " 70%|███████   | 474/675 [03:11<01:26,  2.32it/s]Setting `pad_token_id` to `eos_token_id`:2 for open-end generation.\n",
            " 70%|███████   | 475/675 [03:12<01:29,  2.24it/s]Setting `pad_token_id` to `eos_token_id`:2 for open-end generation.\n",
            " 71%|███████   | 476/675 [03:12<01:30,  2.19it/s]Setting `pad_token_id` to `eos_token_id`:2 for open-end generation.\n",
            " 71%|███████   | 477/675 [03:13<01:25,  2.31it/s]Setting `pad_token_id` to `eos_token_id`:2 for open-end generation.\n",
            " 71%|███████   | 478/675 [03:13<01:22,  2.39it/s]Setting `pad_token_id` to `eos_token_id`:2 for open-end generation.\n",
            " 71%|███████   | 479/675 [03:13<01:20,  2.44it/s]Setting `pad_token_id` to `eos_token_id`:2 for open-end generation.\n",
            " 71%|███████   | 480/675 [03:14<01:18,  2.49it/s]Setting `pad_token_id` to `eos_token_id`:2 for open-end generation.\n",
            " 71%|███████▏  | 481/675 [03:14<01:16,  2.53it/s]Setting `pad_token_id` to `eos_token_id`:2 for open-end generation.\n",
            " 71%|███████▏  | 482/675 [03:15<01:15,  2.55it/s]Setting `pad_token_id` to `eos_token_id`:2 for open-end generation.\n",
            " 72%|███████▏  | 483/675 [03:15<01:15,  2.54it/s]Setting `pad_token_id` to `eos_token_id`:2 for open-end generation.\n",
            " 72%|███████▏  | 484/675 [03:15<01:14,  2.55it/s]Setting `pad_token_id` to `eos_token_id`:2 for open-end generation.\n",
            " 72%|███████▏  | 485/675 [03:16<01:13,  2.58it/s]Setting `pad_token_id` to `eos_token_id`:2 for open-end generation.\n",
            " 72%|███████▏  | 486/675 [03:16<01:13,  2.59it/s]Setting `pad_token_id` to `eos_token_id`:2 for open-end generation.\n",
            " 72%|███████▏  | 487/675 [03:17<01:12,  2.59it/s]Setting `pad_token_id` to `eos_token_id`:2 for open-end generation.\n",
            " 72%|███████▏  | 488/675 [03:17<01:12,  2.58it/s]Setting `pad_token_id` to `eos_token_id`:2 for open-end generation.\n",
            " 72%|███████▏  | 489/675 [03:17<01:12,  2.57it/s]Setting `pad_token_id` to `eos_token_id`:2 for open-end generation.\n",
            " 73%|███████▎  | 490/675 [03:18<01:11,  2.58it/s]Setting `pad_token_id` to `eos_token_id`:2 for open-end generation.\n",
            " 73%|███████▎  | 491/675 [03:18<01:12,  2.55it/s]Setting `pad_token_id` to `eos_token_id`:2 for open-end generation.\n",
            " 73%|███████▎  | 492/675 [03:19<01:12,  2.54it/s]Setting `pad_token_id` to `eos_token_id`:2 for open-end generation.\n",
            " 73%|███████▎  | 493/675 [03:19<01:11,  2.56it/s]Setting `pad_token_id` to `eos_token_id`:2 for open-end generation.\n",
            " 73%|███████▎  | 494/675 [03:19<01:10,  2.56it/s]Setting `pad_token_id` to `eos_token_id`:2 for open-end generation.\n",
            " 73%|███████▎  | 495/675 [03:20<01:10,  2.57it/s]Setting `pad_token_id` to `eos_token_id`:2 for open-end generation.\n",
            " 73%|███████▎  | 496/675 [03:20<01:09,  2.58it/s]Setting `pad_token_id` to `eos_token_id`:2 for open-end generation.\n",
            " 74%|███████▎  | 497/675 [03:20<01:08,  2.59it/s]Setting `pad_token_id` to `eos_token_id`:2 for open-end generation.\n",
            " 74%|███████▍  | 498/675 [03:21<01:08,  2.59it/s]Setting `pad_token_id` to `eos_token_id`:2 for open-end generation.\n",
            " 74%|███████▍  | 499/675 [03:21<01:08,  2.57it/s]Setting `pad_token_id` to `eos_token_id`:2 for open-end generation.\n",
            " 74%|███████▍  | 500/675 [03:22<01:07,  2.58it/s]Setting `pad_token_id` to `eos_token_id`:2 for open-end generation.\n",
            " 74%|███████▍  | 501/675 [03:22<01:06,  2.60it/s]Setting `pad_token_id` to `eos_token_id`:2 for open-end generation.\n",
            " 74%|███████▍  | 502/675 [03:22<01:06,  2.60it/s]Setting `pad_token_id` to `eos_token_id`:2 for open-end generation.\n",
            " 75%|███████▍  | 503/675 [03:23<01:09,  2.48it/s]Setting `pad_token_id` to `eos_token_id`:2 for open-end generation.\n",
            " 75%|███████▍  | 504/675 [03:23<01:10,  2.44it/s]Setting `pad_token_id` to `eos_token_id`:2 for open-end generation.\n",
            " 75%|███████▍  | 505/675 [03:24<01:10,  2.40it/s]Setting `pad_token_id` to `eos_token_id`:2 for open-end generation.\n",
            " 75%|███████▍  | 506/675 [03:24<01:10,  2.39it/s]Setting `pad_token_id` to `eos_token_id`:2 for open-end generation.\n",
            " 75%|███████▌  | 507/675 [03:25<01:12,  2.33it/s]Setting `pad_token_id` to `eos_token_id`:2 for open-end generation.\n",
            " 75%|███████▌  | 508/675 [03:25<01:14,  2.24it/s]Setting `pad_token_id` to `eos_token_id`:2 for open-end generation.\n",
            " 75%|███████▌  | 509/675 [03:25<01:12,  2.30it/s]Setting `pad_token_id` to `eos_token_id`:2 for open-end generation.\n",
            " 76%|███████▌  | 510/675 [03:26<01:08,  2.40it/s]Setting `pad_token_id` to `eos_token_id`:2 for open-end generation.\n",
            " 76%|███████▌  | 511/675 [03:26<01:07,  2.44it/s]Setting `pad_token_id` to `eos_token_id`:2 for open-end generation.\n",
            " 76%|███████▌  | 512/675 [03:27<01:05,  2.49it/s]Setting `pad_token_id` to `eos_token_id`:2 for open-end generation.\n",
            " 76%|███████▌  | 513/675 [03:27<01:04,  2.53it/s]Setting `pad_token_id` to `eos_token_id`:2 for open-end generation.\n",
            " 76%|███████▌  | 514/675 [03:27<01:03,  2.53it/s]Setting `pad_token_id` to `eos_token_id`:2 for open-end generation.\n",
            " 76%|███████▋  | 515/675 [03:28<01:02,  2.55it/s]Setting `pad_token_id` to `eos_token_id`:2 for open-end generation.\n",
            " 76%|███████▋  | 516/675 [03:28<01:01,  2.57it/s]Setting `pad_token_id` to `eos_token_id`:2 for open-end generation.\n",
            " 77%|███████▋  | 517/675 [03:29<01:02,  2.54it/s]Setting `pad_token_id` to `eos_token_id`:2 for open-end generation.\n",
            " 77%|███████▋  | 518/675 [03:29<01:01,  2.56it/s]Setting `pad_token_id` to `eos_token_id`:2 for open-end generation.\n",
            " 77%|███████▋  | 519/675 [03:29<01:01,  2.54it/s]Setting `pad_token_id` to `eos_token_id`:2 for open-end generation.\n",
            " 77%|███████▋  | 520/675 [03:30<01:00,  2.57it/s]Setting `pad_token_id` to `eos_token_id`:2 for open-end generation.\n",
            " 77%|███████▋  | 521/675 [03:30<00:59,  2.59it/s]Setting `pad_token_id` to `eos_token_id`:2 for open-end generation.\n",
            " 77%|███████▋  | 522/675 [03:30<00:59,  2.59it/s]Setting `pad_token_id` to `eos_token_id`:2 for open-end generation.\n",
            " 77%|███████▋  | 523/675 [03:31<00:59,  2.56it/s]Setting `pad_token_id` to `eos_token_id`:2 for open-end generation.\n",
            " 78%|███████▊  | 524/675 [03:31<00:58,  2.58it/s]Setting `pad_token_id` to `eos_token_id`:2 for open-end generation.\n",
            " 78%|███████▊  | 525/675 [03:32<00:58,  2.56it/s]Setting `pad_token_id` to `eos_token_id`:2 for open-end generation.\n",
            " 78%|███████▊  | 526/675 [03:32<00:58,  2.56it/s]Setting `pad_token_id` to `eos_token_id`:2 for open-end generation.\n",
            " 78%|███████▊  | 527/675 [03:32<00:57,  2.56it/s]Setting `pad_token_id` to `eos_token_id`:2 for open-end generation.\n",
            " 78%|███████▊  | 528/675 [03:33<00:57,  2.56it/s]Setting `pad_token_id` to `eos_token_id`:2 for open-end generation.\n",
            " 78%|███████▊  | 529/675 [03:33<00:56,  2.59it/s]Setting `pad_token_id` to `eos_token_id`:2 for open-end generation.\n",
            " 79%|███████▊  | 530/675 [03:34<00:55,  2.60it/s]Setting `pad_token_id` to `eos_token_id`:2 for open-end generation.\n",
            " 79%|███████▊  | 531/675 [03:34<00:55,  2.60it/s]Setting `pad_token_id` to `eos_token_id`:2 for open-end generation.\n",
            " 79%|███████▉  | 532/675 [03:34<00:55,  2.59it/s]Setting `pad_token_id` to `eos_token_id`:2 for open-end generation.\n",
            " 79%|███████▉  | 533/675 [03:35<00:55,  2.57it/s]Setting `pad_token_id` to `eos_token_id`:2 for open-end generation.\n",
            " 79%|███████▉  | 534/675 [03:35<00:54,  2.59it/s]Setting `pad_token_id` to `eos_token_id`:2 for open-end generation.\n",
            " 79%|███████▉  | 535/675 [03:36<00:57,  2.45it/s]Setting `pad_token_id` to `eos_token_id`:2 for open-end generation.\n",
            " 79%|███████▉  | 536/675 [03:36<00:57,  2.40it/s]Setting `pad_token_id` to `eos_token_id`:2 for open-end generation.\n",
            " 80%|███████▉  | 537/675 [03:36<00:57,  2.38it/s]Setting `pad_token_id` to `eos_token_id`:2 for open-end generation.\n",
            " 80%|███████▉  | 538/675 [03:37<00:58,  2.34it/s]Setting `pad_token_id` to `eos_token_id`:2 for open-end generation.\n",
            " 80%|███████▉  | 539/675 [03:37<00:59,  2.28it/s]Setting `pad_token_id` to `eos_token_id`:2 for open-end generation.\n",
            " 80%|████████  | 540/675 [03:38<01:01,  2.18it/s]Setting `pad_token_id` to `eos_token_id`:2 for open-end generation.\n",
            " 80%|████████  | 541/675 [03:38<00:58,  2.29it/s]Setting `pad_token_id` to `eos_token_id`:2 for open-end generation.\n",
            " 80%|████████  | 542/675 [03:39<00:56,  2.37it/s]Setting `pad_token_id` to `eos_token_id`:2 for open-end generation.\n",
            " 80%|████████  | 543/675 [03:39<00:54,  2.44it/s]Setting `pad_token_id` to `eos_token_id`:2 for open-end generation.\n",
            " 81%|████████  | 544/675 [03:39<00:53,  2.44it/s]Setting `pad_token_id` to `eos_token_id`:2 for open-end generation.\n",
            " 81%|████████  | 545/675 [03:40<00:52,  2.49it/s]Setting `pad_token_id` to `eos_token_id`:2 for open-end generation.\n",
            " 81%|████████  | 546/675 [03:40<00:51,  2.52it/s]Setting `pad_token_id` to `eos_token_id`:2 for open-end generation.\n",
            " 81%|████████  | 547/675 [03:41<00:50,  2.55it/s]Setting `pad_token_id` to `eos_token_id`:2 for open-end generation.\n",
            " 81%|████████  | 548/675 [03:41<00:49,  2.54it/s]Setting `pad_token_id` to `eos_token_id`:2 for open-end generation.\n",
            " 81%|████████▏ | 549/675 [03:41<00:49,  2.56it/s]Setting `pad_token_id` to `eos_token_id`:2 for open-end generation.\n",
            " 81%|████████▏ | 550/675 [03:42<00:48,  2.58it/s]Setting `pad_token_id` to `eos_token_id`:2 for open-end generation.\n",
            " 82%|████████▏ | 551/675 [03:42<00:47,  2.60it/s]Setting `pad_token_id` to `eos_token_id`:2 for open-end generation.\n",
            " 82%|████████▏ | 552/675 [03:43<00:47,  2.61it/s]Setting `pad_token_id` to `eos_token_id`:2 for open-end generation.\n",
            " 82%|████████▏ | 553/675 [03:43<00:46,  2.61it/s]Setting `pad_token_id` to `eos_token_id`:2 for open-end generation.\n",
            " 82%|████████▏ | 554/675 [03:43<00:46,  2.63it/s]Setting `pad_token_id` to `eos_token_id`:2 for open-end generation.\n",
            " 82%|████████▏ | 555/675 [03:44<00:46,  2.59it/s]Setting `pad_token_id` to `eos_token_id`:2 for open-end generation.\n",
            " 82%|████████▏ | 556/675 [03:44<00:46,  2.58it/s]Setting `pad_token_id` to `eos_token_id`:2 for open-end generation.\n",
            " 83%|████████▎ | 557/675 [03:44<00:45,  2.61it/s]Setting `pad_token_id` to `eos_token_id`:2 for open-end generation.\n",
            " 83%|████████▎ | 558/675 [03:45<00:44,  2.61it/s]Setting `pad_token_id` to `eos_token_id`:2 for open-end generation.\n",
            " 83%|████████▎ | 559/675 [03:45<00:44,  2.60it/s]Setting `pad_token_id` to `eos_token_id`:2 for open-end generation.\n",
            " 83%|████████▎ | 560/675 [03:46<00:44,  2.56it/s]Setting `pad_token_id` to `eos_token_id`:2 for open-end generation.\n",
            " 83%|████████▎ | 561/675 [03:46<00:44,  2.59it/s]Setting `pad_token_id` to `eos_token_id`:2 for open-end generation.\n",
            " 83%|████████▎ | 562/675 [03:46<00:43,  2.60it/s]Setting `pad_token_id` to `eos_token_id`:2 for open-end generation.\n",
            " 83%|████████▎ | 563/675 [03:47<00:42,  2.62it/s]Setting `pad_token_id` to `eos_token_id`:2 for open-end generation.\n",
            " 84%|████████▎ | 564/675 [03:47<00:42,  2.61it/s]Setting `pad_token_id` to `eos_token_id`:2 for open-end generation.\n",
            " 84%|████████▎ | 565/675 [03:48<00:42,  2.60it/s]Setting `pad_token_id` to `eos_token_id`:2 for open-end generation.\n",
            " 84%|████████▍ | 566/675 [03:48<00:41,  2.61it/s]Setting `pad_token_id` to `eos_token_id`:2 for open-end generation.\n",
            " 84%|████████▍ | 567/675 [03:48<00:43,  2.47it/s]Setting `pad_token_id` to `eos_token_id`:2 for open-end generation.\n",
            " 84%|████████▍ | 568/675 [03:49<00:44,  2.43it/s]Setting `pad_token_id` to `eos_token_id`:2 for open-end generation.\n",
            " 84%|████████▍ | 569/675 [03:49<00:44,  2.40it/s]Setting `pad_token_id` to `eos_token_id`:2 for open-end generation.\n",
            " 84%|████████▍ | 570/675 [03:50<00:44,  2.34it/s]Setting `pad_token_id` to `eos_token_id`:2 for open-end generation.\n",
            " 85%|████████▍ | 571/675 [03:50<00:45,  2.30it/s]Setting `pad_token_id` to `eos_token_id`:2 for open-end generation.\n",
            " 85%|████████▍ | 572/675 [03:51<00:46,  2.23it/s]Setting `pad_token_id` to `eos_token_id`:2 for open-end generation.\n",
            " 85%|████████▍ | 573/675 [03:51<00:43,  2.33it/s]Setting `pad_token_id` to `eos_token_id`:2 for open-end generation.\n",
            " 85%|████████▌ | 574/675 [03:51<00:42,  2.38it/s]Setting `pad_token_id` to `eos_token_id`:2 for open-end generation.\n",
            " 85%|████████▌ | 575/675 [03:52<00:41,  2.43it/s]Setting `pad_token_id` to `eos_token_id`:2 for open-end generation.\n",
            " 85%|████████▌ | 576/675 [03:52<00:39,  2.49it/s]Setting `pad_token_id` to `eos_token_id`:2 for open-end generation.\n",
            " 85%|████████▌ | 577/675 [03:53<00:38,  2.52it/s]Setting `pad_token_id` to `eos_token_id`:2 for open-end generation.\n",
            " 86%|████████▌ | 578/675 [03:53<00:37,  2.55it/s]Setting `pad_token_id` to `eos_token_id`:2 for open-end generation.\n",
            " 86%|████████▌ | 579/675 [03:53<00:37,  2.58it/s]Setting `pad_token_id` to `eos_token_id`:2 for open-end generation.\n",
            " 86%|████████▌ | 580/675 [03:54<00:36,  2.60it/s]Setting `pad_token_id` to `eos_token_id`:2 for open-end generation.\n",
            " 86%|████████▌ | 581/675 [03:54<00:36,  2.61it/s]Setting `pad_token_id` to `eos_token_id`:2 for open-end generation.\n",
            " 86%|████████▌ | 582/675 [03:54<00:36,  2.56it/s]Setting `pad_token_id` to `eos_token_id`:2 for open-end generation.\n",
            " 86%|████████▋ | 583/675 [03:55<00:35,  2.58it/s]Setting `pad_token_id` to `eos_token_id`:2 for open-end generation.\n",
            " 87%|████████▋ | 584/675 [03:55<00:35,  2.59it/s]Setting `pad_token_id` to `eos_token_id`:2 for open-end generation.\n",
            " 87%|████████▋ | 585/675 [03:56<00:35,  2.54it/s]Setting `pad_token_id` to `eos_token_id`:2 for open-end generation.\n",
            " 87%|████████▋ | 586/675 [03:56<00:34,  2.57it/s]Setting `pad_token_id` to `eos_token_id`:2 for open-end generation.\n",
            " 87%|████████▋ | 587/675 [03:56<00:34,  2.57it/s]Setting `pad_token_id` to `eos_token_id`:2 for open-end generation.\n",
            " 87%|████████▋ | 588/675 [03:57<00:33,  2.59it/s]Setting `pad_token_id` to `eos_token_id`:2 for open-end generation.\n",
            " 87%|████████▋ | 589/675 [03:57<00:33,  2.60it/s]Setting `pad_token_id` to `eos_token_id`:2 for open-end generation.\n",
            " 87%|████████▋ | 590/675 [03:58<00:33,  2.57it/s]Setting `pad_token_id` to `eos_token_id`:2 for open-end generation.\n",
            " 88%|████████▊ | 591/675 [03:58<00:32,  2.60it/s]Setting `pad_token_id` to `eos_token_id`:2 for open-end generation.\n",
            " 88%|████████▊ | 592/675 [03:58<00:31,  2.61it/s]Setting `pad_token_id` to `eos_token_id`:2 for open-end generation.\n",
            " 88%|████████▊ | 593/675 [03:59<00:31,  2.59it/s]Setting `pad_token_id` to `eos_token_id`:2 for open-end generation.\n",
            " 88%|████████▊ | 594/675 [03:59<00:31,  2.61it/s]Setting `pad_token_id` to `eos_token_id`:2 for open-end generation.\n",
            " 88%|████████▊ | 595/675 [03:59<00:30,  2.60it/s]Setting `pad_token_id` to `eos_token_id`:2 for open-end generation.\n",
            " 88%|████████▊ | 596/675 [04:00<00:30,  2.58it/s]Setting `pad_token_id` to `eos_token_id`:2 for open-end generation.\n",
            " 88%|████████▊ | 597/675 [04:00<00:30,  2.58it/s]Setting `pad_token_id` to `eos_token_id`:2 for open-end generation.\n",
            " 89%|████████▊ | 598/675 [04:01<00:30,  2.55it/s]Setting `pad_token_id` to `eos_token_id`:2 for open-end generation.\n",
            " 89%|████████▊ | 599/675 [04:01<00:30,  2.46it/s]Setting `pad_token_id` to `eos_token_id`:2 for open-end generation.\n",
            " 89%|████████▉ | 600/675 [04:02<00:30,  2.43it/s]Setting `pad_token_id` to `eos_token_id`:2 for open-end generation.\n",
            " 89%|████████▉ | 601/675 [04:02<00:30,  2.41it/s]Setting `pad_token_id` to `eos_token_id`:2 for open-end generation.\n",
            " 89%|████████▉ | 602/675 [04:02<00:30,  2.37it/s]Setting `pad_token_id` to `eos_token_id`:2 for open-end generation.\n",
            " 89%|████████▉ | 603/675 [04:03<00:31,  2.29it/s]Setting `pad_token_id` to `eos_token_id`:2 for open-end generation.\n",
            " 89%|████████▉ | 604/675 [04:03<00:31,  2.25it/s]Setting `pad_token_id` to `eos_token_id`:2 for open-end generation.\n",
            " 90%|████████▉ | 605/675 [04:04<00:30,  2.33it/s]Setting `pad_token_id` to `eos_token_id`:2 for open-end generation.\n",
            " 90%|████████▉ | 606/675 [04:04<00:28,  2.41it/s]Setting `pad_token_id` to `eos_token_id`:2 for open-end generation.\n",
            " 90%|████████▉ | 607/675 [04:04<00:27,  2.48it/s]Setting `pad_token_id` to `eos_token_id`:2 for open-end generation.\n",
            " 90%|█████████ | 608/675 [04:05<00:27,  2.45it/s]Setting `pad_token_id` to `eos_token_id`:2 for open-end generation.\n",
            " 90%|█████████ | 609/675 [04:05<00:26,  2.50it/s]Setting `pad_token_id` to `eos_token_id`:2 for open-end generation.\n",
            " 90%|█████████ | 610/675 [04:06<00:25,  2.53it/s]Setting `pad_token_id` to `eos_token_id`:2 for open-end generation.\n",
            " 91%|█████████ | 611/675 [04:06<00:25,  2.54it/s]Setting `pad_token_id` to `eos_token_id`:2 for open-end generation.\n",
            " 91%|█████████ | 612/675 [04:06<00:24,  2.55it/s]Setting `pad_token_id` to `eos_token_id`:2 for open-end generation.\n",
            " 91%|█████████ | 613/675 [04:07<00:24,  2.57it/s]Setting `pad_token_id` to `eos_token_id`:2 for open-end generation.\n",
            " 91%|█████████ | 614/675 [04:07<00:23,  2.58it/s]Setting `pad_token_id` to `eos_token_id`:2 for open-end generation.\n",
            " 91%|█████████ | 615/675 [04:08<00:23,  2.59it/s]Setting `pad_token_id` to `eos_token_id`:2 for open-end generation.\n",
            " 91%|█████████▏| 616/675 [04:08<00:22,  2.58it/s]Setting `pad_token_id` to `eos_token_id`:2 for open-end generation.\n",
            " 91%|█████████▏| 617/675 [04:08<00:22,  2.57it/s]Setting `pad_token_id` to `eos_token_id`:2 for open-end generation.\n",
            " 92%|█████████▏| 618/675 [04:09<00:22,  2.59it/s]Setting `pad_token_id` to `eos_token_id`:2 for open-end generation.\n",
            " 92%|█████████▏| 619/675 [04:09<00:21,  2.58it/s]Setting `pad_token_id` to `eos_token_id`:2 for open-end generation.\n",
            " 92%|█████████▏| 620/675 [04:10<00:21,  2.58it/s]Setting `pad_token_id` to `eos_token_id`:2 for open-end generation.\n",
            " 92%|█████████▏| 621/675 [04:10<00:20,  2.59it/s]Setting `pad_token_id` to `eos_token_id`:2 for open-end generation.\n",
            " 92%|█████████▏| 622/675 [04:10<00:20,  2.62it/s]Setting `pad_token_id` to `eos_token_id`:2 for open-end generation.\n",
            " 92%|█████████▏| 623/675 [04:11<00:19,  2.62it/s]Setting `pad_token_id` to `eos_token_id`:2 for open-end generation.\n",
            " 92%|█████████▏| 624/675 [04:11<00:19,  2.59it/s]Setting `pad_token_id` to `eos_token_id`:2 for open-end generation.\n",
            " 93%|█████████▎| 625/675 [04:11<00:19,  2.59it/s]Setting `pad_token_id` to `eos_token_id`:2 for open-end generation.\n",
            " 93%|█████████▎| 626/675 [04:12<00:18,  2.58it/s]Setting `pad_token_id` to `eos_token_id`:2 for open-end generation.\n",
            " 93%|█████████▎| 627/675 [04:12<00:18,  2.59it/s]Setting `pad_token_id` to `eos_token_id`:2 for open-end generation.\n",
            " 93%|█████████▎| 628/675 [04:13<00:18,  2.60it/s]Setting `pad_token_id` to `eos_token_id`:2 for open-end generation.\n",
            " 93%|█████████▎| 629/675 [04:13<00:17,  2.60it/s]Setting `pad_token_id` to `eos_token_id`:2 for open-end generation.\n",
            " 93%|█████████▎| 630/675 [04:13<00:17,  2.59it/s]Setting `pad_token_id` to `eos_token_id`:2 for open-end generation.\n",
            " 93%|█████████▎| 631/675 [04:14<00:17,  2.45it/s]Setting `pad_token_id` to `eos_token_id`:2 for open-end generation.\n",
            " 94%|█████████▎| 632/675 [04:14<00:18,  2.38it/s]Setting `pad_token_id` to `eos_token_id`:2 for open-end generation.\n",
            " 94%|█████████▍| 633/675 [04:15<00:17,  2.37it/s]Setting `pad_token_id` to `eos_token_id`:2 for open-end generation.\n",
            " 94%|█████████▍| 634/675 [04:15<00:17,  2.36it/s]Setting `pad_token_id` to `eos_token_id`:2 for open-end generation.\n",
            " 94%|█████████▍| 635/675 [04:16<00:17,  2.29it/s]Setting `pad_token_id` to `eos_token_id`:2 for open-end generation.\n",
            " 94%|█████████▍| 636/675 [04:16<00:17,  2.25it/s]Setting `pad_token_id` to `eos_token_id`:2 for open-end generation.\n",
            " 94%|█████████▍| 637/675 [04:16<00:16,  2.28it/s]Setting `pad_token_id` to `eos_token_id`:2 for open-end generation.\n",
            " 95%|█████████▍| 638/675 [04:17<00:15,  2.35it/s]Setting `pad_token_id` to `eos_token_id`:2 for open-end generation.\n",
            " 95%|█████████▍| 639/675 [04:17<00:15,  2.39it/s]Setting `pad_token_id` to `eos_token_id`:2 for open-end generation.\n",
            " 95%|█████████▍| 640/675 [04:18<00:14,  2.43it/s]Setting `pad_token_id` to `eos_token_id`:2 for open-end generation.\n",
            " 95%|█████████▍| 641/675 [04:18<00:13,  2.49it/s]Setting `pad_token_id` to `eos_token_id`:2 for open-end generation.\n",
            " 95%|█████████▌| 642/675 [04:18<00:13,  2.50it/s]Setting `pad_token_id` to `eos_token_id`:2 for open-end generation.\n",
            " 95%|█████████▌| 643/675 [04:19<00:12,  2.51it/s]Setting `pad_token_id` to `eos_token_id`:2 for open-end generation.\n",
            " 95%|█████████▌| 644/675 [04:19<00:12,  2.54it/s]Setting `pad_token_id` to `eos_token_id`:2 for open-end generation.\n",
            " 96%|█████████▌| 645/675 [04:20<00:11,  2.55it/s]Setting `pad_token_id` to `eos_token_id`:2 for open-end generation.\n",
            " 96%|█████████▌| 646/675 [04:20<00:11,  2.57it/s]Setting `pad_token_id` to `eos_token_id`:2 for open-end generation.\n",
            " 96%|█████████▌| 647/675 [04:20<00:10,  2.55it/s]Setting `pad_token_id` to `eos_token_id`:2 for open-end generation.\n",
            " 96%|█████████▌| 648/675 [04:21<00:10,  2.58it/s]Setting `pad_token_id` to `eos_token_id`:2 for open-end generation.\n",
            " 96%|█████████▌| 649/675 [04:21<00:10,  2.58it/s]Setting `pad_token_id` to `eos_token_id`:2 for open-end generation.\n",
            " 96%|█████████▋| 650/675 [04:22<00:09,  2.54it/s]Setting `pad_token_id` to `eos_token_id`:2 for open-end generation.\n",
            " 96%|█████████▋| 651/675 [04:22<00:09,  2.56it/s]Setting `pad_token_id` to `eos_token_id`:2 for open-end generation.\n",
            " 97%|█████████▋| 652/675 [04:22<00:08,  2.56it/s]Setting `pad_token_id` to `eos_token_id`:2 for open-end generation.\n",
            " 97%|█████████▋| 653/675 [04:23<00:08,  2.56it/s]Setting `pad_token_id` to `eos_token_id`:2 for open-end generation.\n",
            " 97%|█████████▋| 654/675 [04:23<00:08,  2.56it/s]Setting `pad_token_id` to `eos_token_id`:2 for open-end generation.\n",
            " 97%|█████████▋| 655/675 [04:24<00:07,  2.54it/s]Setting `pad_token_id` to `eos_token_id`:2 for open-end generation.\n",
            " 97%|█████████▋| 656/675 [04:24<00:07,  2.52it/s]Setting `pad_token_id` to `eos_token_id`:2 for open-end generation.\n",
            " 97%|█████████▋| 657/675 [04:24<00:07,  2.56it/s]Setting `pad_token_id` to `eos_token_id`:2 for open-end generation.\n",
            " 97%|█████████▋| 658/675 [04:25<00:06,  2.57it/s]Setting `pad_token_id` to `eos_token_id`:2 for open-end generation.\n",
            " 98%|█████████▊| 659/675 [04:25<00:06,  2.59it/s]Setting `pad_token_id` to `eos_token_id`:2 for open-end generation.\n",
            " 98%|█████████▊| 660/675 [04:25<00:05,  2.61it/s]Setting `pad_token_id` to `eos_token_id`:2 for open-end generation.\n",
            " 98%|█████████▊| 661/675 [04:26<00:05,  2.61it/s]Setting `pad_token_id` to `eos_token_id`:2 for open-end generation.\n",
            " 98%|█████████▊| 662/675 [04:26<00:04,  2.60it/s]Setting `pad_token_id` to `eos_token_id`:2 for open-end generation.\n",
            " 98%|█████████▊| 663/675 [04:27<00:04,  2.42it/s]Setting `pad_token_id` to `eos_token_id`:2 for open-end generation.\n",
            " 98%|█████████▊| 664/675 [04:27<00:04,  2.40it/s]Setting `pad_token_id` to `eos_token_id`:2 for open-end generation.\n",
            " 99%|█████████▊| 665/675 [04:28<00:04,  2.39it/s]Setting `pad_token_id` to `eos_token_id`:2 for open-end generation.\n",
            " 99%|█████████▊| 666/675 [04:28<00:03,  2.36it/s]Setting `pad_token_id` to `eos_token_id`:2 for open-end generation.\n",
            " 99%|█████████▉| 667/675 [04:28<00:03,  2.31it/s]Setting `pad_token_id` to `eos_token_id`:2 for open-end generation.\n",
            " 99%|█████████▉| 668/675 [04:29<00:03,  2.20it/s]Setting `pad_token_id` to `eos_token_id`:2 for open-end generation.\n",
            " 99%|█████████▉| 669/675 [04:29<00:02,  2.28it/s]Setting `pad_token_id` to `eos_token_id`:2 for open-end generation.\n",
            " 99%|█████████▉| 670/675 [04:30<00:02,  2.37it/s]Setting `pad_token_id` to `eos_token_id`:2 for open-end generation.\n",
            " 99%|█████████▉| 671/675 [04:30<00:01,  2.43it/s]Setting `pad_token_id` to `eos_token_id`:2 for open-end generation.\n",
            "100%|█████████▉| 672/675 [04:31<00:01,  2.49it/s]Setting `pad_token_id` to `eos_token_id`:2 for open-end generation.\n",
            "100%|█████████▉| 673/675 [04:31<00:00,  2.50it/s]Setting `pad_token_id` to `eos_token_id`:2 for open-end generation.\n",
            "100%|█████████▉| 674/675 [04:31<00:00,  2.55it/s]Setting `pad_token_id` to `eos_token_id`:2 for open-end generation.\n",
            "100%|██████████| 675/675 [04:32<00:00,  2.48it/s]"
          ]
        },
        {
          "output_type": "stream",
          "name": "stdout",
          "text": [
            "\n",
            "✅ Accuracy: 0.8948\n",
            "\n",
            "📊 Classification Report:\n",
            "                precision    recall  f1-score   support\n",
            "\n",
            "Non-Procedural       0.89      0.76      0.82       217\n",
            "    Procedural       0.90      0.96      0.93       458\n",
            "\n",
            "      accuracy                           0.89       675\n",
            "     macro avg       0.89      0.86      0.87       675\n",
            "  weighted avg       0.89      0.89      0.89       675\n",
            "\n"
          ]
        },
        {
          "output_type": "stream",
          "name": "stderr",
          "text": [
            "\n"
          ]
        }
      ],
      "source": [
        "from sklearn.metrics import classification_report, accuracy_score\n",
        "from tqdm import tqdm\n",
        "\n",
        "\n",
        "def predict(example):\n",
        "    prompt = f\"SENTENCE: {example['text']}\\nIs it procedural?\"\n",
        "    inputs = tokenizer(prompt, return_tensors=\"pt\", padding=True, truncation=True).to(model.device)\n",
        "    output = model.generate(**inputs, max_new_tokens=5)\n",
        "    decoded = tokenizer.decode(output[0], skip_special_tokens=True)\n",
        "\n",
        "    prediction = 1 if \"Yes\" in decoded else 0\n",
        "    return prediction\n",
        "\n",
        "\n",
        "y_true = test_df[\"label\"].tolist()\n",
        "y_pred = []\n",
        "\n",
        "for _, row in tqdm(test_df.iterrows(), total=len(test_df)):\n",
        "    pred = predict(row)\n",
        "    y_pred.append(pred)\n",
        "\n",
        "\n",
        "acc = accuracy_score(y_true, y_pred)\n",
        "print(f\"\\n Accuracy: {acc:.4f}\\n\")\n",
        "\n",
        "print(\" Classification Report:\")\n",
        "print(classification_report(y_true, y_pred, target_names=[\"Non-Procedural\", \"Procedural\"]))\n"
      ]
    },
    {
      "cell_type": "code",
      "execution_count": null,
      "metadata": {
        "id": "V6-jVjtrvDR4"
      },
      "outputs": [],
      "source": [
        "test = X_test.reset_index()['text'][3]\n",
        "prompt = f\"SENTENCE: {test}\\nIs it procedural?\"\n",
        "inputs = tokenizer(prompt, return_tensors=\"pt\", padding=True, truncation=True).to(model.device)\n",
        "output = model.generate(**inputs, max_new_tokens=5)\n",
        "decoded = tokenizer.decode(output[0], skip_special_tokens=True)\n",
        "prediction = 1 if \"Yes\" in decoded else 0\n",
        "prediction"
      ]
    },
    {
      "cell_type": "code",
      "source": [],
      "metadata": {
        "id": "zTsKgexRaYaj"
      },
      "execution_count": null,
      "outputs": []
    },
    {
      "cell_type": "markdown",
      "metadata": {
        "id": "rmG1_1RBgxr1"
      },
      "source": [
        "# Fine Tuning QLoRA New Version"
      ]
    },
    {
      "cell_type": "code",
      "execution_count": null,
      "metadata": {
        "id": "Z3gP8rdrgxr1"
      },
      "outputs": [],
      "source": [
        "import pandas as pd"
      ]
    },
    {
      "cell_type": "code",
      "execution_count": null,
      "metadata": {
        "id": "mDGqS7pQgxr1"
      },
      "outputs": [],
      "source": [
        "with open(\"SPKS.txt\", \"r\", encoding=\"utf-8\") as f:\n",
        "    lines = f.readlines()"
      ]
    },
    {
      "cell_type": "code",
      "execution_count": null,
      "metadata": {
        "id": "UbHDjUxpgxr2"
      },
      "outputs": [],
      "source": [
        "lines = list(map(lambda x : x.split('@'),lines))\n",
        "lines.pop(0)"
      ]
    },
    {
      "cell_type": "code",
      "execution_count": null,
      "metadata": {
        "id": "bcFHHdtSgxr2"
      },
      "outputs": [],
      "source": [
        "df = pd.DataFrame(lines,columns=['label','text'])"
      ]
    },
    {
      "cell_type": "code",
      "execution_count": null,
      "metadata": {
        "id": "3VmPWBrZgxr2"
      },
      "outputs": [],
      "source": [
        "df['label'].value_counts()"
      ]
    },
    {
      "cell_type": "code",
      "execution_count": null,
      "metadata": {
        "id": "RIOioUvjgxr3"
      },
      "outputs": [],
      "source": [
        "def change_label(x):\n",
        "  if x == '__label__1':\n",
        "    return 1\n",
        "  else:\n",
        "    return 0"
      ]
    },
    {
      "cell_type": "code",
      "execution_count": null,
      "metadata": {
        "id": "IyQzXiIXgxr3"
      },
      "outputs": [],
      "source": [
        "df['label'] = df['label'].apply(change_label)"
      ]
    },
    {
      "cell_type": "code",
      "execution_count": null,
      "metadata": {
        "id": "dx2__RACgxr3"
      },
      "outputs": [],
      "source": [
        "df"
      ]
    },
    {
      "cell_type": "code",
      "execution_count": null,
      "metadata": {
        "id": "74HU2bKqgxr3"
      },
      "outputs": [],
      "source": [
        "\n",
        "from sklearn.model_selection import train_test_split\n",
        "X_train, X_test, y_train, y_test = train_test_split(df['text'], df['label'], test_size=0.3, random_state=42)"
      ]
    },
    {
      "cell_type": "code",
      "execution_count": null,
      "metadata": {
        "id": "0LWRn2XQgxr4"
      },
      "outputs": [],
      "source": [
        "train_df = pd.concat([X_train,y_train],axis=1)\n",
        "test_df = pd.concat([X_test,y_test],axis=1)\n",
        "train_df"
      ]
    },
    {
      "cell_type": "code",
      "execution_count": null,
      "metadata": {
        "id": "Fb5A81eFgxr4"
      },
      "outputs": [],
      "source": [
        "import os\n",
        "os.environ[\"HF_TOKEN\"] = \"\""
      ]
    },
    {
      "cell_type": "code",
      "execution_count": null,
      "metadata": {
        "id": "edsLE6hngxr4"
      },
      "outputs": [],
      "source": [
        "import pandas as pd\n",
        "from datasets import Dataset, DatasetDict\n",
        "from transformers import AutoModelForCausalLM, AutoTokenizer, TrainingArguments, BitsAndBytesConfig\n",
        "from peft import LoraConfig, get_peft_model, TaskType\n",
        "from trl import SFTTrainer\n",
        "\n",
        "dataset = DatasetDict({\n",
        "    \"train\": Dataset.from_pandas(train_df),\n",
        "    \"test\": Dataset.from_pandas(test_df)\n",
        "})\n",
        "\n",
        "\n",
        "def format_text(example):\n",
        "    prompt = f\"SENTENCE: {example['text']}\\nIs it procedural?\"\n",
        "    label = \"Yes\" if example[\"label\"] == 1 else \"No\"\n",
        "    return {\"text\": f\"{prompt}\\n{label}\"}\n",
        "\n",
        "dataset = dataset.map(format_text)\n",
        "dataset = dataset.remove_columns([col for col in dataset[\"train\"].column_names if col != \"text\"])\n",
        "\n",
        "\n",
        "model_name = \"mistralai/Mistral-7B-v0.1\"\n",
        "bnb_config = BitsAndBytesConfig(\n",
        "    load_in_4bit=True,\n",
        "    bnb_4bit_use_double_quant=True,\n",
        "    bnb_4bit_quant_type=\"nf4\",\n",
        "    bnb_4bit_compute_dtype=\"float16\"\n",
        ")\n",
        "\n",
        "model = AutoModelForCausalLM.from_pretrained(model_name, quantization_config=bnb_config, device_map=\"auto\")\n",
        "tokenizer = AutoTokenizer.from_pretrained(model_name)\n",
        "tokenizer.pad_token = tokenizer.eos_token\n",
        "\n",
        "\n",
        "peft_config = LoraConfig(\n",
        "    r=8,\n",
        "    lora_alpha=16,\n",
        "    target_modules=[\"q_proj\", \"v_proj\"],\n",
        "    lora_dropout=0.05,\n",
        "    bias=\"none\",\n",
        "    task_type=TaskType.CAUSAL_LM\n",
        ")\n",
        "\n",
        "model = get_peft_model(model, peft_config)\n",
        "\n",
        "\n"
      ]
    },
    {
      "cell_type": "code",
      "source": [
        "from transformers import EarlyStoppingCallback"
      ],
      "metadata": {
        "id": "D-d0bavY4C44"
      },
      "execution_count": null,
      "outputs": []
    },
    {
      "cell_type": "code",
      "source": [
        "\n",
        "\n",
        "training_args = TrainingArguments(\n",
        "    output_dir=\"./mistral-spks-finetune\",\n",
        "    num_train_epochs=7,\n",
        "    per_device_train_batch_size=4,\n",
        "    per_device_eval_batch_size=4,\n",
        "    save_total_limit=2,\n",
        "    logging_steps=10,\n",
        "    learning_rate=2e-5,\n",
        "    warmup_steps=100,\n",
        "    weight_decay=0.05,\n",
        "\n",
        "     eval_strategy =\"epoch\",\n",
        "    save_strategy=\"epoch\",\n",
        "    metric_for_best_model=\"eval_loss\"\n",
        ")\n"
      ],
      "metadata": {
        "id": "2JmDbzuGmpIV"
      },
      "execution_count": null,
      "outputs": []
    },
    {
      "cell_type": "code",
      "source": [],
      "metadata": {
        "id": "wH_DRzEPcivA"
      },
      "execution_count": null,
      "outputs": []
    },
    {
      "cell_type": "code",
      "source": [
        "\n",
        "trainer = SFTTrainer(\n",
        "    model=model,\n",
        "    train_dataset=dataset[\"train\"],\n",
        "    eval_dataset=dataset[\"test\"],\n",
        "\n",
        "    args=training_args,\n",
        "     callbacks=[EarlyStoppingCallback(early_stopping_patience=3)]\n",
        ")\n",
        "\n",
        "trainer.train()"
      ],
      "metadata": {
        "id": "dw9s9n3kgxr5"
      },
      "execution_count": null,
      "outputs": []
    },
    {
      "cell_type": "code",
      "execution_count": null,
      "metadata": {
        "colab": {
          "base_uri": "https://localhost:8080/"
        },
        "outputId": "1e1a13b6-6959-4a09-9829-31a6a2a6709b",
        "id": "P6quGY8Ngxr5"
      },
      "outputs": [
        {
          "output_type": "stream",
          "name": "stderr",
          "text": [
            "\r  0%|          | 0/675 [00:00<?, ?it/s]Asking to truncate to max_length but no maximum length is provided and the model has no predefined maximum length. Default to no truncation.\n",
            "Setting `pad_token_id` to `eos_token_id`:2 for open-end generation.\n",
            "  0%|          | 1/675 [00:00<10:05,  1.11it/s]Setting `pad_token_id` to `eos_token_id`:2 for open-end generation.\n",
            "  0%|          | 2/675 [00:01<07:36,  1.48it/s]Setting `pad_token_id` to `eos_token_id`:2 for open-end generation.\n",
            "  0%|          | 3/675 [00:01<06:16,  1.78it/s]Setting `pad_token_id` to `eos_token_id`:2 for open-end generation.\n",
            "  1%|          | 4/675 [00:02<05:27,  2.05it/s]Setting `pad_token_id` to `eos_token_id`:2 for open-end generation.\n",
            "  1%|          | 5/675 [00:02<05:06,  2.19it/s]Setting `pad_token_id` to `eos_token_id`:2 for open-end generation.\n",
            "  1%|          | 6/675 [00:03<04:58,  2.24it/s]Setting `pad_token_id` to `eos_token_id`:2 for open-end generation.\n",
            "  1%|          | 7/675 [00:03<05:00,  2.23it/s]Setting `pad_token_id` to `eos_token_id`:2 for open-end generation.\n",
            "  1%|          | 8/675 [00:03<04:53,  2.28it/s]Setting `pad_token_id` to `eos_token_id`:2 for open-end generation.\n",
            "  1%|▏         | 9/675 [00:04<04:49,  2.30it/s]Setting `pad_token_id` to `eos_token_id`:2 for open-end generation.\n",
            "  1%|▏         | 10/675 [00:04<04:49,  2.30it/s]Setting `pad_token_id` to `eos_token_id`:2 for open-end generation.\n",
            "  2%|▏         | 11/675 [00:05<04:50,  2.28it/s]Setting `pad_token_id` to `eos_token_id`:2 for open-end generation.\n",
            "  2%|▏         | 12/675 [00:05<04:53,  2.26it/s]Setting `pad_token_id` to `eos_token_id`:2 for open-end generation.\n",
            "  2%|▏         | 13/675 [00:06<04:45,  2.32it/s]Setting `pad_token_id` to `eos_token_id`:2 for open-end generation.\n",
            "  2%|▏         | 14/675 [00:06<04:34,  2.41it/s]Setting `pad_token_id` to `eos_token_id`:2 for open-end generation.\n",
            "  2%|▏         | 15/675 [00:06<04:29,  2.45it/s]Setting `pad_token_id` to `eos_token_id`:2 for open-end generation.\n",
            "  2%|▏         | 16/675 [00:07<04:27,  2.47it/s]Setting `pad_token_id` to `eos_token_id`:2 for open-end generation.\n",
            "  3%|▎         | 17/675 [00:07<04:21,  2.52it/s]Setting `pad_token_id` to `eos_token_id`:2 for open-end generation.\n",
            "  3%|▎         | 18/675 [00:08<04:20,  2.52it/s]Setting `pad_token_id` to `eos_token_id`:2 for open-end generation.\n",
            "  3%|▎         | 19/675 [00:08<04:19,  2.53it/s]Setting `pad_token_id` to `eos_token_id`:2 for open-end generation.\n",
            "  3%|▎         | 20/675 [00:08<04:16,  2.55it/s]Setting `pad_token_id` to `eos_token_id`:2 for open-end generation.\n",
            "  3%|▎         | 21/675 [00:09<04:15,  2.56it/s]Setting `pad_token_id` to `eos_token_id`:2 for open-end generation.\n",
            "  3%|▎         | 22/675 [00:09<04:14,  2.57it/s]Setting `pad_token_id` to `eos_token_id`:2 for open-end generation.\n",
            "  3%|▎         | 23/675 [00:09<04:12,  2.59it/s]Setting `pad_token_id` to `eos_token_id`:2 for open-end generation.\n",
            "  4%|▎         | 24/675 [00:10<04:14,  2.56it/s]Setting `pad_token_id` to `eos_token_id`:2 for open-end generation.\n",
            "  4%|▎         | 25/675 [00:10<04:14,  2.56it/s]Setting `pad_token_id` to `eos_token_id`:2 for open-end generation.\n",
            "  4%|▍         | 26/675 [00:11<04:13,  2.56it/s]Setting `pad_token_id` to `eos_token_id`:2 for open-end generation.\n",
            "  4%|▍         | 27/675 [00:11<04:14,  2.55it/s]Setting `pad_token_id` to `eos_token_id`:2 for open-end generation.\n",
            "  4%|▍         | 28/675 [00:11<04:12,  2.56it/s]Setting `pad_token_id` to `eos_token_id`:2 for open-end generation.\n",
            "  4%|▍         | 29/675 [00:12<04:12,  2.56it/s]Setting `pad_token_id` to `eos_token_id`:2 for open-end generation.\n",
            "  4%|▍         | 30/675 [00:12<04:17,  2.51it/s]Setting `pad_token_id` to `eos_token_id`:2 for open-end generation.\n",
            "  5%|▍         | 31/675 [00:13<04:15,  2.52it/s]Setting `pad_token_id` to `eos_token_id`:2 for open-end generation.\n",
            "  5%|▍         | 32/675 [00:13<04:17,  2.50it/s]Setting `pad_token_id` to `eos_token_id`:2 for open-end generation.\n",
            "  5%|▍         | 33/675 [00:13<04:14,  2.52it/s]Setting `pad_token_id` to `eos_token_id`:2 for open-end generation.\n",
            "  5%|▌         | 34/675 [00:14<04:14,  2.52it/s]Setting `pad_token_id` to `eos_token_id`:2 for open-end generation.\n",
            "  5%|▌         | 35/675 [00:14<04:13,  2.53it/s]Setting `pad_token_id` to `eos_token_id`:2 for open-end generation.\n",
            "  5%|▌         | 36/675 [00:15<04:12,  2.53it/s]Setting `pad_token_id` to `eos_token_id`:2 for open-end generation.\n",
            "  5%|▌         | 37/675 [00:15<04:13,  2.51it/s]Setting `pad_token_id` to `eos_token_id`:2 for open-end generation.\n",
            "  6%|▌         | 38/675 [00:15<04:11,  2.54it/s]Setting `pad_token_id` to `eos_token_id`:2 for open-end generation.\n",
            "  6%|▌         | 39/675 [00:16<04:36,  2.30it/s]Setting `pad_token_id` to `eos_token_id`:2 for open-end generation.\n",
            "  6%|▌         | 40/675 [00:16<04:37,  2.29it/s]Setting `pad_token_id` to `eos_token_id`:2 for open-end generation.\n",
            "  6%|▌         | 41/675 [00:17<04:36,  2.29it/s]Setting `pad_token_id` to `eos_token_id`:2 for open-end generation.\n",
            "  6%|▌         | 42/675 [00:17<04:35,  2.30it/s]Setting `pad_token_id` to `eos_token_id`:2 for open-end generation.\n",
            "  6%|▋         | 43/675 [00:18<04:42,  2.24it/s]Setting `pad_token_id` to `eos_token_id`:2 for open-end generation.\n",
            "  7%|▋         | 44/675 [00:18<04:51,  2.16it/s]Setting `pad_token_id` to `eos_token_id`:2 for open-end generation.\n",
            "  7%|▋         | 45/675 [00:19<04:38,  2.27it/s]Setting `pad_token_id` to `eos_token_id`:2 for open-end generation.\n",
            "  7%|▋         | 46/675 [00:19<04:28,  2.35it/s]Setting `pad_token_id` to `eos_token_id`:2 for open-end generation.\n",
            "  7%|▋         | 47/675 [00:19<04:25,  2.36it/s]Setting `pad_token_id` to `eos_token_id`:2 for open-end generation.\n",
            "  7%|▋         | 48/675 [00:20<04:17,  2.44it/s]Setting `pad_token_id` to `eos_token_id`:2 for open-end generation.\n",
            "  7%|▋         | 49/675 [00:20<04:11,  2.49it/s]Setting `pad_token_id` to `eos_token_id`:2 for open-end generation.\n",
            "  7%|▋         | 50/675 [00:21<04:10,  2.49it/s]Setting `pad_token_id` to `eos_token_id`:2 for open-end generation.\n",
            "  8%|▊         | 51/675 [00:21<04:06,  2.53it/s]Setting `pad_token_id` to `eos_token_id`:2 for open-end generation.\n",
            "  8%|▊         | 52/675 [00:21<04:09,  2.50it/s]Setting `pad_token_id` to `eos_token_id`:2 for open-end generation.\n",
            "  8%|▊         | 53/675 [00:22<04:07,  2.51it/s]Setting `pad_token_id` to `eos_token_id`:2 for open-end generation.\n",
            "  8%|▊         | 54/675 [00:22<04:03,  2.55it/s]Setting `pad_token_id` to `eos_token_id`:2 for open-end generation.\n",
            "  8%|▊         | 55/675 [00:23<04:04,  2.53it/s]Setting `pad_token_id` to `eos_token_id`:2 for open-end generation.\n",
            "  8%|▊         | 56/675 [00:23<04:04,  2.54it/s]Setting `pad_token_id` to `eos_token_id`:2 for open-end generation.\n",
            "  8%|▊         | 57/675 [00:23<04:03,  2.54it/s]Setting `pad_token_id` to `eos_token_id`:2 for open-end generation.\n",
            "  9%|▊         | 58/675 [00:24<04:04,  2.52it/s]Setting `pad_token_id` to `eos_token_id`:2 for open-end generation.\n",
            "  9%|▊         | 59/675 [00:24<04:01,  2.55it/s]Setting `pad_token_id` to `eos_token_id`:2 for open-end generation.\n",
            "  9%|▉         | 60/675 [00:24<04:01,  2.54it/s]Setting `pad_token_id` to `eos_token_id`:2 for open-end generation.\n",
            "  9%|▉         | 61/675 [00:25<03:59,  2.56it/s]Setting `pad_token_id` to `eos_token_id`:2 for open-end generation.\n",
            "  9%|▉         | 62/675 [00:25<03:58,  2.57it/s]Setting `pad_token_id` to `eos_token_id`:2 for open-end generation.\n",
            "  9%|▉         | 63/675 [00:26<03:59,  2.55it/s]Setting `pad_token_id` to `eos_token_id`:2 for open-end generation.\n",
            "  9%|▉         | 64/675 [00:26<03:58,  2.56it/s]Setting `pad_token_id` to `eos_token_id`:2 for open-end generation.\n",
            " 10%|▉         | 65/675 [00:26<03:59,  2.54it/s]Setting `pad_token_id` to `eos_token_id`:2 for open-end generation.\n",
            " 10%|▉         | 66/675 [00:27<04:01,  2.52it/s]Setting `pad_token_id` to `eos_token_id`:2 for open-end generation.\n",
            " 10%|▉         | 67/675 [00:27<03:59,  2.54it/s]Setting `pad_token_id` to `eos_token_id`:2 for open-end generation.\n",
            " 10%|█         | 68/675 [00:28<03:59,  2.54it/s]Setting `pad_token_id` to `eos_token_id`:2 for open-end generation.\n",
            " 10%|█         | 69/675 [00:28<03:57,  2.55it/s]Setting `pad_token_id` to `eos_token_id`:2 for open-end generation.\n",
            " 10%|█         | 70/675 [00:28<04:07,  2.45it/s]Setting `pad_token_id` to `eos_token_id`:2 for open-end generation.\n",
            " 11%|█         | 71/675 [00:29<04:12,  2.39it/s]Setting `pad_token_id` to `eos_token_id`:2 for open-end generation.\n",
            " 11%|█         | 72/675 [00:29<04:16,  2.35it/s]Setting `pad_token_id` to `eos_token_id`:2 for open-end generation.\n",
            " 11%|█         | 73/675 [00:30<04:17,  2.33it/s]Setting `pad_token_id` to `eos_token_id`:2 for open-end generation.\n",
            " 11%|█         | 74/675 [00:30<04:17,  2.34it/s]Setting `pad_token_id` to `eos_token_id`:2 for open-end generation.\n",
            " 11%|█         | 75/675 [00:31<04:25,  2.26it/s]Setting `pad_token_id` to `eos_token_id`:2 for open-end generation.\n",
            " 11%|█▏        | 76/675 [00:31<04:16,  2.34it/s]Setting `pad_token_id` to `eos_token_id`:2 for open-end generation.\n",
            " 11%|█▏        | 77/675 [00:31<04:07,  2.41it/s]Setting `pad_token_id` to `eos_token_id`:2 for open-end generation.\n",
            " 12%|█▏        | 78/675 [00:32<04:09,  2.40it/s]Setting `pad_token_id` to `eos_token_id`:2 for open-end generation.\n",
            " 12%|█▏        | 79/675 [00:32<04:01,  2.47it/s]Setting `pad_token_id` to `eos_token_id`:2 for open-end generation.\n",
            " 12%|█▏        | 80/675 [00:33<03:56,  2.52it/s]Setting `pad_token_id` to `eos_token_id`:2 for open-end generation.\n",
            " 12%|█▏        | 81/675 [00:33<03:56,  2.51it/s]Setting `pad_token_id` to `eos_token_id`:2 for open-end generation.\n",
            " 12%|█▏        | 82/675 [00:33<03:52,  2.55it/s]Setting `pad_token_id` to `eos_token_id`:2 for open-end generation.\n",
            " 12%|█▏        | 83/675 [00:34<03:52,  2.54it/s]Setting `pad_token_id` to `eos_token_id`:2 for open-end generation.\n",
            " 12%|█▏        | 84/675 [00:34<03:55,  2.51it/s]Setting `pad_token_id` to `eos_token_id`:2 for open-end generation.\n",
            " 13%|█▎        | 85/675 [00:35<03:52,  2.54it/s]Setting `pad_token_id` to `eos_token_id`:2 for open-end generation.\n",
            " 13%|█▎        | 86/675 [00:35<03:50,  2.56it/s]Setting `pad_token_id` to `eos_token_id`:2 for open-end generation.\n",
            " 13%|█▎        | 87/675 [00:35<03:49,  2.56it/s]Setting `pad_token_id` to `eos_token_id`:2 for open-end generation.\n",
            " 13%|█▎        | 88/675 [00:36<03:50,  2.55it/s]Setting `pad_token_id` to `eos_token_id`:2 for open-end generation.\n",
            " 13%|█▎        | 89/675 [00:36<03:47,  2.58it/s]Setting `pad_token_id` to `eos_token_id`:2 for open-end generation.\n",
            " 13%|█▎        | 90/675 [00:37<03:47,  2.57it/s]Setting `pad_token_id` to `eos_token_id`:2 for open-end generation.\n",
            " 13%|█▎        | 91/675 [00:37<03:48,  2.56it/s]Setting `pad_token_id` to `eos_token_id`:2 for open-end generation.\n",
            " 14%|█▎        | 92/675 [00:37<03:47,  2.57it/s]Setting `pad_token_id` to `eos_token_id`:2 for open-end generation.\n",
            " 14%|█▍        | 93/675 [00:38<03:46,  2.57it/s]Setting `pad_token_id` to `eos_token_id`:2 for open-end generation.\n",
            " 14%|█▍        | 94/675 [00:38<03:45,  2.58it/s]Setting `pad_token_id` to `eos_token_id`:2 for open-end generation.\n",
            " 14%|█▍        | 95/675 [00:38<03:42,  2.60it/s]Setting `pad_token_id` to `eos_token_id`:2 for open-end generation.\n",
            " 14%|█▍        | 96/675 [00:39<03:49,  2.52it/s]Setting `pad_token_id` to `eos_token_id`:2 for open-end generation.\n",
            " 14%|█▍        | 97/675 [00:39<03:46,  2.55it/s]Setting `pad_token_id` to `eos_token_id`:2 for open-end generation.\n",
            " 15%|█▍        | 98/675 [00:40<03:44,  2.58it/s]Setting `pad_token_id` to `eos_token_id`:2 for open-end generation.\n",
            " 15%|█▍        | 99/675 [00:40<03:45,  2.55it/s]Setting `pad_token_id` to `eos_token_id`:2 for open-end generation.\n",
            " 15%|█▍        | 100/675 [00:40<03:41,  2.59it/s]Setting `pad_token_id` to `eos_token_id`:2 for open-end generation.\n",
            " 15%|█▍        | 101/675 [00:41<03:39,  2.62it/s]Setting `pad_token_id` to `eos_token_id`:2 for open-end generation.\n",
            " 15%|█▌        | 102/675 [00:41<03:51,  2.48it/s]Setting `pad_token_id` to `eos_token_id`:2 for open-end generation.\n",
            " 15%|█▌        | 103/675 [00:42<03:55,  2.43it/s]Setting `pad_token_id` to `eos_token_id`:2 for open-end generation.\n",
            " 15%|█▌        | 104/675 [00:42<04:01,  2.37it/s]Setting `pad_token_id` to `eos_token_id`:2 for open-end generation.\n",
            " 16%|█▌        | 105/675 [00:43<04:00,  2.37it/s]Setting `pad_token_id` to `eos_token_id`:2 for open-end generation.\n",
            " 16%|█▌        | 106/675 [00:43<04:03,  2.34it/s]Setting `pad_token_id` to `eos_token_id`:2 for open-end generation.\n",
            " 16%|█▌        | 107/675 [00:43<04:10,  2.27it/s]Setting `pad_token_id` to `eos_token_id`:2 for open-end generation.\n",
            " 16%|█▌        | 108/675 [00:44<03:59,  2.36it/s]Setting `pad_token_id` to `eos_token_id`:2 for open-end generation.\n",
            " 16%|█▌        | 109/675 [00:44<03:55,  2.40it/s]Setting `pad_token_id` to `eos_token_id`:2 for open-end generation.\n",
            " 16%|█▋        | 110/675 [00:45<03:51,  2.44it/s]Setting `pad_token_id` to `eos_token_id`:2 for open-end generation.\n",
            " 16%|█▋        | 111/675 [00:45<03:45,  2.50it/s]Setting `pad_token_id` to `eos_token_id`:2 for open-end generation.\n",
            " 17%|█▋        | 112/675 [00:45<03:41,  2.54it/s]Setting `pad_token_id` to `eos_token_id`:2 for open-end generation.\n",
            " 17%|█▋        | 113/675 [00:46<03:40,  2.55it/s]Setting `pad_token_id` to `eos_token_id`:2 for open-end generation.\n",
            " 17%|█▋        | 114/675 [00:46<03:39,  2.56it/s]Setting `pad_token_id` to `eos_token_id`:2 for open-end generation.\n",
            " 17%|█▋        | 115/675 [00:47<03:40,  2.54it/s]Setting `pad_token_id` to `eos_token_id`:2 for open-end generation.\n",
            " 17%|█▋        | 116/675 [00:47<03:36,  2.58it/s]Setting `pad_token_id` to `eos_token_id`:2 for open-end generation.\n",
            " 17%|█▋        | 117/675 [00:47<03:39,  2.54it/s]Setting `pad_token_id` to `eos_token_id`:2 for open-end generation.\n",
            " 17%|█▋        | 118/675 [00:48<03:36,  2.58it/s]Setting `pad_token_id` to `eos_token_id`:2 for open-end generation.\n",
            " 18%|█▊        | 119/675 [00:48<03:36,  2.57it/s]Setting `pad_token_id` to `eos_token_id`:2 for open-end generation.\n",
            " 18%|█▊        | 120/675 [00:49<03:38,  2.54it/s]Setting `pad_token_id` to `eos_token_id`:2 for open-end generation.\n",
            " 18%|█▊        | 121/675 [00:49<03:34,  2.58it/s]Setting `pad_token_id` to `eos_token_id`:2 for open-end generation.\n",
            " 18%|█▊        | 122/675 [00:49<03:32,  2.60it/s]Setting `pad_token_id` to `eos_token_id`:2 for open-end generation.\n",
            " 18%|█▊        | 123/675 [00:50<03:33,  2.59it/s]Setting `pad_token_id` to `eos_token_id`:2 for open-end generation.\n",
            " 18%|█▊        | 124/675 [00:50<03:32,  2.60it/s]Setting `pad_token_id` to `eos_token_id`:2 for open-end generation.\n",
            " 19%|█▊        | 125/675 [00:50<03:36,  2.54it/s]Setting `pad_token_id` to `eos_token_id`:2 for open-end generation.\n",
            " 19%|█▊        | 126/675 [00:51<03:34,  2.56it/s]Setting `pad_token_id` to `eos_token_id`:2 for open-end generation.\n",
            " 19%|█▉        | 127/675 [00:51<03:31,  2.59it/s]Setting `pad_token_id` to `eos_token_id`:2 for open-end generation.\n",
            " 19%|█▉        | 128/675 [00:52<03:31,  2.58it/s]Setting `pad_token_id` to `eos_token_id`:2 for open-end generation.\n",
            " 19%|█▉        | 129/675 [00:52<03:31,  2.59it/s]Setting `pad_token_id` to `eos_token_id`:2 for open-end generation.\n",
            " 19%|█▉        | 130/675 [00:52<03:28,  2.61it/s]Setting `pad_token_id` to `eos_token_id`:2 for open-end generation.\n",
            " 19%|█▉        | 131/675 [00:53<03:29,  2.60it/s]Setting `pad_token_id` to `eos_token_id`:2 for open-end generation.\n",
            " 20%|█▉        | 132/675 [00:53<03:28,  2.60it/s]Setting `pad_token_id` to `eos_token_id`:2 for open-end generation.\n",
            " 20%|█▉        | 133/675 [00:54<03:29,  2.59it/s]Setting `pad_token_id` to `eos_token_id`:2 for open-end generation.\n",
            " 20%|█▉        | 134/675 [00:54<03:39,  2.47it/s]Setting `pad_token_id` to `eos_token_id`:2 for open-end generation.\n",
            " 20%|██        | 135/675 [00:54<03:42,  2.43it/s]Setting `pad_token_id` to `eos_token_id`:2 for open-end generation.\n",
            " 20%|██        | 136/675 [00:55<03:46,  2.38it/s]Setting `pad_token_id` to `eos_token_id`:2 for open-end generation.\n",
            " 20%|██        | 137/675 [00:55<03:45,  2.39it/s]Setting `pad_token_id` to `eos_token_id`:2 for open-end generation.\n",
            " 20%|██        | 138/675 [00:56<03:52,  2.31it/s]Setting `pad_token_id` to `eos_token_id`:2 for open-end generation.\n",
            " 21%|██        | 139/675 [00:56<03:57,  2.25it/s]Setting `pad_token_id` to `eos_token_id`:2 for open-end generation.\n",
            " 21%|██        | 140/675 [00:57<03:49,  2.33it/s]Setting `pad_token_id` to `eos_token_id`:2 for open-end generation.\n",
            " 21%|██        | 141/675 [00:57<03:40,  2.42it/s]Setting `pad_token_id` to `eos_token_id`:2 for open-end generation.\n",
            " 21%|██        | 142/675 [00:57<03:35,  2.48it/s]Setting `pad_token_id` to `eos_token_id`:2 for open-end generation.\n",
            " 21%|██        | 143/675 [00:58<03:33,  2.49it/s]Setting `pad_token_id` to `eos_token_id`:2 for open-end generation.\n",
            " 21%|██▏       | 144/675 [00:58<03:27,  2.56it/s]Setting `pad_token_id` to `eos_token_id`:2 for open-end generation.\n",
            " 21%|██▏       | 145/675 [00:59<03:26,  2.57it/s]Setting `pad_token_id` to `eos_token_id`:2 for open-end generation.\n",
            " 22%|██▏       | 146/675 [00:59<03:25,  2.57it/s]Setting `pad_token_id` to `eos_token_id`:2 for open-end generation.\n",
            " 22%|██▏       | 147/675 [00:59<03:23,  2.59it/s]Setting `pad_token_id` to `eos_token_id`:2 for open-end generation.\n",
            " 22%|██▏       | 148/675 [01:00<03:23,  2.59it/s]Setting `pad_token_id` to `eos_token_id`:2 for open-end generation.\n",
            " 22%|██▏       | 149/675 [01:00<03:22,  2.60it/s]Setting `pad_token_id` to `eos_token_id`:2 for open-end generation.\n",
            " 22%|██▏       | 150/675 [01:00<03:20,  2.62it/s]Setting `pad_token_id` to `eos_token_id`:2 for open-end generation.\n",
            " 22%|██▏       | 151/675 [01:01<03:23,  2.58it/s]Setting `pad_token_id` to `eos_token_id`:2 for open-end generation.\n",
            " 23%|██▎       | 152/675 [01:01<03:21,  2.59it/s]Setting `pad_token_id` to `eos_token_id`:2 for open-end generation.\n",
            " 23%|██▎       | 153/675 [01:02<03:20,  2.61it/s]Setting `pad_token_id` to `eos_token_id`:2 for open-end generation.\n",
            " 23%|██▎       | 154/675 [01:02<03:20,  2.60it/s]Setting `pad_token_id` to `eos_token_id`:2 for open-end generation.\n",
            " 23%|██▎       | 155/675 [01:02<03:20,  2.59it/s]Setting `pad_token_id` to `eos_token_id`:2 for open-end generation.\n",
            " 23%|██▎       | 156/675 [01:03<03:17,  2.63it/s]Setting `pad_token_id` to `eos_token_id`:2 for open-end generation.\n",
            " 23%|██▎       | 157/675 [01:03<03:16,  2.63it/s]Setting `pad_token_id` to `eos_token_id`:2 for open-end generation.\n",
            " 23%|██▎       | 158/675 [01:04<03:19,  2.60it/s]Setting `pad_token_id` to `eos_token_id`:2 for open-end generation.\n",
            " 24%|██▎       | 159/675 [01:04<03:19,  2.58it/s]Setting `pad_token_id` to `eos_token_id`:2 for open-end generation.\n",
            " 24%|██▎       | 160/675 [01:04<03:18,  2.59it/s]Setting `pad_token_id` to `eos_token_id`:2 for open-end generation.\n",
            " 24%|██▍       | 161/675 [01:05<03:18,  2.59it/s]Setting `pad_token_id` to `eos_token_id`:2 for open-end generation.\n",
            " 24%|██▍       | 162/675 [01:05<03:17,  2.59it/s]Setting `pad_token_id` to `eos_token_id`:2 for open-end generation.\n",
            " 24%|██▍       | 163/675 [01:05<03:15,  2.62it/s]Setting `pad_token_id` to `eos_token_id`:2 for open-end generation.\n",
            " 24%|██▍       | 164/675 [01:06<03:14,  2.62it/s]Setting `pad_token_id` to `eos_token_id`:2 for open-end generation.\n",
            " 24%|██▍       | 165/675 [01:06<03:14,  2.62it/s]Setting `pad_token_id` to `eos_token_id`:2 for open-end generation.\n",
            " 25%|██▍       | 166/675 [01:07<03:23,  2.50it/s]Setting `pad_token_id` to `eos_token_id`:2 for open-end generation.\n",
            " 25%|██▍       | 167/675 [01:07<03:27,  2.45it/s]Setting `pad_token_id` to `eos_token_id`:2 for open-end generation.\n",
            " 25%|██▍       | 168/675 [01:07<03:29,  2.42it/s]Setting `pad_token_id` to `eos_token_id`:2 for open-end generation.\n",
            " 25%|██▌       | 169/675 [01:08<03:31,  2.39it/s]Setting `pad_token_id` to `eos_token_id`:2 for open-end generation.\n",
            " 25%|██▌       | 170/675 [01:08<03:31,  2.39it/s]Setting `pad_token_id` to `eos_token_id`:2 for open-end generation.\n",
            " 25%|██▌       | 171/675 [01:09<03:34,  2.34it/s]Setting `pad_token_id` to `eos_token_id`:2 for open-end generation.\n",
            " 25%|██▌       | 172/675 [01:09<03:31,  2.38it/s]Setting `pad_token_id` to `eos_token_id`:2 for open-end generation.\n",
            " 26%|██▌       | 173/675 [01:10<03:25,  2.45it/s]Setting `pad_token_id` to `eos_token_id`:2 for open-end generation.\n",
            " 26%|██▌       | 174/675 [01:10<03:26,  2.42it/s]Setting `pad_token_id` to `eos_token_id`:2 for open-end generation.\n",
            " 26%|██▌       | 175/675 [01:10<03:21,  2.48it/s]Setting `pad_token_id` to `eos_token_id`:2 for open-end generation.\n",
            " 26%|██▌       | 176/675 [01:11<03:16,  2.54it/s]Setting `pad_token_id` to `eos_token_id`:2 for open-end generation.\n",
            " 26%|██▌       | 177/675 [01:11<03:18,  2.51it/s]Setting `pad_token_id` to `eos_token_id`:2 for open-end generation.\n",
            " 26%|██▋       | 178/675 [01:12<03:14,  2.55it/s]Setting `pad_token_id` to `eos_token_id`:2 for open-end generation.\n",
            " 27%|██▋       | 179/675 [01:12<03:13,  2.57it/s]Setting `pad_token_id` to `eos_token_id`:2 for open-end generation.\n",
            " 27%|██▋       | 180/675 [01:12<03:13,  2.56it/s]Setting `pad_token_id` to `eos_token_id`:2 for open-end generation.\n",
            " 27%|██▋       | 181/675 [01:13<03:11,  2.58it/s]Setting `pad_token_id` to `eos_token_id`:2 for open-end generation.\n",
            " 27%|██▋       | 182/675 [01:13<03:09,  2.60it/s]Setting `pad_token_id` to `eos_token_id`:2 for open-end generation.\n",
            " 27%|██▋       | 183/675 [01:13<03:10,  2.58it/s]Setting `pad_token_id` to `eos_token_id`:2 for open-end generation.\n",
            " 27%|██▋       | 184/675 [01:14<03:09,  2.59it/s]Setting `pad_token_id` to `eos_token_id`:2 for open-end generation.\n",
            " 27%|██▋       | 185/675 [01:14<03:11,  2.56it/s]Setting `pad_token_id` to `eos_token_id`:2 for open-end generation.\n",
            " 28%|██▊       | 186/675 [01:15<03:10,  2.57it/s]Setting `pad_token_id` to `eos_token_id`:2 for open-end generation.\n",
            " 28%|██▊       | 187/675 [01:15<03:09,  2.58it/s]Setting `pad_token_id` to `eos_token_id`:2 for open-end generation.\n",
            " 28%|██▊       | 188/675 [01:15<03:10,  2.56it/s]Setting `pad_token_id` to `eos_token_id`:2 for open-end generation.\n",
            " 28%|██▊       | 189/675 [01:16<03:09,  2.56it/s]Setting `pad_token_id` to `eos_token_id`:2 for open-end generation.\n",
            " 28%|██▊       | 190/675 [01:16<03:07,  2.58it/s]Setting `pad_token_id` to `eos_token_id`:2 for open-end generation.\n",
            " 28%|██▊       | 191/675 [01:17<03:06,  2.59it/s]Setting `pad_token_id` to `eos_token_id`:2 for open-end generation.\n",
            " 28%|██▊       | 192/675 [01:17<03:05,  2.60it/s]Setting `pad_token_id` to `eos_token_id`:2 for open-end generation.\n",
            " 29%|██▊       | 193/675 [01:17<03:06,  2.58it/s]Setting `pad_token_id` to `eos_token_id`:2 for open-end generation.\n",
            " 29%|██▊       | 194/675 [01:18<03:05,  2.59it/s]Setting `pad_token_id` to `eos_token_id`:2 for open-end generation.\n",
            " 29%|██▉       | 195/675 [01:18<03:05,  2.59it/s]Setting `pad_token_id` to `eos_token_id`:2 for open-end generation.\n",
            " 29%|██▉       | 196/675 [01:19<03:15,  2.46it/s]Setting `pad_token_id` to `eos_token_id`:2 for open-end generation.\n",
            " 29%|██▉       | 197/675 [01:19<03:56,  2.02it/s]Setting `pad_token_id` to `eos_token_id`:2 for open-end generation.\n",
            " 29%|██▉       | 198/675 [01:20<05:20,  1.49it/s]Setting `pad_token_id` to `eos_token_id`:2 for open-end generation.\n",
            " 29%|██▉       | 199/675 [01:21<06:09,  1.29it/s]Setting `pad_token_id` to `eos_token_id`:2 for open-end generation.\n",
            " 30%|██▉       | 200/675 [01:22<06:44,  1.17it/s]Setting `pad_token_id` to `eos_token_id`:2 for open-end generation.\n",
            " 30%|██▉       | 201/675 [01:23<06:23,  1.23it/s]Setting `pad_token_id` to `eos_token_id`:2 for open-end generation.\n",
            " 30%|██▉       | 202/675 [01:24<05:38,  1.40it/s]Setting `pad_token_id` to `eos_token_id`:2 for open-end generation.\n",
            " 30%|███       | 203/675 [01:24<05:12,  1.51it/s]Setting `pad_token_id` to `eos_token_id`:2 for open-end generation.\n",
            " 30%|███       | 204/675 [01:25<04:54,  1.60it/s]Setting `pad_token_id` to `eos_token_id`:2 for open-end generation.\n",
            " 30%|███       | 205/675 [01:25<05:03,  1.55it/s]Setting `pad_token_id` to `eos_token_id`:2 for open-end generation.\n",
            " 31%|███       | 206/675 [01:26<05:05,  1.54it/s]Setting `pad_token_id` to `eos_token_id`:2 for open-end generation.\n",
            " 31%|███       | 207/675 [01:27<04:50,  1.61it/s]Setting `pad_token_id` to `eos_token_id`:2 for open-end generation.\n",
            " 31%|███       | 208/675 [01:27<04:43,  1.65it/s]Setting `pad_token_id` to `eos_token_id`:2 for open-end generation.\n",
            " 31%|███       | 209/675 [01:28<04:36,  1.69it/s]Setting `pad_token_id` to `eos_token_id`:2 for open-end generation.\n",
            " 31%|███       | 210/675 [01:28<04:36,  1.68it/s]Setting `pad_token_id` to `eos_token_id`:2 for open-end generation.\n",
            " 31%|███▏      | 211/675 [01:29<04:20,  1.78it/s]Setting `pad_token_id` to `eos_token_id`:2 for open-end generation.\n",
            " 31%|███▏      | 212/675 [01:29<04:08,  1.87it/s]Setting `pad_token_id` to `eos_token_id`:2 for open-end generation.\n",
            " 32%|███▏      | 213/675 [01:30<04:05,  1.88it/s]Setting `pad_token_id` to `eos_token_id`:2 for open-end generation.\n",
            " 32%|███▏      | 214/675 [01:30<04:02,  1.90it/s]Setting `pad_token_id` to `eos_token_id`:2 for open-end generation.\n",
            " 32%|███▏      | 215/675 [01:31<04:10,  1.84it/s]Setting `pad_token_id` to `eos_token_id`:2 for open-end generation.\n",
            " 32%|███▏      | 216/675 [01:31<04:03,  1.88it/s]Setting `pad_token_id` to `eos_token_id`:2 for open-end generation.\n",
            " 32%|███▏      | 217/675 [01:32<04:05,  1.87it/s]Setting `pad_token_id` to `eos_token_id`:2 for open-end generation.\n",
            " 32%|███▏      | 218/675 [01:32<04:01,  1.90it/s]Setting `pad_token_id` to `eos_token_id`:2 for open-end generation.\n",
            " 32%|███▏      | 219/675 [01:33<04:26,  1.71it/s]Setting `pad_token_id` to `eos_token_id`:2 for open-end generation.\n",
            " 33%|███▎      | 220/675 [01:34<04:54,  1.55it/s]Setting `pad_token_id` to `eos_token_id`:2 for open-end generation.\n",
            " 33%|███▎      | 221/675 [01:35<05:09,  1.47it/s]Setting `pad_token_id` to `eos_token_id`:2 for open-end generation.\n",
            " 33%|███▎      | 222/675 [01:35<05:03,  1.49it/s]Setting `pad_token_id` to `eos_token_id`:2 for open-end generation.\n",
            " 33%|███▎      | 223/675 [01:36<05:51,  1.29it/s]Setting `pad_token_id` to `eos_token_id`:2 for open-end generation.\n",
            " 33%|███▎      | 224/675 [01:37<06:01,  1.25it/s]Setting `pad_token_id` to `eos_token_id`:2 for open-end generation.\n",
            " 33%|███▎      | 225/675 [01:38<05:48,  1.29it/s]Setting `pad_token_id` to `eos_token_id`:2 for open-end generation.\n",
            " 33%|███▎      | 226/675 [01:39<05:14,  1.43it/s]Setting `pad_token_id` to `eos_token_id`:2 for open-end generation.\n",
            " 34%|███▎      | 227/675 [01:39<04:45,  1.57it/s]Setting `pad_token_id` to `eos_token_id`:2 for open-end generation.\n",
            " 34%|███▍      | 228/675 [01:39<04:27,  1.67it/s]Setting `pad_token_id` to `eos_token_id`:2 for open-end generation.\n",
            " 34%|███▍      | 229/675 [01:40<04:14,  1.75it/s]Setting `pad_token_id` to `eos_token_id`:2 for open-end generation.\n",
            " 34%|███▍      | 230/675 [01:41<04:09,  1.78it/s]Setting `pad_token_id` to `eos_token_id`:2 for open-end generation.\n",
            " 34%|███▍      | 231/675 [01:41<04:04,  1.81it/s]Setting `pad_token_id` to `eos_token_id`:2 for open-end generation.\n",
            " 34%|███▍      | 232/675 [01:42<04:02,  1.83it/s]Setting `pad_token_id` to `eos_token_id`:2 for open-end generation.\n",
            " 35%|███▍      | 233/675 [01:42<03:58,  1.85it/s]Setting `pad_token_id` to `eos_token_id`:2 for open-end generation.\n",
            " 35%|███▍      | 234/675 [01:43<03:53,  1.89it/s]Setting `pad_token_id` to `eos_token_id`:2 for open-end generation.\n",
            " 35%|███▍      | 235/675 [01:43<03:56,  1.86it/s]Setting `pad_token_id` to `eos_token_id`:2 for open-end generation.\n",
            " 35%|███▍      | 236/675 [01:44<03:49,  1.92it/s]Setting `pad_token_id` to `eos_token_id`:2 for open-end generation.\n",
            " 35%|███▌      | 237/675 [01:44<03:49,  1.91it/s]Setting `pad_token_id` to `eos_token_id`:2 for open-end generation.\n",
            " 35%|███▌      | 238/675 [01:45<03:46,  1.93it/s]Setting `pad_token_id` to `eos_token_id`:2 for open-end generation.\n",
            " 35%|███▌      | 239/675 [01:45<03:45,  1.93it/s]Setting `pad_token_id` to `eos_token_id`:2 for open-end generation.\n",
            " 36%|███▌      | 240/675 [01:46<03:41,  1.96it/s]Setting `pad_token_id` to `eos_token_id`:2 for open-end generation.\n",
            " 36%|███▌      | 241/675 [01:46<03:52,  1.86it/s]Setting `pad_token_id` to `eos_token_id`:2 for open-end generation.\n",
            " 36%|███▌      | 242/675 [01:47<04:18,  1.68it/s]Setting `pad_token_id` to `eos_token_id`:2 for open-end generation.\n",
            " 36%|███▌      | 243/675 [01:48<04:45,  1.51it/s]Setting `pad_token_id` to `eos_token_id`:2 for open-end generation.\n",
            " 36%|███▌      | 244/675 [01:49<05:04,  1.42it/s]Setting `pad_token_id` to `eos_token_id`:2 for open-end generation.\n",
            " 36%|███▋      | 245/675 [01:49<05:08,  1.39it/s]Setting `pad_token_id` to `eos_token_id`:2 for open-end generation.\n",
            " 36%|███▋      | 246/675 [01:50<04:44,  1.51it/s]Setting `pad_token_id` to `eos_token_id`:2 for open-end generation.\n",
            " 37%|███▋      | 247/675 [01:50<04:23,  1.63it/s]Setting `pad_token_id` to `eos_token_id`:2 for open-end generation.\n",
            " 37%|███▋      | 248/675 [01:51<05:09,  1.38it/s]Setting `pad_token_id` to `eos_token_id`:2 for open-end generation.\n",
            " 37%|███▋      | 249/675 [01:52<05:37,  1.26it/s]Setting `pad_token_id` to `eos_token_id`:2 for open-end generation.\n",
            " 37%|███▋      | 250/675 [01:53<06:00,  1.18it/s]Setting `pad_token_id` to `eos_token_id`:2 for open-end generation.\n",
            " 37%|███▋      | 251/675 [01:54<06:08,  1.15it/s]Setting `pad_token_id` to `eos_token_id`:2 for open-end generation.\n",
            " 37%|███▋      | 252/675 [01:55<05:32,  1.27it/s]Setting `pad_token_id` to `eos_token_id`:2 for open-end generation.\n",
            " 37%|███▋      | 253/675 [01:55<05:06,  1.38it/s]Setting `pad_token_id` to `eos_token_id`:2 for open-end generation.\n",
            " 38%|███▊      | 254/675 [01:56<04:44,  1.48it/s]Setting `pad_token_id` to `eos_token_id`:2 for open-end generation.\n",
            " 38%|███▊      | 255/675 [01:56<04:18,  1.63it/s]Setting `pad_token_id` to `eos_token_id`:2 for open-end generation.\n",
            " 38%|███▊      | 256/675 [01:57<04:00,  1.75it/s]Setting `pad_token_id` to `eos_token_id`:2 for open-end generation.\n",
            " 38%|███▊      | 257/675 [01:57<03:50,  1.82it/s]Setting `pad_token_id` to `eos_token_id`:2 for open-end generation.\n",
            " 38%|███▊      | 258/675 [01:58<03:38,  1.91it/s]Setting `pad_token_id` to `eos_token_id`:2 for open-end generation.\n",
            " 38%|███▊      | 259/675 [01:58<03:33,  1.95it/s]Setting `pad_token_id` to `eos_token_id`:2 for open-end generation.\n",
            " 39%|███▊      | 260/675 [01:59<03:35,  1.93it/s]Setting `pad_token_id` to `eos_token_id`:2 for open-end generation.\n",
            " 39%|███▊      | 261/675 [02:00<03:45,  1.83it/s]Setting `pad_token_id` to `eos_token_id`:2 for open-end generation.\n",
            " 39%|███▉      | 262/675 [02:00<04:34,  1.51it/s]Setting `pad_token_id` to `eos_token_id`:2 for open-end generation.\n",
            " 39%|███▉      | 263/675 [02:01<04:55,  1.39it/s]Setting `pad_token_id` to `eos_token_id`:2 for open-end generation.\n",
            " 39%|███▉      | 264/675 [02:02<05:02,  1.36it/s]Setting `pad_token_id` to `eos_token_id`:2 for open-end generation.\n",
            " 39%|███▉      | 265/675 [02:03<05:12,  1.31it/s]Setting `pad_token_id` to `eos_token_id`:2 for open-end generation.\n",
            " 39%|███▉      | 266/675 [02:03<04:42,  1.45it/s]Setting `pad_token_id` to `eos_token_id`:2 for open-end generation.\n",
            " 40%|███▉      | 267/675 [02:04<04:24,  1.54it/s]Setting `pad_token_id` to `eos_token_id`:2 for open-end generation.\n",
            " 40%|███▉      | 268/675 [02:05<04:10,  1.62it/s]Setting `pad_token_id` to `eos_token_id`:2 for open-end generation.\n",
            " 40%|███▉      | 269/675 [02:05<04:03,  1.66it/s]Setting `pad_token_id` to `eos_token_id`:2 for open-end generation.\n",
            " 40%|████      | 270/675 [02:06<03:53,  1.74it/s]Setting `pad_token_id` to `eos_token_id`:2 for open-end generation.\n",
            " 40%|████      | 271/675 [02:06<04:05,  1.65it/s]Setting `pad_token_id` to `eos_token_id`:2 for open-end generation.\n",
            " 40%|████      | 272/675 [02:07<04:20,  1.54it/s]Setting `pad_token_id` to `eos_token_id`:2 for open-end generation.\n",
            " 40%|████      | 273/675 [02:08<04:12,  1.59it/s]Setting `pad_token_id` to `eos_token_id`:2 for open-end generation.\n",
            " 41%|████      | 274/675 [02:08<04:26,  1.51it/s]Setting `pad_token_id` to `eos_token_id`:2 for open-end generation.\n",
            " 41%|████      | 275/675 [02:09<04:46,  1.40it/s]Setting `pad_token_id` to `eos_token_id`:2 for open-end generation.\n",
            " 41%|████      | 276/675 [02:10<04:29,  1.48it/s]Setting `pad_token_id` to `eos_token_id`:2 for open-end generation.\n",
            " 41%|████      | 277/675 [02:10<04:24,  1.50it/s]Setting `pad_token_id` to `eos_token_id`:2 for open-end generation.\n",
            " 41%|████      | 278/675 [02:11<04:22,  1.51it/s]Setting `pad_token_id` to `eos_token_id`:2 for open-end generation.\n",
            " 41%|████▏     | 279/675 [02:12<04:11,  1.58it/s]Setting `pad_token_id` to `eos_token_id`:2 for open-end generation.\n",
            " 41%|████▏     | 280/675 [02:12<04:04,  1.62it/s]Setting `pad_token_id` to `eos_token_id`:2 for open-end generation.\n",
            " 42%|████▏     | 281/675 [02:13<03:59,  1.64it/s]Setting `pad_token_id` to `eos_token_id`:2 for open-end generation.\n",
            " 42%|████▏     | 282/675 [02:14<04:06,  1.60it/s]Setting `pad_token_id` to `eos_token_id`:2 for open-end generation.\n",
            " 42%|████▏     | 283/675 [02:14<04:05,  1.60it/s]Setting `pad_token_id` to `eos_token_id`:2 for open-end generation.\n",
            " 42%|████▏     | 284/675 [02:15<04:02,  1.61it/s]Setting `pad_token_id` to `eos_token_id`:2 for open-end generation.\n",
            " 42%|████▏     | 285/675 [02:15<04:00,  1.62it/s]Setting `pad_token_id` to `eos_token_id`:2 for open-end generation.\n",
            " 42%|████▏     | 286/675 [02:16<03:59,  1.63it/s]Setting `pad_token_id` to `eos_token_id`:2 for open-end generation.\n",
            " 43%|████▎     | 287/675 [02:17<03:53,  1.66it/s]Setting `pad_token_id` to `eos_token_id`:2 for open-end generation.\n",
            " 43%|████▎     | 288/675 [02:17<03:53,  1.66it/s]Setting `pad_token_id` to `eos_token_id`:2 for open-end generation.\n",
            " 43%|████▎     | 289/675 [02:18<03:53,  1.65it/s]Setting `pad_token_id` to `eos_token_id`:2 for open-end generation.\n",
            " 43%|████▎     | 290/675 [02:19<04:10,  1.54it/s]Setting `pad_token_id` to `eos_token_id`:2 for open-end generation.\n",
            " 43%|████▎     | 291/675 [02:19<04:05,  1.56it/s]Setting `pad_token_id` to `eos_token_id`:2 for open-end generation.\n",
            " 43%|████▎     | 292/675 [02:20<04:00,  1.59it/s]Setting `pad_token_id` to `eos_token_id`:2 for open-end generation.\n",
            " 43%|████▎     | 293/675 [02:20<03:59,  1.60it/s]Setting `pad_token_id` to `eos_token_id`:2 for open-end generation.\n",
            " 44%|████▎     | 294/675 [02:21<04:24,  1.44it/s]Setting `pad_token_id` to `eos_token_id`:2 for open-end generation.\n",
            " 44%|████▎     | 295/675 [02:22<05:03,  1.25it/s]Setting `pad_token_id` to `eos_token_id`:2 for open-end generation.\n",
            " 44%|████▍     | 296/675 [02:23<05:09,  1.23it/s]Setting `pad_token_id` to `eos_token_id`:2 for open-end generation.\n",
            " 44%|████▍     | 297/675 [02:24<05:06,  1.23it/s]Setting `pad_token_id` to `eos_token_id`:2 for open-end generation.\n",
            " 44%|████▍     | 298/675 [02:24<04:18,  1.46it/s]Setting `pad_token_id` to `eos_token_id`:2 for open-end generation.\n",
            " 44%|████▍     | 299/675 [02:25<03:43,  1.68it/s]Setting `pad_token_id` to `eos_token_id`:2 for open-end generation.\n",
            " 44%|████▍     | 300/675 [02:25<03:20,  1.87it/s]Setting `pad_token_id` to `eos_token_id`:2 for open-end generation.\n",
            " 45%|████▍     | 301/675 [02:25<03:03,  2.04it/s]Setting `pad_token_id` to `eos_token_id`:2 for open-end generation.\n",
            " 45%|████▍     | 302/675 [02:26<02:52,  2.16it/s]Setting `pad_token_id` to `eos_token_id`:2 for open-end generation.\n",
            " 45%|████▍     | 303/675 [02:26<02:43,  2.28it/s]Setting `pad_token_id` to `eos_token_id`:2 for open-end generation.\n",
            " 45%|████▌     | 304/675 [02:27<02:44,  2.25it/s]Setting `pad_token_id` to `eos_token_id`:2 for open-end generation.\n",
            " 45%|████▌     | 305/675 [02:27<02:43,  2.26it/s]Setting `pad_token_id` to `eos_token_id`:2 for open-end generation.\n",
            " 45%|████▌     | 306/675 [02:28<02:42,  2.28it/s]Setting `pad_token_id` to `eos_token_id`:2 for open-end generation.\n",
            " 45%|████▌     | 307/675 [02:28<02:40,  2.30it/s]Setting `pad_token_id` to `eos_token_id`:2 for open-end generation.\n",
            " 46%|████▌     | 308/675 [02:28<02:39,  2.30it/s]Setting `pad_token_id` to `eos_token_id`:2 for open-end generation.\n",
            " 46%|████▌     | 309/675 [02:29<02:42,  2.25it/s]Setting `pad_token_id` to `eos_token_id`:2 for open-end generation.\n",
            " 46%|████▌     | 310/675 [02:29<02:38,  2.30it/s]Setting `pad_token_id` to `eos_token_id`:2 for open-end generation.\n",
            " 46%|████▌     | 311/675 [02:30<02:32,  2.39it/s]Setting `pad_token_id` to `eos_token_id`:2 for open-end generation.\n",
            " 46%|████▌     | 312/675 [02:30<02:30,  2.41it/s]Setting `pad_token_id` to `eos_token_id`:2 for open-end generation.\n",
            " 46%|████▋     | 313/675 [02:30<02:27,  2.46it/s]Setting `pad_token_id` to `eos_token_id`:2 for open-end generation.\n",
            " 47%|████▋     | 314/675 [02:31<02:25,  2.49it/s]Setting `pad_token_id` to `eos_token_id`:2 for open-end generation.\n",
            " 47%|████▋     | 315/675 [02:31<02:25,  2.48it/s]Setting `pad_token_id` to `eos_token_id`:2 for open-end generation.\n",
            " 47%|████▋     | 316/675 [02:32<02:23,  2.50it/s]Setting `pad_token_id` to `eos_token_id`:2 for open-end generation.\n",
            " 47%|████▋     | 317/675 [02:32<02:21,  2.54it/s]Setting `pad_token_id` to `eos_token_id`:2 for open-end generation.\n",
            " 47%|████▋     | 318/675 [02:32<02:20,  2.54it/s]Setting `pad_token_id` to `eos_token_id`:2 for open-end generation.\n",
            " 47%|████▋     | 319/675 [02:33<02:19,  2.56it/s]Setting `pad_token_id` to `eos_token_id`:2 for open-end generation.\n",
            " 47%|████▋     | 320/675 [02:33<02:18,  2.56it/s]Setting `pad_token_id` to `eos_token_id`:2 for open-end generation.\n",
            " 48%|████▊     | 321/675 [02:34<02:19,  2.55it/s]Setting `pad_token_id` to `eos_token_id`:2 for open-end generation.\n",
            " 48%|████▊     | 322/675 [02:34<02:19,  2.53it/s]Setting `pad_token_id` to `eos_token_id`:2 for open-end generation.\n",
            " 48%|████▊     | 323/675 [02:34<02:21,  2.49it/s]Setting `pad_token_id` to `eos_token_id`:2 for open-end generation.\n",
            " 48%|████▊     | 324/675 [02:35<02:22,  2.47it/s]Setting `pad_token_id` to `eos_token_id`:2 for open-end generation.\n",
            " 48%|████▊     | 325/675 [02:35<02:19,  2.51it/s]Setting `pad_token_id` to `eos_token_id`:2 for open-end generation.\n",
            " 48%|████▊     | 326/675 [02:36<02:18,  2.53it/s]Setting `pad_token_id` to `eos_token_id`:2 for open-end generation.\n",
            " 48%|████▊     | 327/675 [02:36<02:18,  2.51it/s]Setting `pad_token_id` to `eos_token_id`:2 for open-end generation.\n",
            " 49%|████▊     | 328/675 [02:36<02:17,  2.52it/s]Setting `pad_token_id` to `eos_token_id`:2 for open-end generation.\n",
            " 49%|████▊     | 329/675 [02:37<02:16,  2.53it/s]Setting `pad_token_id` to `eos_token_id`:2 for open-end generation.\n",
            " 49%|████▉     | 330/675 [02:37<02:15,  2.54it/s]Setting `pad_token_id` to `eos_token_id`:2 for open-end generation.\n",
            " 49%|████▉     | 331/675 [02:38<02:14,  2.56it/s]Setting `pad_token_id` to `eos_token_id`:2 for open-end generation.\n",
            " 49%|████▉     | 332/675 [02:38<02:12,  2.58it/s]Setting `pad_token_id` to `eos_token_id`:2 for open-end generation.\n",
            " 49%|████▉     | 333/675 [02:38<02:12,  2.58it/s]Setting `pad_token_id` to `eos_token_id`:2 for open-end generation.\n",
            " 49%|████▉     | 334/675 [02:39<02:13,  2.56it/s]Setting `pad_token_id` to `eos_token_id`:2 for open-end generation.\n",
            " 50%|████▉     | 335/675 [02:39<02:12,  2.57it/s]Setting `pad_token_id` to `eos_token_id`:2 for open-end generation.\n",
            " 50%|████▉     | 336/675 [02:40<02:19,  2.44it/s]Setting `pad_token_id` to `eos_token_id`:2 for open-end generation.\n",
            " 50%|████▉     | 337/675 [02:40<02:20,  2.40it/s]Setting `pad_token_id` to `eos_token_id`:2 for open-end generation.\n",
            " 50%|█████     | 338/675 [02:40<02:21,  2.38it/s]Setting `pad_token_id` to `eos_token_id`:2 for open-end generation.\n",
            " 50%|█████     | 339/675 [02:41<02:20,  2.39it/s]Setting `pad_token_id` to `eos_token_id`:2 for open-end generation.\n",
            " 50%|█████     | 340/675 [02:41<02:24,  2.32it/s]Setting `pad_token_id` to `eos_token_id`:2 for open-end generation.\n",
            " 51%|█████     | 341/675 [02:42<02:29,  2.23it/s]Setting `pad_token_id` to `eos_token_id`:2 for open-end generation.\n",
            " 51%|█████     | 342/675 [02:42<02:21,  2.35it/s]Setting `pad_token_id` to `eos_token_id`:2 for open-end generation.\n",
            " 51%|█████     | 343/675 [02:43<02:16,  2.43it/s]Setting `pad_token_id` to `eos_token_id`:2 for open-end generation.\n",
            " 51%|█████     | 344/675 [02:43<02:14,  2.46it/s]Setting `pad_token_id` to `eos_token_id`:2 for open-end generation.\n",
            " 51%|█████     | 345/675 [02:43<02:11,  2.51it/s]Setting `pad_token_id` to `eos_token_id`:2 for open-end generation.\n",
            " 51%|█████▏    | 346/675 [02:44<02:11,  2.51it/s]Setting `pad_token_id` to `eos_token_id`:2 for open-end generation.\n",
            " 51%|█████▏    | 347/675 [02:44<02:11,  2.49it/s]Setting `pad_token_id` to `eos_token_id`:2 for open-end generation.\n",
            " 52%|█████▏    | 348/675 [02:45<02:10,  2.50it/s]Setting `pad_token_id` to `eos_token_id`:2 for open-end generation.\n",
            " 52%|█████▏    | 349/675 [02:45<02:08,  2.54it/s]Setting `pad_token_id` to `eos_token_id`:2 for open-end generation.\n",
            " 52%|█████▏    | 350/675 [02:45<02:07,  2.55it/s]Setting `pad_token_id` to `eos_token_id`:2 for open-end generation.\n",
            " 52%|█████▏    | 351/675 [02:46<02:06,  2.56it/s]Setting `pad_token_id` to `eos_token_id`:2 for open-end generation.\n",
            " 52%|█████▏    | 352/675 [02:46<02:05,  2.57it/s]Setting `pad_token_id` to `eos_token_id`:2 for open-end generation.\n",
            " 52%|█████▏    | 353/675 [02:46<02:05,  2.58it/s]Setting `pad_token_id` to `eos_token_id`:2 for open-end generation.\n",
            " 52%|█████▏    | 354/675 [02:47<02:06,  2.54it/s]Setting `pad_token_id` to `eos_token_id`:2 for open-end generation.\n",
            " 53%|█████▎    | 355/675 [02:47<02:04,  2.58it/s]Setting `pad_token_id` to `eos_token_id`:2 for open-end generation.\n",
            " 53%|█████▎    | 356/675 [02:48<02:03,  2.58it/s]Setting `pad_token_id` to `eos_token_id`:2 for open-end generation.\n",
            " 53%|█████▎    | 357/675 [02:48<02:04,  2.56it/s]Setting `pad_token_id` to `eos_token_id`:2 for open-end generation.\n",
            " 53%|█████▎    | 358/675 [02:48<02:03,  2.57it/s]Setting `pad_token_id` to `eos_token_id`:2 for open-end generation.\n",
            " 53%|█████▎    | 359/675 [02:49<02:02,  2.58it/s]Setting `pad_token_id` to `eos_token_id`:2 for open-end generation.\n",
            " 53%|█████▎    | 360/675 [02:49<02:01,  2.59it/s]Setting `pad_token_id` to `eos_token_id`:2 for open-end generation.\n",
            " 53%|█████▎    | 361/675 [02:50<02:01,  2.58it/s]Setting `pad_token_id` to `eos_token_id`:2 for open-end generation.\n",
            " 54%|█████▎    | 362/675 [02:50<02:02,  2.56it/s]Setting `pad_token_id` to `eos_token_id`:2 for open-end generation.\n",
            " 54%|█████▍    | 363/675 [02:50<02:01,  2.57it/s]Setting `pad_token_id` to `eos_token_id`:2 for open-end generation.\n",
            " 54%|█████▍    | 364/675 [02:51<02:01,  2.57it/s]Setting `pad_token_id` to `eos_token_id`:2 for open-end generation.\n",
            " 54%|█████▍    | 365/675 [02:51<02:00,  2.58it/s]Setting `pad_token_id` to `eos_token_id`:2 for open-end generation.\n",
            " 54%|█████▍    | 366/675 [02:52<02:00,  2.56it/s]Setting `pad_token_id` to `eos_token_id`:2 for open-end generation.\n",
            " 54%|█████▍    | 367/675 [02:52<02:00,  2.56it/s]Setting `pad_token_id` to `eos_token_id`:2 for open-end generation.\n",
            " 55%|█████▍    | 368/675 [02:52<02:03,  2.48it/s]Setting `pad_token_id` to `eos_token_id`:2 for open-end generation.\n",
            " 55%|█████▍    | 369/675 [02:53<02:06,  2.42it/s]Setting `pad_token_id` to `eos_token_id`:2 for open-end generation.\n",
            " 55%|█████▍    | 370/675 [02:53<02:07,  2.40it/s]Setting `pad_token_id` to `eos_token_id`:2 for open-end generation.\n",
            " 55%|█████▍    | 371/675 [02:54<02:08,  2.37it/s]Setting `pad_token_id` to `eos_token_id`:2 for open-end generation.\n",
            " 55%|█████▌    | 372/675 [02:54<02:10,  2.32it/s]Setting `pad_token_id` to `eos_token_id`:2 for open-end generation.\n",
            " 55%|█████▌    | 373/675 [02:55<02:14,  2.25it/s]Setting `pad_token_id` to `eos_token_id`:2 for open-end generation.\n",
            " 55%|█████▌    | 374/675 [02:55<02:09,  2.32it/s]Setting `pad_token_id` to `eos_token_id`:2 for open-end generation.\n",
            " 56%|█████▌    | 375/675 [02:55<02:04,  2.41it/s]Setting `pad_token_id` to `eos_token_id`:2 for open-end generation.\n",
            " 56%|█████▌    | 376/675 [02:56<02:03,  2.43it/s]Setting `pad_token_id` to `eos_token_id`:2 for open-end generation.\n",
            " 56%|█████▌    | 377/675 [02:56<01:59,  2.50it/s]Setting `pad_token_id` to `eos_token_id`:2 for open-end generation.\n",
            " 56%|█████▌    | 378/675 [02:57<01:58,  2.51it/s]Setting `pad_token_id` to `eos_token_id`:2 for open-end generation.\n",
            " 56%|█████▌    | 379/675 [02:57<01:57,  2.51it/s]Setting `pad_token_id` to `eos_token_id`:2 for open-end generation.\n",
            " 56%|█████▋    | 380/675 [02:57<01:57,  2.51it/s]Setting `pad_token_id` to `eos_token_id`:2 for open-end generation.\n",
            " 56%|█████▋    | 381/675 [02:58<01:56,  2.53it/s]Setting `pad_token_id` to `eos_token_id`:2 for open-end generation.\n",
            " 57%|█████▋    | 382/675 [02:58<01:55,  2.54it/s]Setting `pad_token_id` to `eos_token_id`:2 for open-end generation.\n",
            " 57%|█████▋    | 383/675 [02:58<01:54,  2.55it/s]Setting `pad_token_id` to `eos_token_id`:2 for open-end generation.\n",
            " 57%|█████▋    | 384/675 [02:59<01:53,  2.57it/s]Setting `pad_token_id` to `eos_token_id`:2 for open-end generation.\n",
            " 57%|█████▋    | 385/675 [02:59<01:52,  2.58it/s]Setting `pad_token_id` to `eos_token_id`:2 for open-end generation.\n",
            " 57%|█████▋    | 386/675 [03:00<01:53,  2.54it/s]Setting `pad_token_id` to `eos_token_id`:2 for open-end generation.\n",
            " 57%|█████▋    | 387/675 [03:00<01:52,  2.55it/s]Setting `pad_token_id` to `eos_token_id`:2 for open-end generation.\n",
            " 57%|█████▋    | 388/675 [03:00<01:53,  2.53it/s]Setting `pad_token_id` to `eos_token_id`:2 for open-end generation.\n",
            " 58%|█████▊    | 389/675 [03:01<01:52,  2.54it/s]Setting `pad_token_id` to `eos_token_id`:2 for open-end generation.\n",
            " 58%|█████▊    | 390/675 [03:01<01:51,  2.57it/s]Setting `pad_token_id` to `eos_token_id`:2 for open-end generation.\n",
            " 58%|█████▊    | 391/675 [03:02<01:50,  2.57it/s]Setting `pad_token_id` to `eos_token_id`:2 for open-end generation.\n",
            " 58%|█████▊    | 392/675 [03:02<01:49,  2.59it/s]Setting `pad_token_id` to `eos_token_id`:2 for open-end generation.\n",
            " 58%|█████▊    | 393/675 [03:02<01:50,  2.54it/s]Setting `pad_token_id` to `eos_token_id`:2 for open-end generation.\n",
            " 58%|█████▊    | 394/675 [03:03<01:50,  2.55it/s]Setting `pad_token_id` to `eos_token_id`:2 for open-end generation.\n",
            " 59%|█████▊    | 395/675 [03:03<01:48,  2.58it/s]Setting `pad_token_id` to `eos_token_id`:2 for open-end generation.\n",
            " 59%|█████▊    | 396/675 [03:04<01:50,  2.52it/s]Setting `pad_token_id` to `eos_token_id`:2 for open-end generation.\n",
            " 59%|█████▉    | 397/675 [03:04<01:49,  2.55it/s]Setting `pad_token_id` to `eos_token_id`:2 for open-end generation.\n",
            " 59%|█████▉    | 398/675 [03:04<01:47,  2.58it/s]Setting `pad_token_id` to `eos_token_id`:2 for open-end generation.\n",
            " 59%|█████▉    | 399/675 [03:05<01:47,  2.58it/s]Setting `pad_token_id` to `eos_token_id`:2 for open-end generation.\n",
            " 59%|█████▉    | 400/675 [03:05<01:51,  2.47it/s]Setting `pad_token_id` to `eos_token_id`:2 for open-end generation.\n",
            " 59%|█████▉    | 401/675 [03:06<01:53,  2.41it/s]Setting `pad_token_id` to `eos_token_id`:2 for open-end generation.\n",
            " 60%|█████▉    | 402/675 [03:06<01:53,  2.40it/s]Setting `pad_token_id` to `eos_token_id`:2 for open-end generation.\n",
            " 60%|█████▉    | 403/675 [03:06<01:52,  2.41it/s]Setting `pad_token_id` to `eos_token_id`:2 for open-end generation.\n",
            " 60%|█████▉    | 404/675 [03:07<01:55,  2.34it/s]Setting `pad_token_id` to `eos_token_id`:2 for open-end generation.\n",
            " 60%|██████    | 405/675 [03:07<01:58,  2.27it/s]Setting `pad_token_id` to `eos_token_id`:2 for open-end generation.\n",
            " 60%|██████    | 406/675 [03:08<01:55,  2.34it/s]Setting `pad_token_id` to `eos_token_id`:2 for open-end generation.\n",
            " 60%|██████    | 407/675 [03:08<01:50,  2.43it/s]Setting `pad_token_id` to `eos_token_id`:2 for open-end generation.\n",
            " 60%|██████    | 408/675 [03:09<01:48,  2.46it/s]Setting `pad_token_id` to `eos_token_id`:2 for open-end generation.\n",
            " 61%|██████    | 409/675 [03:09<01:45,  2.53it/s]Setting `pad_token_id` to `eos_token_id`:2 for open-end generation.\n",
            " 61%|██████    | 410/675 [03:09<01:43,  2.57it/s]Setting `pad_token_id` to `eos_token_id`:2 for open-end generation.\n",
            " 61%|██████    | 411/675 [03:10<01:43,  2.55it/s]Setting `pad_token_id` to `eos_token_id`:2 for open-end generation.\n",
            " 61%|██████    | 412/675 [03:10<01:43,  2.55it/s]Setting `pad_token_id` to `eos_token_id`:2 for open-end generation.\n",
            " 61%|██████    | 413/675 [03:10<01:41,  2.59it/s]Setting `pad_token_id` to `eos_token_id`:2 for open-end generation.\n",
            " 61%|██████▏   | 414/675 [03:11<01:42,  2.54it/s]Setting `pad_token_id` to `eos_token_id`:2 for open-end generation.\n",
            " 61%|██████▏   | 415/675 [03:11<01:41,  2.57it/s]Setting `pad_token_id` to `eos_token_id`:2 for open-end generation.\n",
            " 62%|██████▏   | 416/675 [03:12<01:41,  2.56it/s]Setting `pad_token_id` to `eos_token_id`:2 for open-end generation.\n",
            " 62%|██████▏   | 417/675 [03:12<01:40,  2.57it/s]Setting `pad_token_id` to `eos_token_id`:2 for open-end generation.\n",
            " 62%|██████▏   | 418/675 [03:12<01:40,  2.55it/s]Setting `pad_token_id` to `eos_token_id`:2 for open-end generation.\n",
            " 62%|██████▏   | 419/675 [03:13<01:40,  2.55it/s]Setting `pad_token_id` to `eos_token_id`:2 for open-end generation.\n",
            " 62%|██████▏   | 420/675 [03:13<01:40,  2.55it/s]Setting `pad_token_id` to `eos_token_id`:2 for open-end generation.\n",
            " 62%|██████▏   | 421/675 [03:14<01:39,  2.54it/s]Setting `pad_token_id` to `eos_token_id`:2 for open-end generation.\n",
            " 63%|██████▎   | 422/675 [03:14<01:39,  2.54it/s]Setting `pad_token_id` to `eos_token_id`:2 for open-end generation.\n",
            " 63%|██████▎   | 423/675 [03:14<01:38,  2.57it/s]Setting `pad_token_id` to `eos_token_id`:2 for open-end generation.\n",
            " 63%|██████▎   | 424/675 [03:15<01:39,  2.53it/s]Setting `pad_token_id` to `eos_token_id`:2 for open-end generation.\n",
            " 63%|██████▎   | 425/675 [03:15<01:37,  2.55it/s]Setting `pad_token_id` to `eos_token_id`:2 for open-end generation.\n",
            " 63%|██████▎   | 426/675 [03:16<01:36,  2.57it/s]Setting `pad_token_id` to `eos_token_id`:2 for open-end generation.\n",
            " 63%|██████▎   | 427/675 [03:16<01:37,  2.55it/s]Setting `pad_token_id` to `eos_token_id`:2 for open-end generation.\n",
            " 63%|██████▎   | 428/675 [03:16<01:36,  2.56it/s]Setting `pad_token_id` to `eos_token_id`:2 for open-end generation.\n",
            " 64%|██████▎   | 429/675 [03:17<01:35,  2.58it/s]Setting `pad_token_id` to `eos_token_id`:2 for open-end generation.\n",
            " 64%|██████▎   | 430/675 [03:17<01:34,  2.58it/s]Setting `pad_token_id` to `eos_token_id`:2 for open-end generation.\n",
            " 64%|██████▍   | 431/675 [03:17<01:33,  2.60it/s]Setting `pad_token_id` to `eos_token_id`:2 for open-end generation.\n",
            " 64%|██████▍   | 432/675 [03:18<01:37,  2.48it/s]Setting `pad_token_id` to `eos_token_id`:2 for open-end generation.\n",
            " 64%|██████▍   | 433/675 [03:18<01:39,  2.43it/s]Setting `pad_token_id` to `eos_token_id`:2 for open-end generation.\n",
            " 64%|██████▍   | 434/675 [03:19<01:41,  2.38it/s]Setting `pad_token_id` to `eos_token_id`:2 for open-end generation.\n",
            " 64%|██████▍   | 435/675 [03:19<01:42,  2.35it/s]Setting `pad_token_id` to `eos_token_id`:2 for open-end generation.\n",
            " 65%|██████▍   | 436/675 [03:20<01:44,  2.29it/s]Setting `pad_token_id` to `eos_token_id`:2 for open-end generation.\n",
            " 65%|██████▍   | 437/675 [03:20<01:47,  2.22it/s]Setting `pad_token_id` to `eos_token_id`:2 for open-end generation.\n",
            " 65%|██████▍   | 438/675 [03:21<01:41,  2.33it/s]Setting `pad_token_id` to `eos_token_id`:2 for open-end generation.\n",
            " 65%|██████▌   | 439/675 [03:21<01:37,  2.41it/s]Setting `pad_token_id` to `eos_token_id`:2 for open-end generation.\n",
            " 65%|██████▌   | 440/675 [03:21<01:36,  2.43it/s]Setting `pad_token_id` to `eos_token_id`:2 for open-end generation.\n",
            " 65%|██████▌   | 441/675 [03:22<01:35,  2.45it/s]Setting `pad_token_id` to `eos_token_id`:2 for open-end generation.\n",
            " 65%|██████▌   | 442/675 [03:22<01:32,  2.52it/s]Setting `pad_token_id` to `eos_token_id`:2 for open-end generation.\n",
            " 66%|██████▌   | 443/675 [03:23<01:32,  2.51it/s]Setting `pad_token_id` to `eos_token_id`:2 for open-end generation.\n",
            " 66%|██████▌   | 444/675 [03:23<01:32,  2.51it/s]Setting `pad_token_id` to `eos_token_id`:2 for open-end generation.\n",
            " 66%|██████▌   | 445/675 [03:23<01:31,  2.51it/s]Setting `pad_token_id` to `eos_token_id`:2 for open-end generation.\n",
            " 66%|██████▌   | 446/675 [03:24<01:32,  2.48it/s]Setting `pad_token_id` to `eos_token_id`:2 for open-end generation.\n",
            " 66%|██████▌   | 447/675 [03:24<01:30,  2.51it/s]Setting `pad_token_id` to `eos_token_id`:2 for open-end generation.\n",
            " 66%|██████▋   | 448/675 [03:24<01:29,  2.55it/s]Setting `pad_token_id` to `eos_token_id`:2 for open-end generation.\n",
            " 67%|██████▋   | 449/675 [03:25<01:27,  2.57it/s]Setting `pad_token_id` to `eos_token_id`:2 for open-end generation.\n",
            " 67%|██████▋   | 450/675 [03:25<01:28,  2.54it/s]Setting `pad_token_id` to `eos_token_id`:2 for open-end generation.\n",
            " 67%|██████▋   | 451/675 [03:26<01:28,  2.52it/s]Setting `pad_token_id` to `eos_token_id`:2 for open-end generation.\n",
            " 67%|██████▋   | 452/675 [03:26<01:27,  2.55it/s]Setting `pad_token_id` to `eos_token_id`:2 for open-end generation.\n",
            " 67%|██████▋   | 453/675 [03:26<01:27,  2.53it/s]Setting `pad_token_id` to `eos_token_id`:2 for open-end generation.\n",
            " 67%|██████▋   | 454/675 [03:27<01:27,  2.54it/s]Setting `pad_token_id` to `eos_token_id`:2 for open-end generation.\n",
            " 67%|██████▋   | 455/675 [03:27<01:26,  2.55it/s]Setting `pad_token_id` to `eos_token_id`:2 for open-end generation.\n",
            " 68%|██████▊   | 456/675 [03:28<01:25,  2.57it/s]Setting `pad_token_id` to `eos_token_id`:2 for open-end generation.\n",
            " 68%|██████▊   | 457/675 [03:28<01:24,  2.57it/s]Setting `pad_token_id` to `eos_token_id`:2 for open-end generation.\n",
            " 68%|██████▊   | 458/675 [03:28<01:24,  2.57it/s]Setting `pad_token_id` to `eos_token_id`:2 for open-end generation.\n",
            " 68%|██████▊   | 459/675 [03:29<01:24,  2.56it/s]Setting `pad_token_id` to `eos_token_id`:2 for open-end generation.\n",
            " 68%|██████▊   | 460/675 [03:29<01:23,  2.58it/s]Setting `pad_token_id` to `eos_token_id`:2 for open-end generation.\n",
            " 68%|██████▊   | 461/675 [03:30<01:23,  2.55it/s]Setting `pad_token_id` to `eos_token_id`:2 for open-end generation.\n",
            " 68%|██████▊   | 462/675 [03:30<01:22,  2.58it/s]Setting `pad_token_id` to `eos_token_id`:2 for open-end generation.\n",
            " 69%|██████▊   | 463/675 [03:30<01:23,  2.53it/s]Setting `pad_token_id` to `eos_token_id`:2 for open-end generation.\n",
            " 69%|██████▊   | 464/675 [03:31<01:26,  2.45it/s]Setting `pad_token_id` to `eos_token_id`:2 for open-end generation.\n",
            " 69%|██████▉   | 465/675 [03:31<01:27,  2.40it/s]Setting `pad_token_id` to `eos_token_id`:2 for open-end generation.\n",
            " 69%|██████▉   | 466/675 [03:32<01:28,  2.35it/s]Setting `pad_token_id` to `eos_token_id`:2 for open-end generation.\n",
            " 69%|██████▉   | 467/675 [03:32<01:28,  2.36it/s]Setting `pad_token_id` to `eos_token_id`:2 for open-end generation.\n",
            " 69%|██████▉   | 468/675 [03:33<01:29,  2.32it/s]Setting `pad_token_id` to `eos_token_id`:2 for open-end generation.\n",
            " 69%|██████▉   | 469/675 [03:33<01:31,  2.26it/s]Setting `pad_token_id` to `eos_token_id`:2 for open-end generation.\n",
            " 70%|██████▉   | 470/675 [03:33<01:26,  2.36it/s]Setting `pad_token_id` to `eos_token_id`:2 for open-end generation.\n",
            " 70%|██████▉   | 471/675 [03:34<01:24,  2.42it/s]Setting `pad_token_id` to `eos_token_id`:2 for open-end generation.\n",
            " 70%|██████▉   | 472/675 [03:34<01:22,  2.46it/s]Setting `pad_token_id` to `eos_token_id`:2 for open-end generation.\n",
            " 70%|███████   | 473/675 [03:35<01:21,  2.49it/s]Setting `pad_token_id` to `eos_token_id`:2 for open-end generation.\n",
            " 70%|███████   | 474/675 [03:35<01:19,  2.53it/s]Setting `pad_token_id` to `eos_token_id`:2 for open-end generation.\n",
            " 70%|███████   | 475/675 [03:35<01:20,  2.49it/s]Setting `pad_token_id` to `eos_token_id`:2 for open-end generation.\n",
            " 71%|███████   | 476/675 [03:36<01:19,  2.49it/s]Setting `pad_token_id` to `eos_token_id`:2 for open-end generation.\n",
            " 71%|███████   | 477/675 [03:36<01:17,  2.55it/s]Setting `pad_token_id` to `eos_token_id`:2 for open-end generation.\n",
            " 71%|███████   | 478/675 [03:37<01:17,  2.53it/s]Setting `pad_token_id` to `eos_token_id`:2 for open-end generation.\n",
            " 71%|███████   | 479/675 [03:37<01:17,  2.53it/s]Setting `pad_token_id` to `eos_token_id`:2 for open-end generation.\n",
            " 71%|███████   | 480/675 [03:37<01:16,  2.56it/s]Setting `pad_token_id` to `eos_token_id`:2 for open-end generation.\n",
            " 71%|███████▏  | 481/675 [03:38<01:15,  2.57it/s]Setting `pad_token_id` to `eos_token_id`:2 for open-end generation.\n",
            " 71%|███████▏  | 482/675 [03:38<01:15,  2.57it/s]Setting `pad_token_id` to `eos_token_id`:2 for open-end generation.\n",
            " 72%|███████▏  | 483/675 [03:38<01:13,  2.61it/s]Setting `pad_token_id` to `eos_token_id`:2 for open-end generation.\n",
            " 72%|███████▏  | 484/675 [03:39<01:14,  2.58it/s]Setting `pad_token_id` to `eos_token_id`:2 for open-end generation.\n",
            " 72%|███████▏  | 485/675 [03:39<01:13,  2.58it/s]Setting `pad_token_id` to `eos_token_id`:2 for open-end generation.\n",
            " 72%|███████▏  | 486/675 [03:40<01:12,  2.59it/s]Setting `pad_token_id` to `eos_token_id`:2 for open-end generation.\n",
            " 72%|███████▏  | 487/675 [03:40<01:12,  2.58it/s]Setting `pad_token_id` to `eos_token_id`:2 for open-end generation.\n",
            " 72%|███████▏  | 488/675 [03:40<01:12,  2.57it/s]Setting `pad_token_id` to `eos_token_id`:2 for open-end generation.\n",
            " 72%|███████▏  | 489/675 [03:41<01:11,  2.60it/s]Setting `pad_token_id` to `eos_token_id`:2 for open-end generation.\n",
            " 73%|███████▎  | 490/675 [03:41<01:11,  2.59it/s]Setting `pad_token_id` to `eos_token_id`:2 for open-end generation.\n",
            " 73%|███████▎  | 491/675 [03:42<01:11,  2.57it/s]Setting `pad_token_id` to `eos_token_id`:2 for open-end generation.\n",
            " 73%|███████▎  | 492/675 [03:42<01:12,  2.53it/s]Setting `pad_token_id` to `eos_token_id`:2 for open-end generation.\n",
            " 73%|███████▎  | 493/675 [03:42<01:11,  2.54it/s]Setting `pad_token_id` to `eos_token_id`:2 for open-end generation.\n",
            " 73%|███████▎  | 494/675 [03:43<01:11,  2.53it/s]Setting `pad_token_id` to `eos_token_id`:2 for open-end generation.\n",
            " 73%|███████▎  | 495/675 [03:43<01:12,  2.47it/s]Setting `pad_token_id` to `eos_token_id`:2 for open-end generation.\n",
            " 73%|███████▎  | 496/675 [03:44<01:13,  2.42it/s]Setting `pad_token_id` to `eos_token_id`:2 for open-end generation.\n",
            " 74%|███████▎  | 497/675 [03:44<01:15,  2.35it/s]Setting `pad_token_id` to `eos_token_id`:2 for open-end generation.\n",
            " 74%|███████▍  | 498/675 [03:45<01:15,  2.35it/s]Setting `pad_token_id` to `eos_token_id`:2 for open-end generation.\n",
            " 74%|███████▍  | 499/675 [03:45<01:14,  2.35it/s]Setting `pad_token_id` to `eos_token_id`:2 for open-end generation.\n",
            " 74%|███████▍  | 500/675 [03:45<01:15,  2.32it/s]Setting `pad_token_id` to `eos_token_id`:2 for open-end generation.\n",
            " 74%|███████▍  | 501/675 [03:46<01:16,  2.28it/s]Setting `pad_token_id` to `eos_token_id`:2 for open-end generation.\n",
            " 74%|███████▍  | 502/675 [03:46<01:13,  2.37it/s]Setting `pad_token_id` to `eos_token_id`:2 for open-end generation.\n",
            " 75%|███████▍  | 503/675 [03:47<01:10,  2.43it/s]Setting `pad_token_id` to `eos_token_id`:2 for open-end generation.\n",
            " 75%|███████▍  | 504/675 [03:47<01:09,  2.45it/s]Setting `pad_token_id` to `eos_token_id`:2 for open-end generation.\n",
            " 75%|███████▍  | 505/675 [03:47<01:07,  2.51it/s]Setting `pad_token_id` to `eos_token_id`:2 for open-end generation.\n",
            " 75%|███████▍  | 506/675 [03:48<01:06,  2.53it/s]Setting `pad_token_id` to `eos_token_id`:2 for open-end generation.\n",
            " 75%|███████▌  | 507/675 [03:48<01:06,  2.53it/s]Setting `pad_token_id` to `eos_token_id`:2 for open-end generation.\n",
            " 75%|███████▌  | 508/675 [03:49<01:05,  2.55it/s]Setting `pad_token_id` to `eos_token_id`:2 for open-end generation.\n",
            " 75%|███████▌  | 509/675 [03:49<01:05,  2.54it/s]Setting `pad_token_id` to `eos_token_id`:2 for open-end generation.\n",
            " 76%|███████▌  | 510/675 [03:49<01:04,  2.54it/s]Setting `pad_token_id` to `eos_token_id`:2 for open-end generation.\n",
            " 76%|███████▌  | 511/675 [03:50<01:04,  2.54it/s]Setting `pad_token_id` to `eos_token_id`:2 for open-end generation.\n",
            " 76%|███████▌  | 512/675 [03:50<01:03,  2.55it/s]Setting `pad_token_id` to `eos_token_id`:2 for open-end generation.\n",
            " 76%|███████▌  | 513/675 [03:51<01:03,  2.55it/s]Setting `pad_token_id` to `eos_token_id`:2 for open-end generation.\n",
            " 76%|███████▌  | 514/675 [03:51<01:03,  2.54it/s]Setting `pad_token_id` to `eos_token_id`:2 for open-end generation.\n",
            " 76%|███████▋  | 515/675 [03:51<01:02,  2.56it/s]Setting `pad_token_id` to `eos_token_id`:2 for open-end generation.\n",
            " 76%|███████▋  | 516/675 [03:52<01:02,  2.54it/s]Setting `pad_token_id` to `eos_token_id`:2 for open-end generation.\n",
            " 77%|███████▋  | 517/675 [03:52<01:01,  2.55it/s]Setting `pad_token_id` to `eos_token_id`:2 for open-end generation.\n",
            " 77%|███████▋  | 518/675 [03:52<01:01,  2.54it/s]Setting `pad_token_id` to `eos_token_id`:2 for open-end generation.\n",
            " 77%|███████▋  | 519/675 [03:53<01:02,  2.51it/s]Setting `pad_token_id` to `eos_token_id`:2 for open-end generation.\n",
            " 77%|███████▋  | 520/675 [03:53<01:01,  2.52it/s]Setting `pad_token_id` to `eos_token_id`:2 for open-end generation.\n",
            " 77%|███████▋  | 521/675 [03:54<01:00,  2.54it/s]Setting `pad_token_id` to `eos_token_id`:2 for open-end generation.\n",
            " 77%|███████▋  | 522/675 [03:54<01:00,  2.55it/s]Setting `pad_token_id` to `eos_token_id`:2 for open-end generation.\n",
            " 77%|███████▋  | 523/675 [03:54<01:00,  2.50it/s]Setting `pad_token_id` to `eos_token_id`:2 for open-end generation.\n",
            " 78%|███████▊  | 524/675 [03:55<01:00,  2.50it/s]Setting `pad_token_id` to `eos_token_id`:2 for open-end generation.\n",
            " 78%|███████▊  | 525/675 [03:55<00:59,  2.52it/s]Setting `pad_token_id` to `eos_token_id`:2 for open-end generation.\n",
            " 78%|███████▊  | 526/675 [03:56<00:58,  2.53it/s]Setting `pad_token_id` to `eos_token_id`:2 for open-end generation.\n",
            " 78%|███████▊  | 527/675 [03:56<01:00,  2.43it/s]Setting `pad_token_id` to `eos_token_id`:2 for open-end generation.\n",
            " 78%|███████▊  | 528/675 [03:57<01:01,  2.37it/s]Setting `pad_token_id` to `eos_token_id`:2 for open-end generation.\n",
            " 78%|███████▊  | 529/675 [03:57<01:01,  2.37it/s]Setting `pad_token_id` to `eos_token_id`:2 for open-end generation.\n",
            " 79%|███████▊  | 530/675 [03:57<01:01,  2.37it/s]Setting `pad_token_id` to `eos_token_id`:2 for open-end generation.\n",
            " 79%|███████▊  | 531/675 [03:58<01:02,  2.32it/s]Setting `pad_token_id` to `eos_token_id`:2 for open-end generation.\n",
            " 79%|███████▉  | 532/675 [03:58<01:04,  2.23it/s]Setting `pad_token_id` to `eos_token_id`:2 for open-end generation.\n",
            " 79%|███████▉  | 533/675 [03:59<01:01,  2.30it/s]Setting `pad_token_id` to `eos_token_id`:2 for open-end generation.\n",
            " 79%|███████▉  | 534/675 [03:59<00:58,  2.40it/s]Setting `pad_token_id` to `eos_token_id`:2 for open-end generation.\n",
            " 79%|███████▉  | 535/675 [04:00<00:58,  2.40it/s]Setting `pad_token_id` to `eos_token_id`:2 for open-end generation.\n",
            " 79%|███████▉  | 536/675 [04:00<00:56,  2.45it/s]Setting `pad_token_id` to `eos_token_id`:2 for open-end generation.\n",
            " 80%|███████▉  | 537/675 [04:00<00:54,  2.51it/s]Setting `pad_token_id` to `eos_token_id`:2 for open-end generation.\n",
            " 80%|███████▉  | 538/675 [04:01<00:54,  2.53it/s]Setting `pad_token_id` to `eos_token_id`:2 for open-end generation.\n",
            " 80%|███████▉  | 539/675 [04:01<00:53,  2.54it/s]Setting `pad_token_id` to `eos_token_id`:2 for open-end generation.\n",
            " 80%|████████  | 540/675 [04:01<00:52,  2.56it/s]Setting `pad_token_id` to `eos_token_id`:2 for open-end generation.\n",
            " 80%|████████  | 541/675 [04:02<00:52,  2.54it/s]Setting `pad_token_id` to `eos_token_id`:2 for open-end generation.\n",
            " 80%|████████  | 542/675 [04:02<00:52,  2.53it/s]Setting `pad_token_id` to `eos_token_id`:2 for open-end generation.\n",
            " 80%|████████  | 543/675 [04:03<00:51,  2.57it/s]Setting `pad_token_id` to `eos_token_id`:2 for open-end generation.\n",
            " 81%|████████  | 544/675 [04:03<00:52,  2.49it/s]Setting `pad_token_id` to `eos_token_id`:2 for open-end generation.\n",
            " 81%|████████  | 545/675 [04:03<00:51,  2.53it/s]Setting `pad_token_id` to `eos_token_id`:2 for open-end generation.\n",
            " 81%|████████  | 546/675 [04:04<00:50,  2.53it/s]Setting `pad_token_id` to `eos_token_id`:2 for open-end generation.\n",
            " 81%|████████  | 547/675 [04:04<00:50,  2.55it/s]Setting `pad_token_id` to `eos_token_id`:2 for open-end generation.\n",
            " 81%|████████  | 548/675 [04:05<00:49,  2.56it/s]Setting `pad_token_id` to `eos_token_id`:2 for open-end generation.\n",
            " 81%|████████▏ | 549/675 [04:05<00:49,  2.55it/s]Setting `pad_token_id` to `eos_token_id`:2 for open-end generation.\n",
            " 81%|████████▏ | 550/675 [04:05<00:48,  2.56it/s]Setting `pad_token_id` to `eos_token_id`:2 for open-end generation.\n",
            " 82%|████████▏ | 551/675 [04:06<00:48,  2.58it/s]Setting `pad_token_id` to `eos_token_id`:2 for open-end generation.\n",
            " 82%|████████▏ | 552/675 [04:07<01:03,  1.92it/s]Setting `pad_token_id` to `eos_token_id`:2 for open-end generation.\n",
            " 82%|████████▏ | 553/675 [04:07<01:14,  1.64it/s]Setting `pad_token_id` to `eos_token_id`:2 for open-end generation.\n",
            " 82%|████████▏ | 554/675 [04:08<01:25,  1.41it/s]Setting `pad_token_id` to `eos_token_id`:2 for open-end generation.\n",
            " 82%|████████▏ | 555/675 [04:10<01:46,  1.13it/s]Setting `pad_token_id` to `eos_token_id`:2 for open-end generation.\n",
            " 82%|████████▏ | 556/675 [04:10<01:31,  1.30it/s]Setting `pad_token_id` to `eos_token_id`:2 for open-end generation.\n",
            " 83%|████████▎ | 557/675 [04:11<01:18,  1.51it/s]Setting `pad_token_id` to `eos_token_id`:2 for open-end generation.\n",
            " 83%|████████▎ | 558/675 [04:11<01:10,  1.67it/s]Setting `pad_token_id` to `eos_token_id`:2 for open-end generation.\n",
            " 83%|████████▎ | 559/675 [04:12<01:05,  1.78it/s]Setting `pad_token_id` to `eos_token_id`:2 for open-end generation.\n",
            " 83%|████████▎ | 560/675 [04:12<00:58,  1.97it/s]Setting `pad_token_id` to `eos_token_id`:2 for open-end generation.\n",
            " 83%|████████▎ | 561/675 [04:12<00:53,  2.14it/s]Setting `pad_token_id` to `eos_token_id`:2 for open-end generation.\n",
            " 83%|████████▎ | 562/675 [04:13<00:50,  2.22it/s]Setting `pad_token_id` to `eos_token_id`:2 for open-end generation.\n",
            " 83%|████████▎ | 563/675 [04:13<00:48,  2.32it/s]Setting `pad_token_id` to `eos_token_id`:2 for open-end generation.\n",
            " 84%|████████▎ | 564/675 [04:13<00:46,  2.39it/s]Setting `pad_token_id` to `eos_token_id`:2 for open-end generation.\n",
            " 84%|████████▎ | 565/675 [04:14<00:45,  2.42it/s]Setting `pad_token_id` to `eos_token_id`:2 for open-end generation.\n",
            " 84%|████████▍ | 566/675 [04:14<00:43,  2.49it/s]Setting `pad_token_id` to `eos_token_id`:2 for open-end generation.\n",
            " 84%|████████▍ | 567/675 [04:15<00:42,  2.52it/s]Setting `pad_token_id` to `eos_token_id`:2 for open-end generation.\n",
            " 84%|████████▍ | 568/675 [04:15<00:42,  2.53it/s]Setting `pad_token_id` to `eos_token_id`:2 for open-end generation.\n",
            " 84%|████████▍ | 569/675 [04:15<00:41,  2.57it/s]Setting `pad_token_id` to `eos_token_id`:2 for open-end generation.\n",
            " 84%|████████▍ | 570/675 [04:16<00:40,  2.59it/s]Setting `pad_token_id` to `eos_token_id`:2 for open-end generation.\n",
            " 85%|████████▍ | 571/675 [04:16<00:40,  2.60it/s]Setting `pad_token_id` to `eos_token_id`:2 for open-end generation.\n",
            " 85%|████████▍ | 572/675 [04:17<00:40,  2.55it/s]Setting `pad_token_id` to `eos_token_id`:2 for open-end generation.\n",
            " 85%|████████▍ | 573/675 [04:17<00:39,  2.56it/s]Setting `pad_token_id` to `eos_token_id`:2 for open-end generation.\n",
            " 85%|████████▌ | 574/675 [04:17<00:39,  2.57it/s]Setting `pad_token_id` to `eos_token_id`:2 for open-end generation.\n",
            " 85%|████████▌ | 575/675 [04:18<00:39,  2.56it/s]Setting `pad_token_id` to `eos_token_id`:2 for open-end generation.\n",
            " 85%|████████▌ | 576/675 [04:18<00:38,  2.58it/s]Setting `pad_token_id` to `eos_token_id`:2 for open-end generation.\n",
            " 85%|████████▌ | 577/675 [04:18<00:37,  2.60it/s]Setting `pad_token_id` to `eos_token_id`:2 for open-end generation.\n",
            " 86%|████████▌ | 578/675 [04:19<00:37,  2.59it/s]Setting `pad_token_id` to `eos_token_id`:2 for open-end generation.\n",
            " 86%|████████▌ | 579/675 [04:19<00:36,  2.61it/s]Setting `pad_token_id` to `eos_token_id`:2 for open-end generation.\n",
            " 86%|████████▌ | 580/675 [04:20<00:36,  2.58it/s]Setting `pad_token_id` to `eos_token_id`:2 for open-end generation.\n",
            " 86%|████████▌ | 581/675 [04:20<00:36,  2.57it/s]Setting `pad_token_id` to `eos_token_id`:2 for open-end generation.\n",
            " 86%|████████▌ | 582/675 [04:20<00:36,  2.56it/s]Setting `pad_token_id` to `eos_token_id`:2 for open-end generation.\n",
            " 86%|████████▋ | 583/675 [04:21<00:35,  2.57it/s]Setting `pad_token_id` to `eos_token_id`:2 for open-end generation.\n",
            " 87%|████████▋ | 584/675 [04:21<00:35,  2.58it/s]Setting `pad_token_id` to `eos_token_id`:2 for open-end generation.\n",
            " 87%|████████▋ | 585/675 [04:22<00:36,  2.46it/s]Setting `pad_token_id` to `eos_token_id`:2 for open-end generation.\n",
            " 87%|████████▋ | 586/675 [04:22<00:36,  2.41it/s]Setting `pad_token_id` to `eos_token_id`:2 for open-end generation.\n",
            " 87%|████████▋ | 587/675 [04:23<00:37,  2.37it/s]Setting `pad_token_id` to `eos_token_id`:2 for open-end generation.\n",
            " 87%|████████▋ | 588/675 [04:23<00:36,  2.36it/s]Setting `pad_token_id` to `eos_token_id`:2 for open-end generation.\n",
            " 87%|████████▋ | 589/675 [04:23<00:37,  2.32it/s]Setting `pad_token_id` to `eos_token_id`:2 for open-end generation.\n",
            " 87%|████████▋ | 590/675 [04:24<00:38,  2.22it/s]Setting `pad_token_id` to `eos_token_id`:2 for open-end generation.\n",
            " 88%|████████▊ | 591/675 [04:24<00:38,  2.19it/s]Setting `pad_token_id` to `eos_token_id`:2 for open-end generation.\n",
            " 88%|████████▊ | 592/675 [04:25<00:36,  2.29it/s]Setting `pad_token_id` to `eos_token_id`:2 for open-end generation.\n",
            " 88%|████████▊ | 593/675 [04:25<00:35,  2.30it/s]Setting `pad_token_id` to `eos_token_id`:2 for open-end generation.\n",
            " 88%|████████▊ | 594/675 [04:26<00:34,  2.38it/s]Setting `pad_token_id` to `eos_token_id`:2 for open-end generation.\n",
            " 88%|████████▊ | 595/675 [04:26<00:33,  2.38it/s]Setting `pad_token_id` to `eos_token_id`:2 for open-end generation.\n",
            " 88%|████████▊ | 596/675 [04:26<00:32,  2.45it/s]Setting `pad_token_id` to `eos_token_id`:2 for open-end generation.\n",
            " 88%|████████▊ | 597/675 [04:27<00:31,  2.45it/s]Setting `pad_token_id` to `eos_token_id`:2 for open-end generation.\n",
            " 89%|████████▊ | 598/675 [04:27<00:31,  2.45it/s]Setting `pad_token_id` to `eos_token_id`:2 for open-end generation.\n",
            " 89%|████████▊ | 599/675 [04:28<00:30,  2.47it/s]Setting `pad_token_id` to `eos_token_id`:2 for open-end generation.\n",
            " 89%|████████▉ | 600/675 [04:28<00:30,  2.46it/s]Setting `pad_token_id` to `eos_token_id`:2 for open-end generation.\n",
            " 89%|████████▉ | 601/675 [04:28<00:29,  2.49it/s]Setting `pad_token_id` to `eos_token_id`:2 for open-end generation.\n",
            " 89%|████████▉ | 602/675 [04:29<00:28,  2.52it/s]Setting `pad_token_id` to `eos_token_id`:2 for open-end generation.\n",
            " 89%|████████▉ | 603/675 [04:29<00:28,  2.51it/s]Setting `pad_token_id` to `eos_token_id`:2 for open-end generation.\n",
            " 89%|████████▉ | 604/675 [04:30<00:27,  2.54it/s]Setting `pad_token_id` to `eos_token_id`:2 for open-end generation.\n",
            " 90%|████████▉ | 605/675 [04:30<00:27,  2.56it/s]Setting `pad_token_id` to `eos_token_id`:2 for open-end generation.\n",
            " 90%|████████▉ | 606/675 [04:30<00:27,  2.56it/s]Setting `pad_token_id` to `eos_token_id`:2 for open-end generation.\n",
            " 90%|████████▉ | 607/675 [04:31<00:26,  2.58it/s]Setting `pad_token_id` to `eos_token_id`:2 for open-end generation.\n",
            " 90%|█████████ | 608/675 [04:31<00:26,  2.49it/s]Setting `pad_token_id` to `eos_token_id`:2 for open-end generation.\n",
            " 90%|█████████ | 609/675 [04:32<00:26,  2.50it/s]Setting `pad_token_id` to `eos_token_id`:2 for open-end generation.\n",
            " 90%|█████████ | 610/675 [04:32<00:25,  2.53it/s]Setting `pad_token_id` to `eos_token_id`:2 for open-end generation.\n",
            " 91%|█████████ | 611/675 [04:32<00:25,  2.53it/s]Setting `pad_token_id` to `eos_token_id`:2 for open-end generation.\n",
            " 91%|█████████ | 612/675 [04:33<00:24,  2.54it/s]Setting `pad_token_id` to `eos_token_id`:2 for open-end generation.\n",
            " 91%|█████████ | 613/675 [04:33<00:24,  2.50it/s]Setting `pad_token_id` to `eos_token_id`:2 for open-end generation.\n",
            " 91%|█████████ | 614/675 [04:34<00:24,  2.53it/s]Setting `pad_token_id` to `eos_token_id`:2 for open-end generation.\n",
            " 91%|█████████ | 615/675 [04:34<00:23,  2.54it/s]Setting `pad_token_id` to `eos_token_id`:2 for open-end generation.\n",
            " 91%|█████████▏| 616/675 [04:34<00:23,  2.52it/s]Setting `pad_token_id` to `eos_token_id`:2 for open-end generation.\n",
            " 91%|█████████▏| 617/675 [04:35<00:24,  2.41it/s]Setting `pad_token_id` to `eos_token_id`:2 for open-end generation.\n",
            " 92%|█████████▏| 618/675 [04:35<00:24,  2.37it/s]Setting `pad_token_id` to `eos_token_id`:2 for open-end generation.\n",
            " 92%|█████████▏| 619/675 [04:36<00:23,  2.36it/s]Setting `pad_token_id` to `eos_token_id`:2 for open-end generation.\n",
            " 92%|█████████▏| 620/675 [04:36<00:23,  2.36it/s]Setting `pad_token_id` to `eos_token_id`:2 for open-end generation.\n",
            " 92%|█████████▏| 621/675 [04:36<00:23,  2.34it/s]Setting `pad_token_id` to `eos_token_id`:2 for open-end generation.\n",
            " 92%|█████████▏| 622/675 [04:37<00:23,  2.30it/s]Setting `pad_token_id` to `eos_token_id`:2 for open-end generation.\n",
            " 92%|█████████▏| 623/675 [04:37<00:22,  2.28it/s]Setting `pad_token_id` to `eos_token_id`:2 for open-end generation.\n",
            " 92%|█████████▏| 624/675 [04:38<00:21,  2.38it/s]Setting `pad_token_id` to `eos_token_id`:2 for open-end generation.\n",
            " 93%|█████████▎| 625/675 [04:38<00:20,  2.44it/s]Setting `pad_token_id` to `eos_token_id`:2 for open-end generation.\n",
            " 93%|█████████▎| 626/675 [04:39<00:19,  2.46it/s]Setting `pad_token_id` to `eos_token_id`:2 for open-end generation.\n",
            " 93%|█████████▎| 627/675 [04:39<00:19,  2.52it/s]Setting `pad_token_id` to `eos_token_id`:2 for open-end generation.\n",
            " 93%|█████████▎| 628/675 [04:39<00:18,  2.56it/s]Setting `pad_token_id` to `eos_token_id`:2 for open-end generation.\n",
            " 93%|█████████▎| 629/675 [04:40<00:18,  2.55it/s]Setting `pad_token_id` to `eos_token_id`:2 for open-end generation.\n",
            " 93%|█████████▎| 630/675 [04:40<00:17,  2.56it/s]Setting `pad_token_id` to `eos_token_id`:2 for open-end generation.\n",
            " 93%|█████████▎| 631/675 [04:40<00:17,  2.56it/s]Setting `pad_token_id` to `eos_token_id`:2 for open-end generation.\n",
            " 94%|█████████▎| 632/675 [04:41<00:16,  2.55it/s]Setting `pad_token_id` to `eos_token_id`:2 for open-end generation.\n",
            " 94%|█████████▍| 633/675 [04:41<00:16,  2.58it/s]Setting `pad_token_id` to `eos_token_id`:2 for open-end generation.\n",
            " 94%|█████████▍| 634/675 [04:42<00:15,  2.58it/s]Setting `pad_token_id` to `eos_token_id`:2 for open-end generation.\n",
            " 94%|█████████▍| 635/675 [04:42<00:15,  2.57it/s]Setting `pad_token_id` to `eos_token_id`:2 for open-end generation.\n",
            " 94%|█████████▍| 636/675 [04:42<00:15,  2.60it/s]Setting `pad_token_id` to `eos_token_id`:2 for open-end generation.\n",
            " 94%|█████████▍| 637/675 [04:43<00:14,  2.57it/s]Setting `pad_token_id` to `eos_token_id`:2 for open-end generation.\n",
            " 95%|█████████▍| 638/675 [04:43<00:14,  2.55it/s]Setting `pad_token_id` to `eos_token_id`:2 for open-end generation.\n",
            " 95%|█████████▍| 639/675 [04:44<00:14,  2.53it/s]Setting `pad_token_id` to `eos_token_id`:2 for open-end generation.\n",
            " 95%|█████████▍| 640/675 [04:44<00:13,  2.51it/s]Setting `pad_token_id` to `eos_token_id`:2 for open-end generation.\n",
            " 95%|█████████▍| 641/675 [04:44<00:13,  2.54it/s]Setting `pad_token_id` to `eos_token_id`:2 for open-end generation.\n",
            " 95%|█████████▌| 642/675 [04:45<00:12,  2.54it/s]Setting `pad_token_id` to `eos_token_id`:2 for open-end generation.\n",
            " 95%|█████████▌| 643/675 [04:45<00:12,  2.53it/s]Setting `pad_token_id` to `eos_token_id`:2 for open-end generation.\n",
            " 95%|█████████▌| 644/675 [04:46<00:12,  2.51it/s]Setting `pad_token_id` to `eos_token_id`:2 for open-end generation.\n",
            " 96%|█████████▌| 645/675 [04:46<00:11,  2.53it/s]Setting `pad_token_id` to `eos_token_id`:2 for open-end generation.\n",
            " 96%|█████████▌| 646/675 [04:46<00:11,  2.55it/s]Setting `pad_token_id` to `eos_token_id`:2 for open-end generation.\n",
            " 96%|█████████▌| 647/675 [04:47<00:10,  2.55it/s]Setting `pad_token_id` to `eos_token_id`:2 for open-end generation.\n",
            " 96%|█████████▌| 648/675 [04:47<00:10,  2.57it/s]Setting `pad_token_id` to `eos_token_id`:2 for open-end generation.\n",
            " 96%|█████████▌| 649/675 [04:48<00:10,  2.44it/s]Setting `pad_token_id` to `eos_token_id`:2 for open-end generation.\n",
            " 96%|█████████▋| 650/675 [04:48<00:10,  2.44it/s]Setting `pad_token_id` to `eos_token_id`:2 for open-end generation.\n",
            " 96%|█████████▋| 651/675 [04:48<00:09,  2.41it/s]Setting `pad_token_id` to `eos_token_id`:2 for open-end generation.\n",
            " 97%|█████████▋| 652/675 [04:49<00:09,  2.35it/s]Setting `pad_token_id` to `eos_token_id`:2 for open-end generation.\n",
            " 97%|█████████▋| 653/675 [04:49<00:09,  2.37it/s]Setting `pad_token_id` to `eos_token_id`:2 for open-end generation.\n",
            " 97%|█████████▋| 654/675 [04:50<00:09,  2.31it/s]Setting `pad_token_id` to `eos_token_id`:2 for open-end generation.\n",
            " 97%|█████████▋| 655/675 [04:50<00:08,  2.29it/s]Setting `pad_token_id` to `eos_token_id`:2 for open-end generation.\n",
            " 97%|█████████▋| 656/675 [04:51<00:08,  2.36it/s]Setting `pad_token_id` to `eos_token_id`:2 for open-end generation.\n",
            " 97%|█████████▋| 657/675 [04:51<00:07,  2.42it/s]Setting `pad_token_id` to `eos_token_id`:2 for open-end generation.\n",
            " 97%|█████████▋| 658/675 [04:51<00:06,  2.47it/s]Setting `pad_token_id` to `eos_token_id`:2 for open-end generation.\n",
            " 98%|█████████▊| 659/675 [04:52<00:06,  2.52it/s]Setting `pad_token_id` to `eos_token_id`:2 for open-end generation.\n",
            " 98%|█████████▊| 660/675 [04:52<00:05,  2.54it/s]Setting `pad_token_id` to `eos_token_id`:2 for open-end generation.\n",
            " 98%|█████████▊| 661/675 [04:53<00:05,  2.53it/s]Setting `pad_token_id` to `eos_token_id`:2 for open-end generation.\n",
            " 98%|█████████▊| 662/675 [04:53<00:05,  2.52it/s]Setting `pad_token_id` to `eos_token_id`:2 for open-end generation.\n",
            " 98%|█████████▊| 663/675 [04:53<00:04,  2.53it/s]Setting `pad_token_id` to `eos_token_id`:2 for open-end generation.\n",
            " 98%|█████████▊| 664/675 [04:54<00:04,  2.54it/s]Setting `pad_token_id` to `eos_token_id`:2 for open-end generation.\n",
            " 99%|█████████▊| 665/675 [04:54<00:03,  2.55it/s]Setting `pad_token_id` to `eos_token_id`:2 for open-end generation.\n",
            " 99%|█████████▊| 666/675 [04:54<00:03,  2.57it/s]Setting `pad_token_id` to `eos_token_id`:2 for open-end generation.\n",
            " 99%|█████████▉| 667/675 [04:55<00:03,  2.56it/s]Setting `pad_token_id` to `eos_token_id`:2 for open-end generation.\n",
            " 99%|█████████▉| 668/675 [04:55<00:02,  2.58it/s]Setting `pad_token_id` to `eos_token_id`:2 for open-end generation.\n",
            " 99%|█████████▉| 669/675 [04:56<00:02,  2.59it/s]Setting `pad_token_id` to `eos_token_id`:2 for open-end generation.\n",
            " 99%|█████████▉| 670/675 [04:56<00:01,  2.54it/s]Setting `pad_token_id` to `eos_token_id`:2 for open-end generation.\n",
            " 99%|█████████▉| 671/675 [04:56<00:01,  2.55it/s]Setting `pad_token_id` to `eos_token_id`:2 for open-end generation.\n",
            "100%|█████████▉| 672/675 [04:57<00:01,  2.55it/s]Setting `pad_token_id` to `eos_token_id`:2 for open-end generation.\n",
            "100%|█████████▉| 673/675 [04:57<00:00,  2.55it/s]Setting `pad_token_id` to `eos_token_id`:2 for open-end generation.\n",
            "100%|█████████▉| 674/675 [04:58<00:00,  2.57it/s]Setting `pad_token_id` to `eos_token_id`:2 for open-end generation.\n",
            "100%|██████████| 675/675 [04:58<00:00,  2.26it/s]"
          ]
        },
        {
          "output_type": "stream",
          "name": "stdout",
          "text": [
            "\n",
            "✅ Accuracy: 0.8963\n",
            "\n",
            "📊 Classification Report:\n",
            "                precision    recall  f1-score   support\n",
            "\n",
            "Non-Procedural       0.91      0.76      0.82       217\n",
            "    Procedural       0.89      0.96      0.93       458\n",
            "\n",
            "      accuracy                           0.90       675\n",
            "     macro avg       0.90      0.86      0.88       675\n",
            "  weighted avg       0.90      0.90      0.89       675\n",
            "\n"
          ]
        },
        {
          "output_type": "stream",
          "name": "stderr",
          "text": [
            "\n"
          ]
        }
      ],
      "source": [
        "from sklearn.metrics import classification_report, accuracy_score\n",
        "from tqdm import tqdm\n",
        "\n",
        "\n",
        "def predict(example):\n",
        "    prompt = f\"SENTENCE: {example['text']}\\nIs it procedural?\"\n",
        "    inputs = tokenizer(prompt, return_tensors=\"pt\", padding=True, truncation=True).to(model.device)\n",
        "    output = model.generate(**inputs, max_new_tokens=5)\n",
        "    decoded = tokenizer.decode(output[0], skip_special_tokens=True)\n",
        "\n",
        "\n",
        "    prediction = 1 if \"Yes\" in decoded else 0\n",
        "    return prediction\n",
        "\n",
        "\n",
        "y_true = test_df[\"label\"].tolist()\n",
        "y_pred = []\n",
        "\n",
        "for _, row in tqdm(test_df.iterrows(), total=len(test_df)):\n",
        "    pred = predict(row)\n",
        "    y_pred.append(pred)\n",
        "\n",
        "\n",
        "acc = accuracy_score(y_true, y_pred)\n",
        "print(f\"\\n Accuracy: {acc:.4f}\\n\")\n",
        "\n",
        "print(\" Classification Report:\")\n",
        "print(classification_report(y_true, y_pred, target_names=[\"Non-Procedural\", \"Procedural\"]))\n"
      ]
    },
    {
      "cell_type": "code",
      "execution_count": null,
      "metadata": {
        "id": "tyVaacLagxr5"
      },
      "outputs": [],
      "source": [
        "test = X_test.reset_index()['text'][3]\n",
        "prompt = f\"SENTENCE: {test}\\nIs it procedural?\"\n",
        "inputs = tokenizer(prompt, return_tensors=\"pt\", padding=True, truncation=True).to(model.device)\n",
        "output = model.generate(**inputs, max_new_tokens=5)\n",
        "decoded = tokenizer.decode(output[0], skip_special_tokens=True)\n",
        "prediction = 1 if \"Yes\" in decoded else 0\n",
        "prediction"
      ]
    },
    {
      "cell_type": "code",
      "source": [],
      "metadata": {
        "id": "5TgTyOtQgxr6"
      },
      "execution_count": null,
      "outputs": []
    },
    {
      "cell_type": "code",
      "source": [],
      "metadata": {
        "id": "TpDqBgq8QXuq"
      },
      "execution_count": null,
      "outputs": []
    }
  ]
}